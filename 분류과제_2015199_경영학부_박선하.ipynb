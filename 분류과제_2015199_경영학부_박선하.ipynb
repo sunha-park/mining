{
  "cells": [
    {
      "cell_type": "markdown",
      "metadata": {
        "id": "view-in-github",
        "colab_type": "text"
      },
      "source": [
        "<a href=\"https://colab.research.google.com/github/sunha-park/mining/blob/main/%EB%B6%84%EB%A5%98%EA%B3%BC%EC%A0%9C_2015199_%EA%B2%BD%EC%98%81%ED%95%99%EB%B6%80_%EB%B0%95%EC%84%A0%ED%95%98.ipynb\" target=\"_parent\"><img src=\"https://colab.research.google.com/assets/colab-badge.svg\" alt=\"Open In Colab\"/></a>"
      ]
    },
    {
      "cell_type": "markdown",
      "metadata": {
        "id": "6d66_Rj1hPaE"
      },
      "source": [
        "# 분류과제 - 2020년도 건강검진정보 샘플(1만건)\n"
      ]
    },
    {
      "cell_type": "code",
      "source": [
        "!pip install mglearn "
      ],
      "metadata": {
        "colab": {
          "base_uri": "https://localhost:8080/"
        },
        "id": "qq32Vvu3uDgU",
        "outputId": "c97f4d6a-4aae-463d-aa5e-15be2547e885"
      },
      "execution_count": 1,
      "outputs": [
        {
          "output_type": "stream",
          "name": "stdout",
          "text": [
            "Looking in indexes: https://pypi.org/simple, https://us-python.pkg.dev/colab-wheels/public/simple/\n",
            "Requirement already satisfied: mglearn in /usr/local/lib/python3.7/dist-packages (0.1.9)\n",
            "Requirement already satisfied: pillow in /usr/local/lib/python3.7/dist-packages (from mglearn) (7.1.2)\n",
            "Requirement already satisfied: cycler in /usr/local/lib/python3.7/dist-packages (from mglearn) (0.11.0)\n",
            "Requirement already satisfied: matplotlib in /usr/local/lib/python3.7/dist-packages (from mglearn) (3.2.2)\n",
            "Requirement already satisfied: pandas in /usr/local/lib/python3.7/dist-packages (from mglearn) (1.3.5)\n",
            "Requirement already satisfied: numpy in /usr/local/lib/python3.7/dist-packages (from mglearn) (1.21.6)\n",
            "Requirement already satisfied: scikit-learn in /usr/local/lib/python3.7/dist-packages (from mglearn) (1.0.2)\n",
            "Requirement already satisfied: joblib in /usr/local/lib/python3.7/dist-packages (from mglearn) (1.1.0)\n",
            "Requirement already satisfied: imageio in /usr/local/lib/python3.7/dist-packages (from mglearn) (2.9.0)\n",
            "Requirement already satisfied: kiwisolver>=1.0.1 in /usr/local/lib/python3.7/dist-packages (from matplotlib->mglearn) (1.4.4)\n",
            "Requirement already satisfied: python-dateutil>=2.1 in /usr/local/lib/python3.7/dist-packages (from matplotlib->mglearn) (2.8.2)\n",
            "Requirement already satisfied: pyparsing!=2.0.4,!=2.1.2,!=2.1.6,>=2.0.1 in /usr/local/lib/python3.7/dist-packages (from matplotlib->mglearn) (3.0.9)\n",
            "Requirement already satisfied: typing-extensions in /usr/local/lib/python3.7/dist-packages (from kiwisolver>=1.0.1->matplotlib->mglearn) (4.1.1)\n",
            "Requirement already satisfied: six>=1.5 in /usr/local/lib/python3.7/dist-packages (from python-dateutil>=2.1->matplotlib->mglearn) (1.15.0)\n",
            "Requirement already satisfied: pytz>=2017.3 in /usr/local/lib/python3.7/dist-packages (from pandas->mglearn) (2022.6)\n",
            "Requirement already satisfied: threadpoolctl>=2.0.0 in /usr/local/lib/python3.7/dist-packages (from scikit-learn->mglearn) (3.1.0)\n",
            "Requirement already satisfied: scipy>=1.1.0 in /usr/local/lib/python3.7/dist-packages (from scikit-learn->mglearn) (1.7.3)\n"
          ]
        }
      ]
    },
    {
      "cell_type": "code",
      "source": [
        "!pip install --upgrade joblib==1.1.0"
      ],
      "metadata": {
        "colab": {
          "base_uri": "https://localhost:8080/"
        },
        "id": "t5OiYWBGuIBd",
        "outputId": "2406fcbc-1af9-4b03-bc14-f62f3edce139"
      },
      "execution_count": 2,
      "outputs": [
        {
          "output_type": "stream",
          "name": "stdout",
          "text": [
            "Looking in indexes: https://pypi.org/simple, https://us-python.pkg.dev/colab-wheels/public/simple/\n",
            "Requirement already satisfied: joblib==1.1.0 in /usr/local/lib/python3.7/dist-packages (1.1.0)\n"
          ]
        }
      ]
    },
    {
      "cell_type": "code",
      "source": [
        "import mglearn"
      ],
      "metadata": {
        "id": "QSxoXyQPuKVs"
      },
      "execution_count": 3,
      "outputs": []
    },
    {
      "cell_type": "code",
      "source": [
        "from google.colab import drive\n",
        "drive.mount('/content/drive')"
      ],
      "metadata": {
        "colab": {
          "base_uri": "https://localhost:8080/"
        },
        "id": "n6CekL2WhVpy",
        "outputId": "f103ff6c-f5bb-4a42-e8dc-faf9b9645b8f"
      },
      "execution_count": 4,
      "outputs": [
        {
          "output_type": "stream",
          "name": "stdout",
          "text": [
            "Drive already mounted at /content/drive; to attempt to forcibly remount, call drive.mount(\"/content/drive\", force_remount=True).\n"
          ]
        }
      ]
    },
    {
      "cell_type": "markdown",
      "metadata": {
        "id": "HjPYHOxdhPaG"
      },
      "source": [
        "## 데이터 불러오기"
      ]
    },
    {
      "cell_type": "code",
      "execution_count": 5,
      "metadata": {
        "colab": {
          "base_uri": "https://localhost:8080/"
        },
        "id": "KnHH2O17hPaG",
        "outputId": "58222c47-219f-4e39-e572-fa92fe58762d"
      },
      "outputs": [
        {
          "output_type": "stream",
          "name": "stdout",
          "text": [
            "Reading package lists... Done\n",
            "Building dependency tree       \n",
            "Reading state information... Done\n",
            "fonts-nanum is already the newest version (20170925-1).\n",
            "The following package was automatically installed and is no longer required:\n",
            "  libnvidia-common-460\n",
            "Use 'sudo apt autoremove' to remove it.\n",
            "0 upgraded, 0 newly installed, 0 to remove and 5 not upgraded.\n",
            "/usr/share/fonts: caching, new cache contents: 0 fonts, 1 dirs\n",
            "/usr/share/fonts/truetype: caching, new cache contents: 0 fonts, 3 dirs\n",
            "/usr/share/fonts/truetype/humor-sans: caching, new cache contents: 1 fonts, 0 dirs\n",
            "/usr/share/fonts/truetype/liberation: caching, new cache contents: 16 fonts, 0 dirs\n",
            "/usr/share/fonts/truetype/nanum: caching, new cache contents: 10 fonts, 0 dirs\n",
            "/usr/local/share/fonts: caching, new cache contents: 0 fonts, 0 dirs\n",
            "/root/.local/share/fonts: skipping, no such directory\n",
            "/root/.fonts: skipping, no such directory\n",
            "/var/cache/fontconfig: cleaning cache directory\n",
            "/root/.cache/fontconfig: not cleaning non-existent cache directory\n",
            "/root/.fontconfig: not cleaning non-existent cache directory\n",
            "fc-cache: succeeded\n"
          ]
        }
      ],
      "source": [
        "%matplotlib inline\n",
        "import pandas as pd\n",
        "import numpy as np\n",
        "import seaborn as sns\n",
        "import matplotlib\n",
        "import matplotlib.pyplot as plt\n",
        "import matplotlib.font_manager as fm\n",
        "\n",
        "!sudo apt-get install -y fonts-nanum\n",
        "!sudo fc-cache -fv\n",
        "!rm ~/.cache/matplotlib -rf"
      ]
    },
    {
      "cell_type": "code",
      "execution_count": 6,
      "metadata": {
        "id": "uLUa8i99hPaH"
      },
      "outputs": [],
      "source": [
        "plt.rcParams['font.family'] = 'NanumBarunGothic'\n",
        "plt.rcParams['axes.unicode_minus']=False"
      ]
    },
    {
      "cell_type": "code",
      "execution_count": 7,
      "metadata": {
        "colab": {
          "base_uri": "https://localhost:8080/",
          "height": 332
        },
        "id": "7Ci6q62-hPaH",
        "outputId": "16daf61a-30f5-440c-894f-90f029efc5d8"
      },
      "outputs": [
        {
          "output_type": "execute_result",
          "data": {
            "text/plain": [
              "   기준년도  가입자일련번호  시도코드 성별코드  연령대코드(5세단위)  신장(5Cm단위)  체중(5Kg 단위)  허리둘레  시력(좌)  \\\n",
              "0  2020        1    36    M            9        165          60  72.1    1.2   \n",
              "1  2020        2    27    F           13        150          65  81.0    0.8   \n",
              "2  2020        3    11    F           12        155          55  70.0    0.6   \n",
              "3  2020        4    31    M           13        160          70  90.8    1.0   \n",
              "4  2020        5    41    F           12        155          50  75.2    1.5   \n",
              "\n",
              "   시력(우)  ...  혈청크레아티닌  (혈청지오티)AST  (혈청지오티)ALT  감마지티피  흡연상태  음주여부  구강검진수검여부  \\\n",
              "0    1.5  ...      1.1        21.0        27.0   21.0    No    No         0   \n",
              "1    0.8  ...      0.5        18.0        15.0   15.0    No    No         0   \n",
              "2    0.7  ...      0.7        27.0        25.0    7.0    No    No         0   \n",
              "3    1.0  ...      1.2        65.0        97.0   72.0    No    No         1   \n",
              "4    1.2  ...      0.7        18.0        17.0   14.0    No    No         0   \n",
              "\n",
              "   치아우식증유무   치석     데이터공개일자  \n",
              "0      NaN  NaN  12/29/2021  \n",
              "1      NaN  NaN  12/29/2021  \n",
              "2      NaN  NaN  12/29/2021  \n",
              "3      0.0  0.0  12/29/2021  \n",
              "4      NaN  NaN  12/29/2021  \n",
              "\n",
              "[5 rows x 31 columns]"
            ],
            "text/html": [
              "\n",
              "  <div id=\"df-d06ba67a-1235-4d1c-904d-9a90567fb302\">\n",
              "    <div class=\"colab-df-container\">\n",
              "      <div>\n",
              "<style scoped>\n",
              "    .dataframe tbody tr th:only-of-type {\n",
              "        vertical-align: middle;\n",
              "    }\n",
              "\n",
              "    .dataframe tbody tr th {\n",
              "        vertical-align: top;\n",
              "    }\n",
              "\n",
              "    .dataframe thead th {\n",
              "        text-align: right;\n",
              "    }\n",
              "</style>\n",
              "<table border=\"1\" class=\"dataframe\">\n",
              "  <thead>\n",
              "    <tr style=\"text-align: right;\">\n",
              "      <th></th>\n",
              "      <th>기준년도</th>\n",
              "      <th>가입자일련번호</th>\n",
              "      <th>시도코드</th>\n",
              "      <th>성별코드</th>\n",
              "      <th>연령대코드(5세단위)</th>\n",
              "      <th>신장(5Cm단위)</th>\n",
              "      <th>체중(5Kg 단위)</th>\n",
              "      <th>허리둘레</th>\n",
              "      <th>시력(좌)</th>\n",
              "      <th>시력(우)</th>\n",
              "      <th>...</th>\n",
              "      <th>혈청크레아티닌</th>\n",
              "      <th>(혈청지오티)AST</th>\n",
              "      <th>(혈청지오티)ALT</th>\n",
              "      <th>감마지티피</th>\n",
              "      <th>흡연상태</th>\n",
              "      <th>음주여부</th>\n",
              "      <th>구강검진수검여부</th>\n",
              "      <th>치아우식증유무</th>\n",
              "      <th>치석</th>\n",
              "      <th>데이터공개일자</th>\n",
              "    </tr>\n",
              "  </thead>\n",
              "  <tbody>\n",
              "    <tr>\n",
              "      <th>0</th>\n",
              "      <td>2020</td>\n",
              "      <td>1</td>\n",
              "      <td>36</td>\n",
              "      <td>M</td>\n",
              "      <td>9</td>\n",
              "      <td>165</td>\n",
              "      <td>60</td>\n",
              "      <td>72.1</td>\n",
              "      <td>1.2</td>\n",
              "      <td>1.5</td>\n",
              "      <td>...</td>\n",
              "      <td>1.1</td>\n",
              "      <td>21.0</td>\n",
              "      <td>27.0</td>\n",
              "      <td>21.0</td>\n",
              "      <td>No</td>\n",
              "      <td>No</td>\n",
              "      <td>0</td>\n",
              "      <td>NaN</td>\n",
              "      <td>NaN</td>\n",
              "      <td>12/29/2021</td>\n",
              "    </tr>\n",
              "    <tr>\n",
              "      <th>1</th>\n",
              "      <td>2020</td>\n",
              "      <td>2</td>\n",
              "      <td>27</td>\n",
              "      <td>F</td>\n",
              "      <td>13</td>\n",
              "      <td>150</td>\n",
              "      <td>65</td>\n",
              "      <td>81.0</td>\n",
              "      <td>0.8</td>\n",
              "      <td>0.8</td>\n",
              "      <td>...</td>\n",
              "      <td>0.5</td>\n",
              "      <td>18.0</td>\n",
              "      <td>15.0</td>\n",
              "      <td>15.0</td>\n",
              "      <td>No</td>\n",
              "      <td>No</td>\n",
              "      <td>0</td>\n",
              "      <td>NaN</td>\n",
              "      <td>NaN</td>\n",
              "      <td>12/29/2021</td>\n",
              "    </tr>\n",
              "    <tr>\n",
              "      <th>2</th>\n",
              "      <td>2020</td>\n",
              "      <td>3</td>\n",
              "      <td>11</td>\n",
              "      <td>F</td>\n",
              "      <td>12</td>\n",
              "      <td>155</td>\n",
              "      <td>55</td>\n",
              "      <td>70.0</td>\n",
              "      <td>0.6</td>\n",
              "      <td>0.7</td>\n",
              "      <td>...</td>\n",
              "      <td>0.7</td>\n",
              "      <td>27.0</td>\n",
              "      <td>25.0</td>\n",
              "      <td>7.0</td>\n",
              "      <td>No</td>\n",
              "      <td>No</td>\n",
              "      <td>0</td>\n",
              "      <td>NaN</td>\n",
              "      <td>NaN</td>\n",
              "      <td>12/29/2021</td>\n",
              "    </tr>\n",
              "    <tr>\n",
              "      <th>3</th>\n",
              "      <td>2020</td>\n",
              "      <td>4</td>\n",
              "      <td>31</td>\n",
              "      <td>M</td>\n",
              "      <td>13</td>\n",
              "      <td>160</td>\n",
              "      <td>70</td>\n",
              "      <td>90.8</td>\n",
              "      <td>1.0</td>\n",
              "      <td>1.0</td>\n",
              "      <td>...</td>\n",
              "      <td>1.2</td>\n",
              "      <td>65.0</td>\n",
              "      <td>97.0</td>\n",
              "      <td>72.0</td>\n",
              "      <td>No</td>\n",
              "      <td>No</td>\n",
              "      <td>1</td>\n",
              "      <td>0.0</td>\n",
              "      <td>0.0</td>\n",
              "      <td>12/29/2021</td>\n",
              "    </tr>\n",
              "    <tr>\n",
              "      <th>4</th>\n",
              "      <td>2020</td>\n",
              "      <td>5</td>\n",
              "      <td>41</td>\n",
              "      <td>F</td>\n",
              "      <td>12</td>\n",
              "      <td>155</td>\n",
              "      <td>50</td>\n",
              "      <td>75.2</td>\n",
              "      <td>1.5</td>\n",
              "      <td>1.2</td>\n",
              "      <td>...</td>\n",
              "      <td>0.7</td>\n",
              "      <td>18.0</td>\n",
              "      <td>17.0</td>\n",
              "      <td>14.0</td>\n",
              "      <td>No</td>\n",
              "      <td>No</td>\n",
              "      <td>0</td>\n",
              "      <td>NaN</td>\n",
              "      <td>NaN</td>\n",
              "      <td>12/29/2021</td>\n",
              "    </tr>\n",
              "  </tbody>\n",
              "</table>\n",
              "<p>5 rows × 31 columns</p>\n",
              "</div>\n",
              "      <button class=\"colab-df-convert\" onclick=\"convertToInteractive('df-d06ba67a-1235-4d1c-904d-9a90567fb302')\"\n",
              "              title=\"Convert this dataframe to an interactive table.\"\n",
              "              style=\"display:none;\">\n",
              "        \n",
              "  <svg xmlns=\"http://www.w3.org/2000/svg\" height=\"24px\"viewBox=\"0 0 24 24\"\n",
              "       width=\"24px\">\n",
              "    <path d=\"M0 0h24v24H0V0z\" fill=\"none\"/>\n",
              "    <path d=\"M18.56 5.44l.94 2.06.94-2.06 2.06-.94-2.06-.94-.94-2.06-.94 2.06-2.06.94zm-11 1L8.5 8.5l.94-2.06 2.06-.94-2.06-.94L8.5 2.5l-.94 2.06-2.06.94zm10 10l.94 2.06.94-2.06 2.06-.94-2.06-.94-.94-2.06-.94 2.06-2.06.94z\"/><path d=\"M17.41 7.96l-1.37-1.37c-.4-.4-.92-.59-1.43-.59-.52 0-1.04.2-1.43.59L10.3 9.45l-7.72 7.72c-.78.78-.78 2.05 0 2.83L4 21.41c.39.39.9.59 1.41.59.51 0 1.02-.2 1.41-.59l7.78-7.78 2.81-2.81c.8-.78.8-2.07 0-2.86zM5.41 20L4 18.59l7.72-7.72 1.47 1.35L5.41 20z\"/>\n",
              "  </svg>\n",
              "      </button>\n",
              "      \n",
              "  <style>\n",
              "    .colab-df-container {\n",
              "      display:flex;\n",
              "      flex-wrap:wrap;\n",
              "      gap: 12px;\n",
              "    }\n",
              "\n",
              "    .colab-df-convert {\n",
              "      background-color: #E8F0FE;\n",
              "      border: none;\n",
              "      border-radius: 50%;\n",
              "      cursor: pointer;\n",
              "      display: none;\n",
              "      fill: #1967D2;\n",
              "      height: 32px;\n",
              "      padding: 0 0 0 0;\n",
              "      width: 32px;\n",
              "    }\n",
              "\n",
              "    .colab-df-convert:hover {\n",
              "      background-color: #E2EBFA;\n",
              "      box-shadow: 0px 1px 2px rgba(60, 64, 67, 0.3), 0px 1px 3px 1px rgba(60, 64, 67, 0.15);\n",
              "      fill: #174EA6;\n",
              "    }\n",
              "\n",
              "    [theme=dark] .colab-df-convert {\n",
              "      background-color: #3B4455;\n",
              "      fill: #D2E3FC;\n",
              "    }\n",
              "\n",
              "    [theme=dark] .colab-df-convert:hover {\n",
              "      background-color: #434B5C;\n",
              "      box-shadow: 0px 1px 3px 1px rgba(0, 0, 0, 0.15);\n",
              "      filter: drop-shadow(0px 1px 2px rgba(0, 0, 0, 0.3));\n",
              "      fill: #FFFFFF;\n",
              "    }\n",
              "  </style>\n",
              "\n",
              "      <script>\n",
              "        const buttonEl =\n",
              "          document.querySelector('#df-d06ba67a-1235-4d1c-904d-9a90567fb302 button.colab-df-convert');\n",
              "        buttonEl.style.display =\n",
              "          google.colab.kernel.accessAllowed ? 'block' : 'none';\n",
              "\n",
              "        async function convertToInteractive(key) {\n",
              "          const element = document.querySelector('#df-d06ba67a-1235-4d1c-904d-9a90567fb302');\n",
              "          const dataTable =\n",
              "            await google.colab.kernel.invokeFunction('convertToInteractive',\n",
              "                                                     [key], {});\n",
              "          if (!dataTable) return;\n",
              "\n",
              "          const docLinkHtml = 'Like what you see? Visit the ' +\n",
              "            '<a target=\"_blank\" href=https://colab.research.google.com/notebooks/data_table.ipynb>data table notebook</a>'\n",
              "            + ' to learn more about interactive tables.';\n",
              "          element.innerHTML = '';\n",
              "          dataTable['output_type'] = 'display_data';\n",
              "          await google.colab.output.renderOutput(dataTable, element);\n",
              "          const docLink = document.createElement('div');\n",
              "          docLink.innerHTML = docLinkHtml;\n",
              "          element.appendChild(docLink);\n",
              "        }\n",
              "      </script>\n",
              "    </div>\n",
              "  </div>\n",
              "  "
            ]
          },
          "metadata": {},
          "execution_count": 7
        }
      ],
      "source": [
        "data = pd.read_csv('/content/drive/MyDrive/Colab Notebooks/BigMining_아비혁/data/health_data.csv', encoding='utf-8')\n",
        "df = data.copy()\n",
        "df.head()"
      ]
    },
    {
      "cell_type": "code",
      "source": [
        "df.info()"
      ],
      "metadata": {
        "colab": {
          "base_uri": "https://localhost:8080/"
        },
        "id": "bTK04vbimDUM",
        "outputId": "590fb7d3-9316-469a-8b52-d4dbfc9b15fd"
      },
      "execution_count": 8,
      "outputs": [
        {
          "output_type": "stream",
          "name": "stdout",
          "text": [
            "<class 'pandas.core.frame.DataFrame'>\n",
            "RangeIndex: 10000 entries, 0 to 9999\n",
            "Data columns (total 31 columns):\n",
            " #   Column       Non-Null Count  Dtype  \n",
            "---  ------       --------------  -----  \n",
            " 0   기준년도         10000 non-null  int64  \n",
            " 1   가입자일련번호      10000 non-null  int64  \n",
            " 2   시도코드         10000 non-null  int64  \n",
            " 3   성별코드         10000 non-null  object \n",
            " 4   연령대코드(5세단위)  10000 non-null  int64  \n",
            " 5   신장(5Cm단위)    10000 non-null  int64  \n",
            " 6   체중(5Kg 단위)   10000 non-null  int64  \n",
            " 7   허리둘레         10000 non-null  float64\n",
            " 8   시력(좌)        10000 non-null  float64\n",
            " 9   시력(우)        10000 non-null  float64\n",
            " 10  청력(좌)        10000 non-null  int64  \n",
            " 11  청력(우)        10000 non-null  int64  \n",
            " 12  수축기혈압        9912 non-null   float64\n",
            " 13  이완기혈압        9912 non-null   float64\n",
            " 14  식전혈당(공복혈당)   9912 non-null   float64\n",
            " 15  총콜레스테롤       4044 non-null   float64\n",
            " 16  트리글리세라이드     4044 non-null   float64\n",
            " 17  HDL콜레스테롤     4044 non-null   float64\n",
            " 18  LDL콜레스테롤     3977 non-null   float64\n",
            " 19  혈색소          9912 non-null   float64\n",
            " 20  요단백          9861 non-null   float64\n",
            " 21  혈청크레아티닌      9912 non-null   float64\n",
            " 22  (혈청지오티)AST   9912 non-null   float64\n",
            " 23  (혈청지오티)ALT   9912 non-null   float64\n",
            " 24  감마지티피        9912 non-null   float64\n",
            " 25  흡연상태         9998 non-null   object \n",
            " 26  음주여부         9999 non-null   object \n",
            " 27  구강검진수검여부     10000 non-null  int64  \n",
            " 28  치아우식증유무      3251 non-null   float64\n",
            " 29  치석           3251 non-null   float64\n",
            " 30  데이터공개일자      10000 non-null  object \n",
            "dtypes: float64(18), int64(9), object(4)\n",
            "memory usage: 2.4+ MB\n"
          ]
        }
      ]
    },
    {
      "cell_type": "code",
      "source": [
        "df.describe()"
      ],
      "metadata": {
        "colab": {
          "base_uri": "https://localhost:8080/",
          "height": 411
        },
        "id": "GIlMEZqCmI-j",
        "outputId": "61490880-3e76-404f-f71a-fee3ca821a4f"
      },
      "execution_count": 9,
      "outputs": [
        {
          "output_type": "execute_result",
          "data": {
            "text/plain": [
              "          기준년도      가입자일련번호          시도코드   연령대코드(5세단위)     신장(5Cm단위)  \\\n",
              "count  10000.0  10000.00000  10000.000000  10000.000000  10000.000000   \n",
              "mean    2020.0   5000.50000     34.100100     11.931400    160.983500   \n",
              "std        0.0   2886.89568     12.394581      2.166048      9.211608   \n",
              "min     2020.0      1.00000     11.000000      9.000000    130.000000   \n",
              "25%     2020.0   2500.75000     27.000000     10.000000    155.000000   \n",
              "50%     2020.0   5000.50000     41.000000     12.000000    160.000000   \n",
              "75%     2020.0   7500.25000     44.000000     13.000000    170.000000   \n",
              "max     2020.0  10000.00000     49.000000     18.000000    195.000000   \n",
              "\n",
              "         체중(5Kg 단위)          허리둘레         시력(좌)         시력(우)         청력(좌)  \\\n",
              "count  10000.000000  10000.000000  10000.000000  10000.000000  10000.000000   \n",
              "mean      63.034500     82.366100      0.933750      0.936750      1.050500   \n",
              "std       12.205294      9.561973      0.662057      0.641378      0.227936   \n",
              "min       30.000000     53.000000      0.100000      0.100000      1.000000   \n",
              "25%       55.000000     76.000000      0.700000      0.700000      1.000000   \n",
              "50%       60.000000     82.000000      0.900000      0.900000      1.000000   \n",
              "75%       70.000000     88.900000      1.200000      1.200000      1.000000   \n",
              "max      130.000000    134.000000      9.900000      9.900000      3.000000   \n",
              "\n",
              "       ...     LDL콜레스테롤          혈색소          요단백      혈청크레아티닌  (혈청지오티)AST  \\\n",
              "count  ...  3977.000000  9912.000000  9861.000000  9912.000000  9912.00000   \n",
              "mean   ...   116.263264    14.214255     1.119461     0.848484    27.58979   \n",
              "std    ...    37.829955     1.555386     0.489782     0.301012    17.88442   \n",
              "min    ...    13.000000     5.100000     1.000000     0.050000     3.00000   \n",
              "25%    ...    89.000000    13.200000     1.000000     0.700000    20.00000   \n",
              "50%    ...   115.000000    14.200000     1.000000     0.800000    24.00000   \n",
              "75%    ...   141.000000    15.300000     1.000000     1.000000    30.00000   \n",
              "max    ...   297.000000    20.000000     6.000000     9.200000   692.00000   \n",
              "\n",
              "        (혈청지오티)ALT        감마지티피      구강검진수검여부      치아우식증유무           치석  \n",
              "count  9912.000000  9912.000000  10000.000000  3251.000000  3251.000000  \n",
              "mean     26.789851    38.098668      0.325100     0.175331     0.579514  \n",
              "std      23.735687    58.184579      0.468436     0.380308     0.591269  \n",
              "min       2.000000     3.000000      0.000000     0.000000     0.000000  \n",
              "25%      16.000000    16.000000      0.000000     0.000000     0.000000  \n",
              "50%      21.000000    24.000000      0.000000     0.000000     1.000000  \n",
              "75%      31.000000    39.000000      1.000000     0.000000     1.000000  \n",
              "max    1146.000000  2322.000000      1.000000     1.000000     2.000000  \n",
              "\n",
              "[8 rows x 27 columns]"
            ],
            "text/html": [
              "\n",
              "  <div id=\"df-500bc10d-f08b-4e1f-968c-f9731b6ab919\">\n",
              "    <div class=\"colab-df-container\">\n",
              "      <div>\n",
              "<style scoped>\n",
              "    .dataframe tbody tr th:only-of-type {\n",
              "        vertical-align: middle;\n",
              "    }\n",
              "\n",
              "    .dataframe tbody tr th {\n",
              "        vertical-align: top;\n",
              "    }\n",
              "\n",
              "    .dataframe thead th {\n",
              "        text-align: right;\n",
              "    }\n",
              "</style>\n",
              "<table border=\"1\" class=\"dataframe\">\n",
              "  <thead>\n",
              "    <tr style=\"text-align: right;\">\n",
              "      <th></th>\n",
              "      <th>기준년도</th>\n",
              "      <th>가입자일련번호</th>\n",
              "      <th>시도코드</th>\n",
              "      <th>연령대코드(5세단위)</th>\n",
              "      <th>신장(5Cm단위)</th>\n",
              "      <th>체중(5Kg 단위)</th>\n",
              "      <th>허리둘레</th>\n",
              "      <th>시력(좌)</th>\n",
              "      <th>시력(우)</th>\n",
              "      <th>청력(좌)</th>\n",
              "      <th>...</th>\n",
              "      <th>LDL콜레스테롤</th>\n",
              "      <th>혈색소</th>\n",
              "      <th>요단백</th>\n",
              "      <th>혈청크레아티닌</th>\n",
              "      <th>(혈청지오티)AST</th>\n",
              "      <th>(혈청지오티)ALT</th>\n",
              "      <th>감마지티피</th>\n",
              "      <th>구강검진수검여부</th>\n",
              "      <th>치아우식증유무</th>\n",
              "      <th>치석</th>\n",
              "    </tr>\n",
              "  </thead>\n",
              "  <tbody>\n",
              "    <tr>\n",
              "      <th>count</th>\n",
              "      <td>10000.0</td>\n",
              "      <td>10000.00000</td>\n",
              "      <td>10000.000000</td>\n",
              "      <td>10000.000000</td>\n",
              "      <td>10000.000000</td>\n",
              "      <td>10000.000000</td>\n",
              "      <td>10000.000000</td>\n",
              "      <td>10000.000000</td>\n",
              "      <td>10000.000000</td>\n",
              "      <td>10000.000000</td>\n",
              "      <td>...</td>\n",
              "      <td>3977.000000</td>\n",
              "      <td>9912.000000</td>\n",
              "      <td>9861.000000</td>\n",
              "      <td>9912.000000</td>\n",
              "      <td>9912.00000</td>\n",
              "      <td>9912.000000</td>\n",
              "      <td>9912.000000</td>\n",
              "      <td>10000.000000</td>\n",
              "      <td>3251.000000</td>\n",
              "      <td>3251.000000</td>\n",
              "    </tr>\n",
              "    <tr>\n",
              "      <th>mean</th>\n",
              "      <td>2020.0</td>\n",
              "      <td>5000.50000</td>\n",
              "      <td>34.100100</td>\n",
              "      <td>11.931400</td>\n",
              "      <td>160.983500</td>\n",
              "      <td>63.034500</td>\n",
              "      <td>82.366100</td>\n",
              "      <td>0.933750</td>\n",
              "      <td>0.936750</td>\n",
              "      <td>1.050500</td>\n",
              "      <td>...</td>\n",
              "      <td>116.263264</td>\n",
              "      <td>14.214255</td>\n",
              "      <td>1.119461</td>\n",
              "      <td>0.848484</td>\n",
              "      <td>27.58979</td>\n",
              "      <td>26.789851</td>\n",
              "      <td>38.098668</td>\n",
              "      <td>0.325100</td>\n",
              "      <td>0.175331</td>\n",
              "      <td>0.579514</td>\n",
              "    </tr>\n",
              "    <tr>\n",
              "      <th>std</th>\n",
              "      <td>0.0</td>\n",
              "      <td>2886.89568</td>\n",
              "      <td>12.394581</td>\n",
              "      <td>2.166048</td>\n",
              "      <td>9.211608</td>\n",
              "      <td>12.205294</td>\n",
              "      <td>9.561973</td>\n",
              "      <td>0.662057</td>\n",
              "      <td>0.641378</td>\n",
              "      <td>0.227936</td>\n",
              "      <td>...</td>\n",
              "      <td>37.829955</td>\n",
              "      <td>1.555386</td>\n",
              "      <td>0.489782</td>\n",
              "      <td>0.301012</td>\n",
              "      <td>17.88442</td>\n",
              "      <td>23.735687</td>\n",
              "      <td>58.184579</td>\n",
              "      <td>0.468436</td>\n",
              "      <td>0.380308</td>\n",
              "      <td>0.591269</td>\n",
              "    </tr>\n",
              "    <tr>\n",
              "      <th>min</th>\n",
              "      <td>2020.0</td>\n",
              "      <td>1.00000</td>\n",
              "      <td>11.000000</td>\n",
              "      <td>9.000000</td>\n",
              "      <td>130.000000</td>\n",
              "      <td>30.000000</td>\n",
              "      <td>53.000000</td>\n",
              "      <td>0.100000</td>\n",
              "      <td>0.100000</td>\n",
              "      <td>1.000000</td>\n",
              "      <td>...</td>\n",
              "      <td>13.000000</td>\n",
              "      <td>5.100000</td>\n",
              "      <td>1.000000</td>\n",
              "      <td>0.050000</td>\n",
              "      <td>3.00000</td>\n",
              "      <td>2.000000</td>\n",
              "      <td>3.000000</td>\n",
              "      <td>0.000000</td>\n",
              "      <td>0.000000</td>\n",
              "      <td>0.000000</td>\n",
              "    </tr>\n",
              "    <tr>\n",
              "      <th>25%</th>\n",
              "      <td>2020.0</td>\n",
              "      <td>2500.75000</td>\n",
              "      <td>27.000000</td>\n",
              "      <td>10.000000</td>\n",
              "      <td>155.000000</td>\n",
              "      <td>55.000000</td>\n",
              "      <td>76.000000</td>\n",
              "      <td>0.700000</td>\n",
              "      <td>0.700000</td>\n",
              "      <td>1.000000</td>\n",
              "      <td>...</td>\n",
              "      <td>89.000000</td>\n",
              "      <td>13.200000</td>\n",
              "      <td>1.000000</td>\n",
              "      <td>0.700000</td>\n",
              "      <td>20.00000</td>\n",
              "      <td>16.000000</td>\n",
              "      <td>16.000000</td>\n",
              "      <td>0.000000</td>\n",
              "      <td>0.000000</td>\n",
              "      <td>0.000000</td>\n",
              "    </tr>\n",
              "    <tr>\n",
              "      <th>50%</th>\n",
              "      <td>2020.0</td>\n",
              "      <td>5000.50000</td>\n",
              "      <td>41.000000</td>\n",
              "      <td>12.000000</td>\n",
              "      <td>160.000000</td>\n",
              "      <td>60.000000</td>\n",
              "      <td>82.000000</td>\n",
              "      <td>0.900000</td>\n",
              "      <td>0.900000</td>\n",
              "      <td>1.000000</td>\n",
              "      <td>...</td>\n",
              "      <td>115.000000</td>\n",
              "      <td>14.200000</td>\n",
              "      <td>1.000000</td>\n",
              "      <td>0.800000</td>\n",
              "      <td>24.00000</td>\n",
              "      <td>21.000000</td>\n",
              "      <td>24.000000</td>\n",
              "      <td>0.000000</td>\n",
              "      <td>0.000000</td>\n",
              "      <td>1.000000</td>\n",
              "    </tr>\n",
              "    <tr>\n",
              "      <th>75%</th>\n",
              "      <td>2020.0</td>\n",
              "      <td>7500.25000</td>\n",
              "      <td>44.000000</td>\n",
              "      <td>13.000000</td>\n",
              "      <td>170.000000</td>\n",
              "      <td>70.000000</td>\n",
              "      <td>88.900000</td>\n",
              "      <td>1.200000</td>\n",
              "      <td>1.200000</td>\n",
              "      <td>1.000000</td>\n",
              "      <td>...</td>\n",
              "      <td>141.000000</td>\n",
              "      <td>15.300000</td>\n",
              "      <td>1.000000</td>\n",
              "      <td>1.000000</td>\n",
              "      <td>30.00000</td>\n",
              "      <td>31.000000</td>\n",
              "      <td>39.000000</td>\n",
              "      <td>1.000000</td>\n",
              "      <td>0.000000</td>\n",
              "      <td>1.000000</td>\n",
              "    </tr>\n",
              "    <tr>\n",
              "      <th>max</th>\n",
              "      <td>2020.0</td>\n",
              "      <td>10000.00000</td>\n",
              "      <td>49.000000</td>\n",
              "      <td>18.000000</td>\n",
              "      <td>195.000000</td>\n",
              "      <td>130.000000</td>\n",
              "      <td>134.000000</td>\n",
              "      <td>9.900000</td>\n",
              "      <td>9.900000</td>\n",
              "      <td>3.000000</td>\n",
              "      <td>...</td>\n",
              "      <td>297.000000</td>\n",
              "      <td>20.000000</td>\n",
              "      <td>6.000000</td>\n",
              "      <td>9.200000</td>\n",
              "      <td>692.00000</td>\n",
              "      <td>1146.000000</td>\n",
              "      <td>2322.000000</td>\n",
              "      <td>1.000000</td>\n",
              "      <td>1.000000</td>\n",
              "      <td>2.000000</td>\n",
              "    </tr>\n",
              "  </tbody>\n",
              "</table>\n",
              "<p>8 rows × 27 columns</p>\n",
              "</div>\n",
              "      <button class=\"colab-df-convert\" onclick=\"convertToInteractive('df-500bc10d-f08b-4e1f-968c-f9731b6ab919')\"\n",
              "              title=\"Convert this dataframe to an interactive table.\"\n",
              "              style=\"display:none;\">\n",
              "        \n",
              "  <svg xmlns=\"http://www.w3.org/2000/svg\" height=\"24px\"viewBox=\"0 0 24 24\"\n",
              "       width=\"24px\">\n",
              "    <path d=\"M0 0h24v24H0V0z\" fill=\"none\"/>\n",
              "    <path d=\"M18.56 5.44l.94 2.06.94-2.06 2.06-.94-2.06-.94-.94-2.06-.94 2.06-2.06.94zm-11 1L8.5 8.5l.94-2.06 2.06-.94-2.06-.94L8.5 2.5l-.94 2.06-2.06.94zm10 10l.94 2.06.94-2.06 2.06-.94-2.06-.94-.94-2.06-.94 2.06-2.06.94z\"/><path d=\"M17.41 7.96l-1.37-1.37c-.4-.4-.92-.59-1.43-.59-.52 0-1.04.2-1.43.59L10.3 9.45l-7.72 7.72c-.78.78-.78 2.05 0 2.83L4 21.41c.39.39.9.59 1.41.59.51 0 1.02-.2 1.41-.59l7.78-7.78 2.81-2.81c.8-.78.8-2.07 0-2.86zM5.41 20L4 18.59l7.72-7.72 1.47 1.35L5.41 20z\"/>\n",
              "  </svg>\n",
              "      </button>\n",
              "      \n",
              "  <style>\n",
              "    .colab-df-container {\n",
              "      display:flex;\n",
              "      flex-wrap:wrap;\n",
              "      gap: 12px;\n",
              "    }\n",
              "\n",
              "    .colab-df-convert {\n",
              "      background-color: #E8F0FE;\n",
              "      border: none;\n",
              "      border-radius: 50%;\n",
              "      cursor: pointer;\n",
              "      display: none;\n",
              "      fill: #1967D2;\n",
              "      height: 32px;\n",
              "      padding: 0 0 0 0;\n",
              "      width: 32px;\n",
              "    }\n",
              "\n",
              "    .colab-df-convert:hover {\n",
              "      background-color: #E2EBFA;\n",
              "      box-shadow: 0px 1px 2px rgba(60, 64, 67, 0.3), 0px 1px 3px 1px rgba(60, 64, 67, 0.15);\n",
              "      fill: #174EA6;\n",
              "    }\n",
              "\n",
              "    [theme=dark] .colab-df-convert {\n",
              "      background-color: #3B4455;\n",
              "      fill: #D2E3FC;\n",
              "    }\n",
              "\n",
              "    [theme=dark] .colab-df-convert:hover {\n",
              "      background-color: #434B5C;\n",
              "      box-shadow: 0px 1px 3px 1px rgba(0, 0, 0, 0.15);\n",
              "      filter: drop-shadow(0px 1px 2px rgba(0, 0, 0, 0.3));\n",
              "      fill: #FFFFFF;\n",
              "    }\n",
              "  </style>\n",
              "\n",
              "      <script>\n",
              "        const buttonEl =\n",
              "          document.querySelector('#df-500bc10d-f08b-4e1f-968c-f9731b6ab919 button.colab-df-convert');\n",
              "        buttonEl.style.display =\n",
              "          google.colab.kernel.accessAllowed ? 'block' : 'none';\n",
              "\n",
              "        async function convertToInteractive(key) {\n",
              "          const element = document.querySelector('#df-500bc10d-f08b-4e1f-968c-f9731b6ab919');\n",
              "          const dataTable =\n",
              "            await google.colab.kernel.invokeFunction('convertToInteractive',\n",
              "                                                     [key], {});\n",
              "          if (!dataTable) return;\n",
              "\n",
              "          const docLinkHtml = 'Like what you see? Visit the ' +\n",
              "            '<a target=\"_blank\" href=https://colab.research.google.com/notebooks/data_table.ipynb>data table notebook</a>'\n",
              "            + ' to learn more about interactive tables.';\n",
              "          element.innerHTML = '';\n",
              "          dataTable['output_type'] = 'display_data';\n",
              "          await google.colab.output.renderOutput(dataTable, element);\n",
              "          const docLink = document.createElement('div');\n",
              "          docLink.innerHTML = docLinkHtml;\n",
              "          element.appendChild(docLink);\n",
              "        }\n",
              "      </script>\n",
              "    </div>\n",
              "  </div>\n",
              "  "
            ]
          },
          "metadata": {},
          "execution_count": 9
        }
      ]
    },
    {
      "cell_type": "markdown",
      "metadata": {
        "id": "CpdRKtebhPaI"
      },
      "source": [
        "## 전처리 과정"
      ]
    },
    {
      "cell_type": "code",
      "source": [
        "binwidth = 10\n",
        "data.hist(figsize=(25,20));"
      ],
      "metadata": {
        "colab": {
          "base_uri": "https://localhost:8080/",
          "height": 1000
        },
        "id": "te6vHEoWm7pN",
        "outputId": "e9a27f7e-be01-46cd-a4af-53783d0d9563"
      },
      "execution_count": 10,
      "outputs": [
        {
          "output_type": "display_data",
          "data": {
            "text/plain": [
              "<Figure size 1800x1440 with 30 Axes>"
            ],
            "image/png": "[encoded data removed]"
          },
          "metadata": {
            "needs_background": "light"
          }
        }
      ]
    },
    {
      "cell_type": "markdown",
      "metadata": {
        "id": "TqJut-NXhPaJ"
      },
      "source": [
        "#### 결측치 및 의미 없는 변수 제거"
      ]
    },
    {
      "cell_type": "code",
      "source": [
        "df.isnull().sum().plot.barh(figsize=(10, 9));"
      ],
      "metadata": {
        "colab": {
          "base_uri": "https://localhost:8080/",
          "height": 537
        },
        "id": "XfDoX51kjcE7",
        "outputId": "ed205050-3c75-44c3-81a9-3b632920b745"
      },
      "execution_count": 11,
      "outputs": [
        {
          "output_type": "display_data",
          "data": {
            "text/plain": [
              "<Figure size 720x648 with 1 Axes>"
            ],
            "image/png": "[encoded data removed]"
          },
          "metadata": {
            "needs_background": "light"
          }
        }
      ]
    },
    {
      "cell_type": "code",
      "execution_count": 12,
      "metadata": {
        "id": "v45hkPjlhPaI"
      },
      "outputs": [],
      "source": [
        "df.drop('치석', axis=1, inplace=True)\n",
        "df.drop('치아우식증유무', axis=1, inplace=True)\n",
        "df.drop('데이터공개일자', axis=1, inplace=True)\n",
        "df.drop('기준년도', axis=1, inplace=True)\n",
        "df.drop('가입자일련번호', axis=1, inplace=True)"
      ]
    },
    {
      "cell_type": "markdown",
      "metadata": {
        "id": "Mz6CfX5fhPaJ"
      },
      "source": [
        "#### 변수이름 및 데이터 타입 수정"
      ]
    },
    {
      "cell_type": "code",
      "source": [
        "df['시도코드'] = df['시도코드'].replace([11,26,27,28,29,30,31,36,41,42,43,44,45,46,47,48,49],['서울시','부산시','대구시','인천시','광주시','대전시','울산시','세종시','경기도','강원도','충청북도','충청남도','전라북도','전라남도','경상북도','경상남도','제주도'])\n",
        "df['성별코드'] = df['성별코드'].replace(['M','F'], [\"남자\",\"여자\"])\n",
        "data['연령대코드(5세단위)'] = data['연령대코드(5세단위)'].replace([1,2,3,4,5,6,7,8,9,10,11,12,13,14,15,16,17,18], ['0~4세','5~9세','10~14세','15~19세','20~24세','25~29세','30~34세','35~39세','40~44세','45~49세','50~54세','55~59세','60~64세','65~69세','60~74세','75~79세','80~84세','85세+'])\n",
        "df = df.rename(columns={'시도코드':'시도', '성별코드':'성별', '연령대코드(5세단위)':'연령대','신장(5Cm단위)':'신장','체중(5Kg 단위)':'체중'})"
      ],
      "metadata": {
        "id": "9oiV_Xe5qnqD"
      },
      "execution_count": 13,
      "outputs": []
    },
    {
      "cell_type": "code",
      "source": [
        "df = df.rename(columns={'시도코드':'시도', '성별코드':'성별', '연령대코드(5세단위)':'연령대','신장(5Cm단위)':'신장','체중(5Kg 단위)':'체중'})"
      ],
      "metadata": {
        "id": "2P3Znq484T3H"
      },
      "execution_count": 14,
      "outputs": []
    },
    {
      "cell_type": "code",
      "source": [
        "age_list = list(df['연령대'].unique())\n",
        "age_list.sort()\n",
        "age_list"
      ],
      "metadata": {
        "colab": {
          "base_uri": "https://localhost:8080/"
        },
        "id": "l_ts9_V6B3k5",
        "outputId": "924207eb-c132-4c06-8085-d7de579afd53"
      },
      "execution_count": 15,
      "outputs": [
        {
          "output_type": "execute_result",
          "data": {
            "text/plain": [
              "[9, 10, 11, 12, 13, 14, 15, 16, 17, 18]"
            ]
          },
          "metadata": {},
          "execution_count": 15
        }
      ]
    },
    {
      "cell_type": "code",
      "source": [
        "df['청력(좌)'] = df['청력(좌)'].astype('object')\n",
        "df['청력(우)'] = df['청력(우)'].astype('object')\n",
        "df['요단백'] = df['요단백'].astype('object')\n",
        "df['구강검진수검여부'] = df['구강검진수검여부'].astype('object')\n",
        "df['신장'] = df['신장'].astype('object')\n",
        "df['체중'] = df['체중'].astype('object')"
      ],
      "metadata": {
        "id": "ZaEfZYGSrqBo"
      },
      "execution_count": 13,
      "outputs": []
    },
    {
      "cell_type": "code",
      "source": [
        "df.info()"
      ],
      "metadata": {
        "colab": {
          "base_uri": "https://localhost:8080/"
        },
        "id": "n94OWoG9rWqC",
        "outputId": "e63c3890-8776-4182-ac84-67e628a167fd"
      },
      "execution_count": 16,
      "outputs": [
        {
          "output_type": "stream",
          "name": "stdout",
          "text": [
            "<class 'pandas.core.frame.DataFrame'>\n",
            "RangeIndex: 10000 entries, 0 to 9999\n",
            "Data columns (total 26 columns):\n",
            " #   Column      Non-Null Count  Dtype  \n",
            "---  ------      --------------  -----  \n",
            " 0   시도          10000 non-null  object \n",
            " 1   성별          10000 non-null  object \n",
            " 2   연령대         10000 non-null  int64  \n",
            " 3   신장          10000 non-null  int64  \n",
            " 4   체중          10000 non-null  int64  \n",
            " 5   허리둘레        10000 non-null  float64\n",
            " 6   시력(좌)       10000 non-null  float64\n",
            " 7   시력(우)       10000 non-null  float64\n",
            " 8   청력(좌)       10000 non-null  int64  \n",
            " 9   청력(우)       10000 non-null  int64  \n",
            " 10  수축기혈압       9912 non-null   float64\n",
            " 11  이완기혈압       9912 non-null   float64\n",
            " 12  식전혈당(공복혈당)  9912 non-null   float64\n",
            " 13  총콜레스테롤      4044 non-null   float64\n",
            " 14  트리글리세라이드    4044 non-null   float64\n",
            " 15  HDL콜레스테롤    4044 non-null   float64\n",
            " 16  LDL콜레스테롤    3977 non-null   float64\n",
            " 17  혈색소         9912 non-null   float64\n",
            " 18  요단백         9861 non-null   float64\n",
            " 19  혈청크레아티닌     9912 non-null   float64\n",
            " 20  (혈청지오티)AST  9912 non-null   float64\n",
            " 21  (혈청지오티)ALT  9912 non-null   float64\n",
            " 22  감마지티피       9912 non-null   float64\n",
            " 23  흡연상태        9998 non-null   object \n",
            " 24  음주여부        9999 non-null   object \n",
            " 25  구강검진수검여부    10000 non-null  int64  \n",
            "dtypes: float64(16), int64(6), object(4)\n",
            "memory usage: 2.0+ MB\n"
          ]
        }
      ]
    },
    {
      "cell_type": "markdown",
      "metadata": {
        "id": "ZH4R_zIuhPaJ"
      },
      "source": [
        "### 파생변수 만들기"
      ]
    },
    {
      "cell_type": "markdown",
      "metadata": {
        "id": "lNiYUAHNhPaK"
      },
      "source": [
        "####1.복부비만"
      ]
    },
    {
      "cell_type": "code",
      "execution_count": 17,
      "metadata": {
        "colab": {
          "base_uri": "https://localhost:8080/"
        },
        "id": "UDGrfJSmhPaK",
        "outputId": "e8166312-cebf-4a8f-c6f4-904b3e83d5f0"
      },
      "outputs": [
        {
          "output_type": "execute_result",
          "data": {
            "text/plain": [
              "여자    7204\n",
              "남자    2796\n",
              "Name: 복부비만, dtype: int64"
            ]
          },
          "metadata": {},
          "execution_count": 17
        }
      ],
      "source": [
        "df['복부비만'] = np.where(((df['허리둘레'] >= 90) & (df['성별']==\"남자\")) | ((df['허리둘레'] >= 85) & (df['성별']==\"여자\")) == True, \"남자\",\"여자\").astype('object')\n",
        "df['복부비만'].value_counts()"
      ]
    },
    {
      "cell_type": "markdown",
      "metadata": {
        "id": "WVvdZKB8hPaK"
      },
      "source": [
        "####2.고지혈증"
      ]
    },
    {
      "cell_type": "code",
      "execution_count": 18,
      "metadata": {
        "colab": {
          "base_uri": "https://localhost:8080/"
        },
        "id": "RC1sR0HohPaK",
        "outputId": "026ea35f-dfb5-4575-b857-bc7d63fe35bf"
      },
      "outputs": [
        {
          "output_type": "execute_result",
          "data": {
            "text/plain": [
              "여자    7204\n",
              "남자    2796\n",
              "Name: 복부비만, dtype: int64"
            ]
          },
          "metadata": {},
          "execution_count": 18
        }
      ],
      "source": [
        "df['고지혈증']=np.where((df['총콜레스테롤'] > 230) | (df['트리글리세라이드'] >= 200) == True, \"Yes\", \"No\").astype('object')\n",
        "df['복부비만'].value_counts()"
      ]
    },
    {
      "cell_type": "markdown",
      "metadata": {
        "id": "lYl5WjBfhPaK"
      },
      "source": [
        "####3.고혈압진단"
      ]
    },
    {
      "cell_type": "code",
      "execution_count": 19,
      "metadata": {
        "colab": {
          "base_uri": "https://localhost:8080/"
        },
        "id": "w8t5xN4yhPaK",
        "outputId": "644dc2be-ca8a-4fba-efc8-f6dd6556fc63"
      },
      "outputs": [
        {
          "output_type": "stream",
          "name": "stdout",
          "text": [
            "정상         3419\n",
            "주의혈압       2479\n",
            "고혈압 전단계    2450\n",
            "고혈압        1652\n",
            "Name: 고혈압진단, dtype: int64\n"
          ]
        }
      ],
      "source": [
        "# 혈압 기준으로 고혈압 측정\n",
        "result = []\n",
        "for i,j in zip(df['수축기혈압'], df['이완기혈압']):\n",
        "  if (i >= 140) or (j >= 90):\n",
        "    result.append('고혈압')\n",
        "  elif (i >= 120) and (i <= 129):\n",
        "    result.append('주의혈압')\n",
        "  elif (i >= 130) or (j >= 80):\n",
        "    result.append('고혈압 전단계')\n",
        "  else:\n",
        "    result.append('정상')\n",
        "\n",
        "df['고혈압진단'] = result\n",
        "print(df['고혈압진단'].value_counts())"
      ]
    },
    {
      "cell_type": "markdown",
      "metadata": {
        "id": "HgcPU-LIhPaL"
      },
      "source": [
        "#### 4.당뇨진단"
      ]
    },
    {
      "cell_type": "code",
      "execution_count": 20,
      "metadata": {
        "colab": {
          "base_uri": "https://localhost:8080/"
        },
        "id": "eOaF7VMohPaL",
        "outputId": "447523a2-4ce1-4603-8d23-8e6b6673283f"
      },
      "outputs": [
        {
          "output_type": "stream",
          "name": "stdout",
          "text": [
            "정상        5336\n",
            "공복혈당장애    3657\n",
            "당뇨병       1007\n",
            "Name: 당뇨병, dtype: int64\n"
          ]
        }
      ],
      "source": [
        "# 공복혈당 기준으로 당뇨 진단 여부\n",
        "result = [] \n",
        "for i in  df['식전혈당(공복혈당)']: \n",
        "    if i >= 100 and i <= 125:\n",
        "      result.append('공복혈당장애') \n",
        "    elif i >= 126:\n",
        "      result.append('당뇨병')\n",
        "    else:\n",
        "      result.append('정상')        \n",
        "df['당뇨병'] = result\n",
        "print(df['당뇨병'].value_counts())"
      ]
    },
    {
      "cell_type": "markdown",
      "metadata": {
        "id": "LGmir4fqhPaM"
      },
      "source": [
        "####5.빈혈여부"
      ]
    },
    {
      "cell_type": "code",
      "source": [
        "df['빈혈'] = np.where(((df['혈색소'] < 13) & (df['성별']==\"남자\")) | ((df['혈색소'] < 12) & (df['성별']==\"여자\")) == True, \"Yes\", \"No\").astype('object')\n",
        "df['빈혈'].value_counts()"
      ],
      "metadata": {
        "colab": {
          "base_uri": "https://localhost:8080/"
        },
        "id": "rmKNsQwT1ZDn",
        "outputId": "50798363-8dae-4787-b235-2efc11b5bef5"
      },
      "execution_count": 21,
      "outputs": [
        {
          "output_type": "execute_result",
          "data": {
            "text/plain": [
              "No     9237\n",
              "Yes     763\n",
              "Name: 빈혈, dtype: int64"
            ]
          },
          "metadata": {},
          "execution_count": 21
        }
      ]
    },
    {
      "cell_type": "markdown",
      "metadata": {
        "id": "ok2k6c1phPaN"
      },
      "source": [
        "####6.BMI"
      ]
    },
    {
      "cell_type": "code",
      "source": [
        "from locale import bindtextdomain\n",
        "df['bmi']=df['체중']/(df['신장']/100) ** 2\n",
        "df['bmi']=df['bmi'].astype('float64')\n",
        "df['bmi'] = df['bmi'].round(1)\n",
        "\n",
        "result = [] \n",
        "for bmi in  df['bmi']: \n",
        "    if bmi < 18.5: #저체중\n",
        "      result.append(\"저체중\") \n",
        "    elif 18.5 <= bmi < 23: #정상체중\n",
        "      result.append(\"정상체중\")\n",
        "    elif 23 <= bmi < 25: #과체중\n",
        "      result.append(\"과체중\")\n",
        "    elif 25 <= bmi < 30: #경도비만\n",
        "      result.append(\"경도비만\")\n",
        "    elif 30 <= bmi < 35: #중정도비만\n",
        "      result.append(\"중정도비만\")\n",
        "    elif 35 <= bmi: #고도비만\n",
        "      result.append(\"고도비만\") \n",
        "       \n",
        "df['비만판정'] = result\n",
        "df['비만판정'].value_counts()"
      ],
      "metadata": {
        "colab": {
          "base_uri": "https://localhost:8080/"
        },
        "id": "oHmFDPca2UAx",
        "outputId": "20299866-f30e-4d18-c3f2-6a66ff452853"
      },
      "execution_count": 22,
      "outputs": [
        {
          "output_type": "execute_result",
          "data": {
            "text/plain": [
              "정상체중     3608\n",
              "경도비만     3551\n",
              "과체중      1963\n",
              "중정도비만     433\n",
              "저체중       373\n",
              "고도비만       72\n",
              "Name: 비만판정, dtype: int64"
            ]
          },
          "metadata": {},
          "execution_count": 22
        }
      ]
    },
    {
      "cell_type": "code",
      "execution_count": 26,
      "metadata": {
        "id": "hyK4MQ10hPaW"
      },
      "outputs": [],
      "source": [
        "# health_data 전처리 완료한 최종 file 저장\n",
        "df.to_csv('/content/drive/MyDrive/Colab Notebooks/BigMining_아비혁/data/health_new.csv', index=False, encoding='utf-8')"
      ]
    },
    {
      "cell_type": "code",
      "execution_count": 27,
      "metadata": {
        "colab": {
          "base_uri": "https://localhost:8080/"
        },
        "id": "NbkEkba5hPaJ",
        "outputId": "7017dbc5-8a33-43e9-9a8e-e2612a5c975c"
      },
      "outputs": [
        {
          "output_type": "execute_result",
          "data": {
            "text/plain": [
              "Index(['시도', '성별', '흡연상태', '음주여부', '복부비만', '고지혈증', '고혈압진단', '당뇨병', '빈혈',\n",
              "       '비만판정'],\n",
              "      dtype='object')"
            ]
          },
          "metadata": {},
          "execution_count": 27
        }
      ],
      "source": [
        "category_cols = df.select_dtypes('object').columns   # object 변수\n",
        "category_cols"
      ]
    },
    {
      "cell_type": "code",
      "source": [
        "figure, ax_list_list = plt.subplots(5,2);\n",
        "figure.set_size_inches(10,10)\n",
        "#as_list_list[3][3]\n",
        "\n",
        "ax_list = ax_list_list.reshape(10)\n",
        "print(ax_list_list.shape)\n",
        "print(ax_list.shape)\n",
        "\n",
        "for i in range(len(category_cols)):\n",
        "    col = category_cols[i]\n",
        "    sns.countplot(data=df, x=col, ax=ax_list[i])\n",
        "    ax_list[i].set_title(col)\n",
        "\n",
        "plt.tight_layout()\n",
        "plt.show()"
      ],
      "metadata": {
        "colab": {
          "base_uri": "https://localhost:8080/",
          "height": 766
        },
        "id": "ol0KwRydvEyC",
        "outputId": "0ad94ab8-a45d-4f4f-ce53-c0a154247522"
      },
      "execution_count": 29,
      "outputs": [
        {
          "output_type": "stream",
          "name": "stdout",
          "text": [
            "(5, 2)\n",
            "(10,)\n"
          ]
        },
        {
          "output_type": "display_data",
          "data": {
            "text/plain": [
              "<Figure size 720x720 with 10 Axes>"
            ],
            "image/png": "[encoded data removed]"
          },
          "metadata": {
            "needs_background": "light"
          }
        }
      ]
    },
    {
      "cell_type": "code",
      "source": [
        "binwidth = 10\n",
        "df.hist(figsize=(25,20));"
      ],
      "metadata": {
        "colab": {
          "base_uri": "https://localhost:8080/",
          "height": 1000
        },
        "id": "nceHb-phtXJL",
        "outputId": "cb8d0135-669a-4ce8-b4d5-9ba1cf7d1f85"
      },
      "execution_count": 24,
      "outputs": [
        {
          "output_type": "display_data",
          "data": {
            "text/plain": [
              "<Figure size 1800x1440 with 20 Axes>"
            ],
            "image/png": "[encoded data removed]"
          },
          "metadata": {
            "needs_background": "light"
          }
        }
      ]
    },
    {
      "cell_type": "markdown",
      "source": [
        "##분류문제 선정"
      ],
      "metadata": {
        "id": "jmOpfm2o6lU8"
      }
    },
    {
      "cell_type": "markdown",
      "source": [
        "빈혈을 종속변수로 설정하고 나머지 변수를 독립변수로 설정하였다."
      ],
      "metadata": {
        "id": "U8JZdkY8IMwp"
      }
    },
    {
      "cell_type": "code",
      "source": [
        "health = pd.read_csv('/content/drive/MyDrive/Colab Notebooks/BigMining_아비혁/data/health_new.csv', encoding='utf-8')"
      ],
      "metadata": {
        "id": "QiRYpH6K8hvr"
      },
      "execution_count": 55,
      "outputs": []
    },
    {
      "cell_type": "code",
      "source": [
        "health.describe()"
      ],
      "metadata": {
        "colab": {
          "base_uri": "https://localhost:8080/",
          "height": 411
        },
        "id": "5E39JrsZ6b7C",
        "outputId": "d723e6d4-2979-426d-a4de-5979fd7583e5"
      },
      "execution_count": 56,
      "outputs": [
        {
          "output_type": "execute_result",
          "data": {
            "text/plain": [
              "                연령대            신장            체중          허리둘레         시력(좌)  \\\n",
              "count  10000.000000  10000.000000  10000.000000  10000.000000  10000.000000   \n",
              "mean      11.931400    160.983500     63.034500     82.366100      0.933750   \n",
              "std        2.166048      9.211608     12.205294      9.561973      0.662057   \n",
              "min        9.000000    130.000000     30.000000     53.000000      0.100000   \n",
              "25%       10.000000    155.000000     55.000000     76.000000      0.700000   \n",
              "50%       12.000000    160.000000     60.000000     82.000000      0.900000   \n",
              "75%       13.000000    170.000000     70.000000     88.900000      1.200000   \n",
              "max       18.000000    195.000000    130.000000    134.000000      9.900000   \n",
              "\n",
              "              시력(우)         청력(좌)         청력(우)        수축기혈압        이완기혈압  \\\n",
              "count  10000.000000  10000.000000  10000.000000  9912.000000  9912.000000   \n",
              "mean       0.936750      1.050500      1.045200   124.669693    76.789750   \n",
              "std        0.641378      0.227936      0.218545    14.629865     9.931527   \n",
              "min        0.100000      1.000000      1.000000    77.000000    40.000000   \n",
              "25%        0.700000      1.000000      1.000000   115.000000    70.000000   \n",
              "50%        0.900000      1.000000      1.000000   124.000000    77.000000   \n",
              "75%        1.200000      1.000000      1.000000   134.000000    83.000000   \n",
              "max        9.900000      3.000000      3.000000   200.000000   130.000000   \n",
              "\n",
              "       ...     HDL콜레스테롤     LDL콜레스테롤          혈색소          요단백      혈청크레아티닌  \\\n",
              "count  ...  4044.000000  3977.000000  9912.000000  9861.000000  9912.000000   \n",
              "mean   ...    56.158309   116.263264    14.214255     1.119461     0.848484   \n",
              "std    ...    14.484780    37.829955     1.555386     0.489782     0.301012   \n",
              "min    ...    19.000000    13.000000     5.100000     1.000000     0.050000   \n",
              "25%    ...    46.000000    89.000000    13.200000     1.000000     0.700000   \n",
              "50%    ...    54.000000   115.000000    14.200000     1.000000     0.800000   \n",
              "75%    ...    65.000000   141.000000    15.300000     1.000000     1.000000   \n",
              "max    ...   125.000000   297.000000    20.000000     6.000000     9.200000   \n",
              "\n",
              "       (혈청지오티)AST   (혈청지오티)ALT        감마지티피      구강검진수검여부           bmi  \n",
              "count  9912.00000  9912.000000  9912.000000  10000.000000  10000.000000  \n",
              "mean     27.58979    26.789851    38.098668      0.325100     24.202780  \n",
              "std      17.88442    23.735687    58.184579      0.468436      3.490519  \n",
              "min       3.00000     2.000000     3.000000      0.000000     13.300000  \n",
              "25%      20.00000    16.000000    16.000000      0.000000     22.000000  \n",
              "50%      24.00000    21.000000    24.000000      0.000000     23.900000  \n",
              "75%      30.00000    31.000000    39.000000      1.000000     26.100000  \n",
              "max     692.00000  1146.000000  2322.000000      1.000000     43.700000  \n",
              "\n",
              "[8 rows x 23 columns]"
            ],
            "text/html": [
              "\n",
              "  <div id=\"df-87adff00-e8ea-44bc-bc6e-e35d550a6a86\">\n",
              "    <div class=\"colab-df-container\">\n",
              "      <div>\n",
              "<style scoped>\n",
              "    .dataframe tbody tr th:only-of-type {\n",
              "        vertical-align: middle;\n",
              "    }\n",
              "\n",
              "    .dataframe tbody tr th {\n",
              "        vertical-align: top;\n",
              "    }\n",
              "\n",
              "    .dataframe thead th {\n",
              "        text-align: right;\n",
              "    }\n",
              "</style>\n",
              "<table border=\"1\" class=\"dataframe\">\n",
              "  <thead>\n",
              "    <tr style=\"text-align: right;\">\n",
              "      <th></th>\n",
              "      <th>연령대</th>\n",
              "      <th>신장</th>\n",
              "      <th>체중</th>\n",
              "      <th>허리둘레</th>\n",
              "      <th>시력(좌)</th>\n",
              "      <th>시력(우)</th>\n",
              "      <th>청력(좌)</th>\n",
              "      <th>청력(우)</th>\n",
              "      <th>수축기혈압</th>\n",
              "      <th>이완기혈압</th>\n",
              "      <th>...</th>\n",
              "      <th>HDL콜레스테롤</th>\n",
              "      <th>LDL콜레스테롤</th>\n",
              "      <th>혈색소</th>\n",
              "      <th>요단백</th>\n",
              "      <th>혈청크레아티닌</th>\n",
              "      <th>(혈청지오티)AST</th>\n",
              "      <th>(혈청지오티)ALT</th>\n",
              "      <th>감마지티피</th>\n",
              "      <th>구강검진수검여부</th>\n",
              "      <th>bmi</th>\n",
              "    </tr>\n",
              "  </thead>\n",
              "  <tbody>\n",
              "    <tr>\n",
              "      <th>count</th>\n",
              "      <td>10000.000000</td>\n",
              "      <td>10000.000000</td>\n",
              "      <td>10000.000000</td>\n",
              "      <td>10000.000000</td>\n",
              "      <td>10000.000000</td>\n",
              "      <td>10000.000000</td>\n",
              "      <td>10000.000000</td>\n",
              "      <td>10000.000000</td>\n",
              "      <td>9912.000000</td>\n",
              "      <td>9912.000000</td>\n",
              "      <td>...</td>\n",
              "      <td>4044.000000</td>\n",
              "      <td>3977.000000</td>\n",
              "      <td>9912.000000</td>\n",
              "      <td>9861.000000</td>\n",
              "      <td>9912.000000</td>\n",
              "      <td>9912.00000</td>\n",
              "      <td>9912.000000</td>\n",
              "      <td>9912.000000</td>\n",
              "      <td>10000.000000</td>\n",
              "      <td>10000.000000</td>\n",
              "    </tr>\n",
              "    <tr>\n",
              "      <th>mean</th>\n",
              "      <td>11.931400</td>\n",
              "      <td>160.983500</td>\n",
              "      <td>63.034500</td>\n",
              "      <td>82.366100</td>\n",
              "      <td>0.933750</td>\n",
              "      <td>0.936750</td>\n",
              "      <td>1.050500</td>\n",
              "      <td>1.045200</td>\n",
              "      <td>124.669693</td>\n",
              "      <td>76.789750</td>\n",
              "      <td>...</td>\n",
              "      <td>56.158309</td>\n",
              "      <td>116.263264</td>\n",
              "      <td>14.214255</td>\n",
              "      <td>1.119461</td>\n",
              "      <td>0.848484</td>\n",
              "      <td>27.58979</td>\n",
              "      <td>26.789851</td>\n",
              "      <td>38.098668</td>\n",
              "      <td>0.325100</td>\n",
              "      <td>24.202780</td>\n",
              "    </tr>\n",
              "    <tr>\n",
              "      <th>std</th>\n",
              "      <td>2.166048</td>\n",
              "      <td>9.211608</td>\n",
              "      <td>12.205294</td>\n",
              "      <td>9.561973</td>\n",
              "      <td>0.662057</td>\n",
              "      <td>0.641378</td>\n",
              "      <td>0.227936</td>\n",
              "      <td>0.218545</td>\n",
              "      <td>14.629865</td>\n",
              "      <td>9.931527</td>\n",
              "      <td>...</td>\n",
              "      <td>14.484780</td>\n",
              "      <td>37.829955</td>\n",
              "      <td>1.555386</td>\n",
              "      <td>0.489782</td>\n",
              "      <td>0.301012</td>\n",
              "      <td>17.88442</td>\n",
              "      <td>23.735687</td>\n",
              "      <td>58.184579</td>\n",
              "      <td>0.468436</td>\n",
              "      <td>3.490519</td>\n",
              "    </tr>\n",
              "    <tr>\n",
              "      <th>min</th>\n",
              "      <td>9.000000</td>\n",
              "      <td>130.000000</td>\n",
              "      <td>30.000000</td>\n",
              "      <td>53.000000</td>\n",
              "      <td>0.100000</td>\n",
              "      <td>0.100000</td>\n",
              "      <td>1.000000</td>\n",
              "      <td>1.000000</td>\n",
              "      <td>77.000000</td>\n",
              "      <td>40.000000</td>\n",
              "      <td>...</td>\n",
              "      <td>19.000000</td>\n",
              "      <td>13.000000</td>\n",
              "      <td>5.100000</td>\n",
              "      <td>1.000000</td>\n",
              "      <td>0.050000</td>\n",
              "      <td>3.00000</td>\n",
              "      <td>2.000000</td>\n",
              "      <td>3.000000</td>\n",
              "      <td>0.000000</td>\n",
              "      <td>13.300000</td>\n",
              "    </tr>\n",
              "    <tr>\n",
              "      <th>25%</th>\n",
              "      <td>10.000000</td>\n",
              "      <td>155.000000</td>\n",
              "      <td>55.000000</td>\n",
              "      <td>76.000000</td>\n",
              "      <td>0.700000</td>\n",
              "      <td>0.700000</td>\n",
              "      <td>1.000000</td>\n",
              "      <td>1.000000</td>\n",
              "      <td>115.000000</td>\n",
              "      <td>70.000000</td>\n",
              "      <td>...</td>\n",
              "      <td>46.000000</td>\n",
              "      <td>89.000000</td>\n",
              "      <td>13.200000</td>\n",
              "      <td>1.000000</td>\n",
              "      <td>0.700000</td>\n",
              "      <td>20.00000</td>\n",
              "      <td>16.000000</td>\n",
              "      <td>16.000000</td>\n",
              "      <td>0.000000</td>\n",
              "      <td>22.000000</td>\n",
              "    </tr>\n",
              "    <tr>\n",
              "      <th>50%</th>\n",
              "      <td>12.000000</td>\n",
              "      <td>160.000000</td>\n",
              "      <td>60.000000</td>\n",
              "      <td>82.000000</td>\n",
              "      <td>0.900000</td>\n",
              "      <td>0.900000</td>\n",
              "      <td>1.000000</td>\n",
              "      <td>1.000000</td>\n",
              "      <td>124.000000</td>\n",
              "      <td>77.000000</td>\n",
              "      <td>...</td>\n",
              "      <td>54.000000</td>\n",
              "      <td>115.000000</td>\n",
              "      <td>14.200000</td>\n",
              "      <td>1.000000</td>\n",
              "      <td>0.800000</td>\n",
              "      <td>24.00000</td>\n",
              "      <td>21.000000</td>\n",
              "      <td>24.000000</td>\n",
              "      <td>0.000000</td>\n",
              "      <td>23.900000</td>\n",
              "    </tr>\n",
              "    <tr>\n",
              "      <th>75%</th>\n",
              "      <td>13.000000</td>\n",
              "      <td>170.000000</td>\n",
              "      <td>70.000000</td>\n",
              "      <td>88.900000</td>\n",
              "      <td>1.200000</td>\n",
              "      <td>1.200000</td>\n",
              "      <td>1.000000</td>\n",
              "      <td>1.000000</td>\n",
              "      <td>134.000000</td>\n",
              "      <td>83.000000</td>\n",
              "      <td>...</td>\n",
              "      <td>65.000000</td>\n",
              "      <td>141.000000</td>\n",
              "      <td>15.300000</td>\n",
              "      <td>1.000000</td>\n",
              "      <td>1.000000</td>\n",
              "      <td>30.00000</td>\n",
              "      <td>31.000000</td>\n",
              "      <td>39.000000</td>\n",
              "      <td>1.000000</td>\n",
              "      <td>26.100000</td>\n",
              "    </tr>\n",
              "    <tr>\n",
              "      <th>max</th>\n",
              "      <td>18.000000</td>\n",
              "      <td>195.000000</td>\n",
              "      <td>130.000000</td>\n",
              "      <td>134.000000</td>\n",
              "      <td>9.900000</td>\n",
              "      <td>9.900000</td>\n",
              "      <td>3.000000</td>\n",
              "      <td>3.000000</td>\n",
              "      <td>200.000000</td>\n",
              "      <td>130.000000</td>\n",
              "      <td>...</td>\n",
              "      <td>125.000000</td>\n",
              "      <td>297.000000</td>\n",
              "      <td>20.000000</td>\n",
              "      <td>6.000000</td>\n",
              "      <td>9.200000</td>\n",
              "      <td>692.00000</td>\n",
              "      <td>1146.000000</td>\n",
              "      <td>2322.000000</td>\n",
              "      <td>1.000000</td>\n",
              "      <td>43.700000</td>\n",
              "    </tr>\n",
              "  </tbody>\n",
              "</table>\n",
              "<p>8 rows × 23 columns</p>\n",
              "</div>\n",
              "      <button class=\"colab-df-convert\" onclick=\"convertToInteractive('df-87adff00-e8ea-44bc-bc6e-e35d550a6a86')\"\n",
              "              title=\"Convert this dataframe to an interactive table.\"\n",
              "              style=\"display:none;\">\n",
              "        \n",
              "  <svg xmlns=\"http://www.w3.org/2000/svg\" height=\"24px\"viewBox=\"0 0 24 24\"\n",
              "       width=\"24px\">\n",
              "    <path d=\"M0 0h24v24H0V0z\" fill=\"none\"/>\n",
              "    <path d=\"M18.56 5.44l.94 2.06.94-2.06 2.06-.94-2.06-.94-.94-2.06-.94 2.06-2.06.94zm-11 1L8.5 8.5l.94-2.06 2.06-.94-2.06-.94L8.5 2.5l-.94 2.06-2.06.94zm10 10l.94 2.06.94-2.06 2.06-.94-2.06-.94-.94-2.06-.94 2.06-2.06.94z\"/><path d=\"M17.41 7.96l-1.37-1.37c-.4-.4-.92-.59-1.43-.59-.52 0-1.04.2-1.43.59L10.3 9.45l-7.72 7.72c-.78.78-.78 2.05 0 2.83L4 21.41c.39.39.9.59 1.41.59.51 0 1.02-.2 1.41-.59l7.78-7.78 2.81-2.81c.8-.78.8-2.07 0-2.86zM5.41 20L4 18.59l7.72-7.72 1.47 1.35L5.41 20z\"/>\n",
              "  </svg>\n",
              "      </button>\n",
              "      \n",
              "  <style>\n",
              "    .colab-df-container {\n",
              "      display:flex;\n",
              "      flex-wrap:wrap;\n",
              "      gap: 12px;\n",
              "    }\n",
              "\n",
              "    .colab-df-convert {\n",
              "      background-color: #E8F0FE;\n",
              "      border: none;\n",
              "      border-radius: 50%;\n",
              "      cursor: pointer;\n",
              "      display: none;\n",
              "      fill: #1967D2;\n",
              "      height: 32px;\n",
              "      padding: 0 0 0 0;\n",
              "      width: 32px;\n",
              "    }\n",
              "\n",
              "    .colab-df-convert:hover {\n",
              "      background-color: #E2EBFA;\n",
              "      box-shadow: 0px 1px 2px rgba(60, 64, 67, 0.3), 0px 1px 3px 1px rgba(60, 64, 67, 0.15);\n",
              "      fill: #174EA6;\n",
              "    }\n",
              "\n",
              "    [theme=dark] .colab-df-convert {\n",
              "      background-color: #3B4455;\n",
              "      fill: #D2E3FC;\n",
              "    }\n",
              "\n",
              "    [theme=dark] .colab-df-convert:hover {\n",
              "      background-color: #434B5C;\n",
              "      box-shadow: 0px 1px 3px 1px rgba(0, 0, 0, 0.15);\n",
              "      filter: drop-shadow(0px 1px 2px rgba(0, 0, 0, 0.3));\n",
              "      fill: #FFFFFF;\n",
              "    }\n",
              "  </style>\n",
              "\n",
              "      <script>\n",
              "        const buttonEl =\n",
              "          document.querySelector('#df-87adff00-e8ea-44bc-bc6e-e35d550a6a86 button.colab-df-convert');\n",
              "        buttonEl.style.display =\n",
              "          google.colab.kernel.accessAllowed ? 'block' : 'none';\n",
              "\n",
              "        async function convertToInteractive(key) {\n",
              "          const element = document.querySelector('#df-87adff00-e8ea-44bc-bc6e-e35d550a6a86');\n",
              "          const dataTable =\n",
              "            await google.colab.kernel.invokeFunction('convertToInteractive',\n",
              "                                                     [key], {});\n",
              "          if (!dataTable) return;\n",
              "\n",
              "          const docLinkHtml = 'Like what you see? Visit the ' +\n",
              "            '<a target=\"_blank\" href=https://colab.research.google.com/notebooks/data_table.ipynb>data table notebook</a>'\n",
              "            + ' to learn more about interactive tables.';\n",
              "          element.innerHTML = '';\n",
              "          dataTable['output_type'] = 'display_data';\n",
              "          await google.colab.output.renderOutput(dataTable, element);\n",
              "          const docLink = document.createElement('div');\n",
              "          docLink.innerHTML = docLinkHtml;\n",
              "          element.appendChild(docLink);\n",
              "        }\n",
              "      </script>\n",
              "    </div>\n",
              "  </div>\n",
              "  "
            ]
          },
          "metadata": {},
          "execution_count": 56
        }
      ]
    },
    {
      "cell_type": "markdown",
      "source": [
        "na값 절반이 넘는 컬럼 제거"
      ],
      "metadata": {
        "id": "_2u59LqtIVjt"
      }
    },
    {
      "cell_type": "code",
      "source": [
        "health = health.drop(['총콜레스테롤', '트리글리세라이드', 'HDL콜레스테롤', 'LDL콜레스테롤'], axis = 'columns')\n",
        "health = health.dropna(axis = 0)\n",
        "health.info()"
      ],
      "metadata": {
        "colab": {
          "base_uri": "https://localhost:8080/"
        },
        "id": "clRsXsIC6w94",
        "outputId": "6414be3b-421a-4d6f-984b-404c31c6eda1"
      },
      "execution_count": 58,
      "outputs": [
        {
          "output_type": "stream",
          "name": "stdout",
          "text": [
            "<class 'pandas.core.frame.DataFrame'>\n",
            "Int64Index: 9858 entries, 0 to 9999\n",
            "Data columns (total 29 columns):\n",
            " #   Column      Non-Null Count  Dtype  \n",
            "---  ------      --------------  -----  \n",
            " 0   시도          9858 non-null   object \n",
            " 1   성별          9858 non-null   object \n",
            " 2   연령대         9858 non-null   int64  \n",
            " 3   신장          9858 non-null   int64  \n",
            " 4   체중          9858 non-null   int64  \n",
            " 5   허리둘레        9858 non-null   float64\n",
            " 6   시력(좌)       9858 non-null   float64\n",
            " 7   시력(우)       9858 non-null   float64\n",
            " 8   청력(좌)       9858 non-null   int64  \n",
            " 9   청력(우)       9858 non-null   int64  \n",
            " 10  수축기혈압       9858 non-null   float64\n",
            " 11  이완기혈압       9858 non-null   float64\n",
            " 12  식전혈당(공복혈당)  9858 non-null   float64\n",
            " 13  혈색소         9858 non-null   float64\n",
            " 14  요단백         9858 non-null   float64\n",
            " 15  혈청크레아티닌     9858 non-null   float64\n",
            " 16  (혈청지오티)AST  9858 non-null   float64\n",
            " 17  (혈청지오티)ALT  9858 non-null   float64\n",
            " 18  감마지티피       9858 non-null   float64\n",
            " 19  흡연상태        9858 non-null   object \n",
            " 20  음주여부        9858 non-null   object \n",
            " 21  구강검진수검여부    9858 non-null   int64  \n",
            " 22  복부비만        9858 non-null   object \n",
            " 23  고지혈증        9858 non-null   object \n",
            " 24  고혈압진단       9858 non-null   object \n",
            " 25  당뇨병         9858 non-null   object \n",
            " 26  빈혈          9858 non-null   object \n",
            " 27  bmi         9858 non-null   float64\n",
            " 28  비만판정        9858 non-null   object \n",
            "dtypes: float64(13), int64(6), object(10)\n",
            "memory usage: 2.3+ MB\n"
          ]
        }
      ]
    },
    {
      "cell_type": "code",
      "source": [
        "y = health[['빈혈']] \n",
        "X1 = health[['성별','청력(좌)','청력(우)','흡연상태','음주여부','구강검진수검여부','복부비만','고혈압진단','고지혈증', '당뇨병','비만판정']]\n",
        "#범주형변수\n",
        "X2 = health[['허리둘레','신장','체중','연령대', '시력(좌)','시력(우)','수축기혈압','이완기혈압','식전혈당(공복혈당)','혈색소','요단백','혈청크레아티닌','(혈청지오티)AST','(혈청지오티)ALT','감마지티피','bmi']]\n",
        "#연속형 변수\n",
        "cols = ['허리둘레','신장','체중','연령대','시력(좌)','시력(우)','수축기혈압','이완기혈압','식전혈당(공복혈당)','혈색소','요단백','혈청크레아티닌','(혈청지오티)AST','(혈청지오티)ALT','감마지티피','bmi']\n",
        "#standardization scaler에서 컬럼 이름 숫자로 변경되기 때문에 따로 컬럼이름 값 저장해두자\n",
        "X1_dum=pd.get_dummies(X1)\n",
        "#원핫인코딩"
      ],
      "metadata": {
        "id": "X9mPgjwn87Tt"
      },
      "execution_count": 59,
      "outputs": []
    },
    {
      "cell_type": "markdown",
      "source": [
        "Standardization 스케일링"
      ],
      "metadata": {
        "id": "D60o7VinJJXc"
      }
    },
    {
      "cell_type": "code",
      "source": [
        "from sklearn.preprocessing import StandardScaler\n",
        "scaler=StandardScaler()\n",
        "scaler.fit(X2)\n",
        "X_scaled=scaler.transform(X2)\n",
        "X_scaled = pd.DataFrame(X_scaled) #정규분포로 정규화\n",
        "X_scaled.columns=['허리둘레','신장','체중','연령대', '시력(좌)','시력(우)','수축기혈압','이완기혈압','식전혈당(공복혈당)','혈색소','요단백','혈청크레아티닌','(혈청지오티)AST','(혈청지오티)ALT','감마지티피','bmi']\n"
      ],
      "metadata": {
        "id": "FPFYYL_E729P"
      },
      "execution_count": 60,
      "outputs": []
    },
    {
      "cell_type": "code",
      "source": [
        "pd.DataFrame(X_scaled).hist(figsize=(20,15));"
      ],
      "metadata": {
        "colab": {
          "base_uri": "https://localhost:8080/",
          "height": 878
        },
        "id": "hfbhSVCoSGXw",
        "outputId": "23e8c945-7b0c-46b9-c548-17a961089ce4"
      },
      "execution_count": 35,
      "outputs": [
        {
          "output_type": "display_data",
          "data": {
            "text/plain": [
              "<Figure size 1440x1080 with 16 Axes>"
            ],
            "image/png": "[encoded data removed]"
          },
          "metadata": {
            "needs_background": "light"
          }
        }
      ]
    },
    {
      "cell_type": "markdown",
      "source": [
        "범주형 더미 변수, 연속형 스케일링 변수, y 종속변수 합치기"
      ],
      "metadata": {
        "id": "Qoq9azMJJsjI"
      }
    },
    {
      "cell_type": "code",
      "source": [
        "health_new = pd.concat([X1_dum, X_scaled, y], axis=1)"
      ],
      "metadata": {
        "id": "LPN0SAP8QfVW"
      },
      "execution_count": 61,
      "outputs": []
    },
    {
      "cell_type": "code",
      "source": [
        "health_new.head()"
      ],
      "metadata": {
        "colab": {
          "base_uri": "https://localhost:8080/",
          "height": 401
        },
        "id": "vxVn3CODTU4t",
        "outputId": "3958c847-f00c-4f04-b2b8-577ce1789235"
      },
      "execution_count": 62,
      "outputs": [
        {
          "output_type": "execute_result",
          "data": {
            "text/plain": [
              "   청력(좌)  청력(우)  구강검진수검여부  성별_남자  성별_여자  흡연상태_No  흡연상태_NotNow  흡연상태_Yes  \\\n",
              "0    1.0    1.0       0.0    1.0    0.0      1.0          0.0       0.0   \n",
              "1    1.0    1.0       0.0    0.0    1.0      1.0          0.0       0.0   \n",
              "2    1.0    1.0       0.0    0.0    1.0      1.0          0.0       0.0   \n",
              "3    1.0    2.0       1.0    1.0    0.0      1.0          0.0       0.0   \n",
              "4    1.0    1.0       0.0    0.0    1.0      1.0          0.0       0.0   \n",
              "\n",
              "   음주여부_No  음주여부_Yes  ...     이완기혈압  식전혈당(공복혈당)       혈색소       요단백   혈청크레아티닌  \\\n",
              "0      1.0       0.0  ...  0.221117   -0.559170  0.502932 -0.243957  0.859757   \n",
              "1      1.0       0.0  ... -0.383199   -0.680745 -0.978155 -0.243957 -1.181601   \n",
              "2      1.0       0.0  ...  0.321836   -0.072869 -0.913760 -0.243957 -0.501149   \n",
              "3      1.0       0.0  ...  0.724713    1.710231  1.404464 -0.243957  1.199983   \n",
              "4      1.0       0.0  ...  1.228310    0.251331 -1.171340 -0.243957 -0.501149   \n",
              "\n",
              "   (혈청지오티)AST  (혈청지오티)ALT     감마지티피       bmi  빈혈  \n",
              "0   -0.368454    0.007575 -0.293995 -0.633947  No  \n",
              "1   -0.535895   -0.496979 -0.396883  1.344553  No  \n",
              "2   -0.033574   -0.076517 -0.534068 -0.375882  No  \n",
              "3    2.087335    2.950809  0.580558  0.885771  No  \n",
              "4   -0.535895   -0.412887 -0.414031 -0.978034  No  \n",
              "\n",
              "[5 rows x 44 columns]"
            ],
            "text/html": [
              "\n",
              "  <div id=\"df-a9de1458-900f-4dfb-b032-ba0949eafeb7\">\n",
              "    <div class=\"colab-df-container\">\n",
              "      <div>\n",
              "<style scoped>\n",
              "    .dataframe tbody tr th:only-of-type {\n",
              "        vertical-align: middle;\n",
              "    }\n",
              "\n",
              "    .dataframe tbody tr th {\n",
              "        vertical-align: top;\n",
              "    }\n",
              "\n",
              "    .dataframe thead th {\n",
              "        text-align: right;\n",
              "    }\n",
              "</style>\n",
              "<table border=\"1\" class=\"dataframe\">\n",
              "  <thead>\n",
              "    <tr style=\"text-align: right;\">\n",
              "      <th></th>\n",
              "      <th>청력(좌)</th>\n",
              "      <th>청력(우)</th>\n",
              "      <th>구강검진수검여부</th>\n",
              "      <th>성별_남자</th>\n",
              "      <th>성별_여자</th>\n",
              "      <th>흡연상태_No</th>\n",
              "      <th>흡연상태_NotNow</th>\n",
              "      <th>흡연상태_Yes</th>\n",
              "      <th>음주여부_No</th>\n",
              "      <th>음주여부_Yes</th>\n",
              "      <th>...</th>\n",
              "      <th>이완기혈압</th>\n",
              "      <th>식전혈당(공복혈당)</th>\n",
              "      <th>혈색소</th>\n",
              "      <th>요단백</th>\n",
              "      <th>혈청크레아티닌</th>\n",
              "      <th>(혈청지오티)AST</th>\n",
              "      <th>(혈청지오티)ALT</th>\n",
              "      <th>감마지티피</th>\n",
              "      <th>bmi</th>\n",
              "      <th>빈혈</th>\n",
              "    </tr>\n",
              "  </thead>\n",
              "  <tbody>\n",
              "    <tr>\n",
              "      <th>0</th>\n",
              "      <td>1.0</td>\n",
              "      <td>1.0</td>\n",
              "      <td>0.0</td>\n",
              "      <td>1.0</td>\n",
              "      <td>0.0</td>\n",
              "      <td>1.0</td>\n",
              "      <td>0.0</td>\n",
              "      <td>0.0</td>\n",
              "      <td>1.0</td>\n",
              "      <td>0.0</td>\n",
              "      <td>...</td>\n",
              "      <td>0.221117</td>\n",
              "      <td>-0.559170</td>\n",
              "      <td>0.502932</td>\n",
              "      <td>-0.243957</td>\n",
              "      <td>0.859757</td>\n",
              "      <td>-0.368454</td>\n",
              "      <td>0.007575</td>\n",
              "      <td>-0.293995</td>\n",
              "      <td>-0.633947</td>\n",
              "      <td>No</td>\n",
              "    </tr>\n",
              "    <tr>\n",
              "      <th>1</th>\n",
              "      <td>1.0</td>\n",
              "      <td>1.0</td>\n",
              "      <td>0.0</td>\n",
              "      <td>0.0</td>\n",
              "      <td>1.0</td>\n",
              "      <td>1.0</td>\n",
              "      <td>0.0</td>\n",
              "      <td>0.0</td>\n",
              "      <td>1.0</td>\n",
              "      <td>0.0</td>\n",
              "      <td>...</td>\n",
              "      <td>-0.383199</td>\n",
              "      <td>-0.680745</td>\n",
              "      <td>-0.978155</td>\n",
              "      <td>-0.243957</td>\n",
              "      <td>-1.181601</td>\n",
              "      <td>-0.535895</td>\n",
              "      <td>-0.496979</td>\n",
              "      <td>-0.396883</td>\n",
              "      <td>1.344553</td>\n",
              "      <td>No</td>\n",
              "    </tr>\n",
              "    <tr>\n",
              "      <th>2</th>\n",
              "      <td>1.0</td>\n",
              "      <td>1.0</td>\n",
              "      <td>0.0</td>\n",
              "      <td>0.0</td>\n",
              "      <td>1.0</td>\n",
              "      <td>1.0</td>\n",
              "      <td>0.0</td>\n",
              "      <td>0.0</td>\n",
              "      <td>1.0</td>\n",
              "      <td>0.0</td>\n",
              "      <td>...</td>\n",
              "      <td>0.321836</td>\n",
              "      <td>-0.072869</td>\n",
              "      <td>-0.913760</td>\n",
              "      <td>-0.243957</td>\n",
              "      <td>-0.501149</td>\n",
              "      <td>-0.033574</td>\n",
              "      <td>-0.076517</td>\n",
              "      <td>-0.534068</td>\n",
              "      <td>-0.375882</td>\n",
              "      <td>No</td>\n",
              "    </tr>\n",
              "    <tr>\n",
              "      <th>3</th>\n",
              "      <td>1.0</td>\n",
              "      <td>2.0</td>\n",
              "      <td>1.0</td>\n",
              "      <td>1.0</td>\n",
              "      <td>0.0</td>\n",
              "      <td>1.0</td>\n",
              "      <td>0.0</td>\n",
              "      <td>0.0</td>\n",
              "      <td>1.0</td>\n",
              "      <td>0.0</td>\n",
              "      <td>...</td>\n",
              "      <td>0.724713</td>\n",
              "      <td>1.710231</td>\n",
              "      <td>1.404464</td>\n",
              "      <td>-0.243957</td>\n",
              "      <td>1.199983</td>\n",
              "      <td>2.087335</td>\n",
              "      <td>2.950809</td>\n",
              "      <td>0.580558</td>\n",
              "      <td>0.885771</td>\n",
              "      <td>No</td>\n",
              "    </tr>\n",
              "    <tr>\n",
              "      <th>4</th>\n",
              "      <td>1.0</td>\n",
              "      <td>1.0</td>\n",
              "      <td>0.0</td>\n",
              "      <td>0.0</td>\n",
              "      <td>1.0</td>\n",
              "      <td>1.0</td>\n",
              "      <td>0.0</td>\n",
              "      <td>0.0</td>\n",
              "      <td>1.0</td>\n",
              "      <td>0.0</td>\n",
              "      <td>...</td>\n",
              "      <td>1.228310</td>\n",
              "      <td>0.251331</td>\n",
              "      <td>-1.171340</td>\n",
              "      <td>-0.243957</td>\n",
              "      <td>-0.501149</td>\n",
              "      <td>-0.535895</td>\n",
              "      <td>-0.412887</td>\n",
              "      <td>-0.414031</td>\n",
              "      <td>-0.978034</td>\n",
              "      <td>No</td>\n",
              "    </tr>\n",
              "  </tbody>\n",
              "</table>\n",
              "<p>5 rows × 44 columns</p>\n",
              "</div>\n",
              "      <button class=\"colab-df-convert\" onclick=\"convertToInteractive('df-a9de1458-900f-4dfb-b032-ba0949eafeb7')\"\n",
              "              title=\"Convert this dataframe to an interactive table.\"\n",
              "              style=\"display:none;\">\n",
              "        \n",
              "  <svg xmlns=\"http://www.w3.org/2000/svg\" height=\"24px\"viewBox=\"0 0 24 24\"\n",
              "       width=\"24px\">\n",
              "    <path d=\"M0 0h24v24H0V0z\" fill=\"none\"/>\n",
              "    <path d=\"M18.56 5.44l.94 2.06.94-2.06 2.06-.94-2.06-.94-.94-2.06-.94 2.06-2.06.94zm-11 1L8.5 8.5l.94-2.06 2.06-.94-2.06-.94L8.5 2.5l-.94 2.06-2.06.94zm10 10l.94 2.06.94-2.06 2.06-.94-2.06-.94-.94-2.06-.94 2.06-2.06.94z\"/><path d=\"M17.41 7.96l-1.37-1.37c-.4-.4-.92-.59-1.43-.59-.52 0-1.04.2-1.43.59L10.3 9.45l-7.72 7.72c-.78.78-.78 2.05 0 2.83L4 21.41c.39.39.9.59 1.41.59.51 0 1.02-.2 1.41-.59l7.78-7.78 2.81-2.81c.8-.78.8-2.07 0-2.86zM5.41 20L4 18.59l7.72-7.72 1.47 1.35L5.41 20z\"/>\n",
              "  </svg>\n",
              "      </button>\n",
              "      \n",
              "  <style>\n",
              "    .colab-df-container {\n",
              "      display:flex;\n",
              "      flex-wrap:wrap;\n",
              "      gap: 12px;\n",
              "    }\n",
              "\n",
              "    .colab-df-convert {\n",
              "      background-color: #E8F0FE;\n",
              "      border: none;\n",
              "      border-radius: 50%;\n",
              "      cursor: pointer;\n",
              "      display: none;\n",
              "      fill: #1967D2;\n",
              "      height: 32px;\n",
              "      padding: 0 0 0 0;\n",
              "      width: 32px;\n",
              "    }\n",
              "\n",
              "    .colab-df-convert:hover {\n",
              "      background-color: #E2EBFA;\n",
              "      box-shadow: 0px 1px 2px rgba(60, 64, 67, 0.3), 0px 1px 3px 1px rgba(60, 64, 67, 0.15);\n",
              "      fill: #174EA6;\n",
              "    }\n",
              "\n",
              "    [theme=dark] .colab-df-convert {\n",
              "      background-color: #3B4455;\n",
              "      fill: #D2E3FC;\n",
              "    }\n",
              "\n",
              "    [theme=dark] .colab-df-convert:hover {\n",
              "      background-color: #434B5C;\n",
              "      box-shadow: 0px 1px 3px 1px rgba(0, 0, 0, 0.15);\n",
              "      filter: drop-shadow(0px 1px 2px rgba(0, 0, 0, 0.3));\n",
              "      fill: #FFFFFF;\n",
              "    }\n",
              "  </style>\n",
              "\n",
              "      <script>\n",
              "        const buttonEl =\n",
              "          document.querySelector('#df-a9de1458-900f-4dfb-b032-ba0949eafeb7 button.colab-df-convert');\n",
              "        buttonEl.style.display =\n",
              "          google.colab.kernel.accessAllowed ? 'block' : 'none';\n",
              "\n",
              "        async function convertToInteractive(key) {\n",
              "          const element = document.querySelector('#df-a9de1458-900f-4dfb-b032-ba0949eafeb7');\n",
              "          const dataTable =\n",
              "            await google.colab.kernel.invokeFunction('convertToInteractive',\n",
              "                                                     [key], {});\n",
              "          if (!dataTable) return;\n",
              "\n",
              "          const docLinkHtml = 'Like what you see? Visit the ' +\n",
              "            '<a target=\"_blank\" href=https://colab.research.google.com/notebooks/data_table.ipynb>data table notebook</a>'\n",
              "            + ' to learn more about interactive tables.';\n",
              "          element.innerHTML = '';\n",
              "          dataTable['output_type'] = 'display_data';\n",
              "          await google.colab.output.renderOutput(dataTable, element);\n",
              "          const docLink = document.createElement('div');\n",
              "          docLink.innerHTML = docLinkHtml;\n",
              "          element.appendChild(docLink);\n",
              "        }\n",
              "      </script>\n",
              "    </div>\n",
              "  </div>\n",
              "  "
            ]
          },
          "metadata": {},
          "execution_count": 62
        }
      ]
    },
    {
      "cell_type": "markdown",
      "source": [
        "#행 방향으로 na값 제거"
      ],
      "metadata": {
        "id": "dz_gORHxJ0uR"
      }
    },
    {
      "cell_type": "code",
      "source": [
        "health_new = health_new.dropna(axis = 0)\n",
        "health_new.info()"
      ],
      "metadata": {
        "colab": {
          "base_uri": "https://localhost:8080/"
        },
        "id": "NpT8s74V9Y9q",
        "outputId": "c41975ba-6d34-4f86-94b2-1f7f536dd6ed"
      },
      "execution_count": 75,
      "outputs": [
        {
          "output_type": "stream",
          "name": "stdout",
          "text": [
            "<class 'pandas.core.frame.DataFrame'>\n",
            "Int64Index: 9717 entries, 0 to 9857\n",
            "Data columns (total 44 columns):\n",
            " #   Column         Non-Null Count  Dtype  \n",
            "---  ------         --------------  -----  \n",
            " 0   청력(좌)          9717 non-null   float64\n",
            " 1   청력(우)          9717 non-null   float64\n",
            " 2   구강검진수검여부       9717 non-null   float64\n",
            " 3   성별_남자          9717 non-null   float64\n",
            " 4   성별_여자          9717 non-null   float64\n",
            " 5   흡연상태_No        9717 non-null   float64\n",
            " 6   흡연상태_NotNow    9717 non-null   float64\n",
            " 7   흡연상태_Yes       9717 non-null   float64\n",
            " 8   음주여부_No        9717 non-null   float64\n",
            " 9   음주여부_Yes       9717 non-null   float64\n",
            " 10  복부비만_남자        9717 non-null   float64\n",
            " 11  복부비만_여자        9717 non-null   float64\n",
            " 12  고혈압진단_고혈압      9717 non-null   float64\n",
            " 13  고혈압진단_고혈압 전단계  9717 non-null   float64\n",
            " 14  고혈압진단_정상       9717 non-null   float64\n",
            " 15  고혈압진단_주의혈압     9717 non-null   float64\n",
            " 16  고지혈증_No        9717 non-null   float64\n",
            " 17  고지혈증_Yes       9717 non-null   float64\n",
            " 18  당뇨병_공복혈당장애     9717 non-null   float64\n",
            " 19  당뇨병_당뇨병        9717 non-null   float64\n",
            " 20  당뇨병_정상         9717 non-null   float64\n",
            " 21  비만판정_경도비만      9717 non-null   float64\n",
            " 22  비만판정_고도비만      9717 non-null   float64\n",
            " 23  비만판정_과체중       9717 non-null   float64\n",
            " 24  비만판정_저체중       9717 non-null   float64\n",
            " 25  비만판정_정상체중      9717 non-null   float64\n",
            " 26  비만판정_중정도비만     9717 non-null   float64\n",
            " 27  허리둘레           9717 non-null   float64\n",
            " 28  신장             9717 non-null   float64\n",
            " 29  체중             9717 non-null   float64\n",
            " 30  연령대            9717 non-null   float64\n",
            " 31  시력(좌)          9717 non-null   float64\n",
            " 32  시력(우)          9717 non-null   float64\n",
            " 33  수축기혈압          9717 non-null   float64\n",
            " 34  이완기혈압          9717 non-null   float64\n",
            " 35  식전혈당(공복혈당)     9717 non-null   float64\n",
            " 36  혈색소            9717 non-null   float64\n",
            " 37  요단백            9717 non-null   float64\n",
            " 38  혈청크레아티닌        9717 non-null   float64\n",
            " 39  (혈청지오티)AST     9717 non-null   float64\n",
            " 40  (혈청지오티)ALT     9717 non-null   float64\n",
            " 41  감마지티피          9717 non-null   float64\n",
            " 42  bmi            9717 non-null   float64\n",
            " 43  빈혈             9717 non-null   object \n",
            "dtypes: float64(43), object(1)\n",
            "memory usage: 3.3+ MB\n"
          ]
        }
      ]
    },
    {
      "cell_type": "code",
      "source": [
        "X = health_new.loc[:,:'bmi']\n",
        "y = health_new['빈혈']"
      ],
      "metadata": {
        "id": "DKPcaIDUTh07"
      },
      "execution_count": 76,
      "outputs": []
    },
    {
      "cell_type": "code",
      "source": [
        "from sklearn.tree import DecisionTreeClassifier\n",
        "from sklearn.model_selection import train_test_split\n",
        "\n",
        "X_train, X_test, y_train, y_test = train_test_split(X, y, test_size = 0.25, stratify = y, random_state=42)\n",
        "print(X_train.shape, X_test.shape, y_train.shape, y_test.shape)"
      ],
      "metadata": {
        "colab": {
          "base_uri": "https://localhost:8080/"
        },
        "id": "x19ZwczZTsnm",
        "outputId": "34c621a4-b0ac-4e13-eb8b-83f2418ed2e3"
      },
      "execution_count": 77,
      "outputs": [
        {
          "output_type": "stream",
          "name": "stdout",
          "text": [
            "(7287, 43) (2430, 43) (7287,) (2430,)\n"
          ]
        }
      ]
    },
    {
      "cell_type": "markdown",
      "source": [
        "##분류모델선택"
      ],
      "metadata": {
        "id": "H6K0WbO5RPhK"
      }
    },
    {
      "cell_type": "markdown",
      "source": [
        "###의사결정나무"
      ],
      "metadata": {
        "id": "APti-L3XKjMx"
      }
    },
    {
      "cell_type": "code",
      "source": [
        "tree = DecisionTreeClassifier(random_state=42)  \n",
        "tree.fit(X_train, y_train)\n",
        "print(\"학습용 데이터 정확도: {:.3f}\".format(tree.score(X_train, y_train)))\n",
        "print(\"시험용 데이터 정확도: {:.3f}\".format(tree.score(X_test, y_test)))"
      ],
      "metadata": {
        "id": "Fw_XF7EXT3Xg",
        "colab": {
          "base_uri": "https://localhost:8080/"
        },
        "outputId": "948619c8-970b-4784-f334-74e6c09db6c7"
      },
      "execution_count": 78,
      "outputs": [
        {
          "output_type": "stream",
          "name": "stdout",
          "text": [
            "학습용 데이터 정확도: 1.000\n",
            "시험용 데이터 정확도: 0.844\n"
          ]
        }
      ]
    },
    {
      "cell_type": "markdown",
      "source": [
        "깊이 4로 조절하여 test score값 정확도 높임"
      ],
      "metadata": {
        "id": "6I6oXHtTKllh"
      }
    },
    {
      "cell_type": "code",
      "source": [
        "tree = DecisionTreeClassifier(max_depth=4, random_state=42)\n",
        "tree.fit(X_train, y_train)\n",
        "\n",
        "print(\"학습용 데이터 정확도: {:.3f}\".format(tree.score(X_train, y_train)))\n",
        "print(\"시험용 데이터 정확도: {:.3f}\".format(tree.score(X_test, y_test)))"
      ],
      "metadata": {
        "colab": {
          "base_uri": "https://localhost:8080/"
        },
        "id": "0UTTkUwpA_Wl",
        "outputId": "64aeed63-d1eb-48a3-84d1-52f275630b88"
      },
      "execution_count": 79,
      "outputs": [
        {
          "output_type": "stream",
          "name": "stdout",
          "text": [
            "학습용 데이터 정확도: 0.925\n",
            "시험용 데이터 정확도: 0.922\n"
          ]
        }
      ]
    },
    {
      "cell_type": "code",
      "source": [
        "import numpy as np\n",
        "\n",
        "def plot_feature_importances_health_new(model):\n",
        "    plt.rcParams[\"figure.figsize\"] = (9,6)\n",
        "    n_features = len(health_new.columns[:43])  \n",
        "    plt.barh(np.arange(n_features), model.feature_importances_, align='center') \n",
        "    plt.yticks(np.arange(n_features), health_new.columns[:43])   # 30개의 눈금을 표시하고 눈금 레이블을 변수 이름으로 지정\n",
        "    plt.xlabel(\"feature importance\")\n",
        "    plt.ylabel(\"feature\")\n",
        "    plt.ylim(-1, n_features) #Y 축 범위 지정 (-1 ~ 30)\n",
        "\n",
        "plot_feature_importances_health_new(tree)"
      ],
      "metadata": {
        "colab": {
          "base_uri": "https://localhost:8080/",
          "height": 389
        },
        "id": "hX81m0hXEgW1",
        "outputId": "0c4184bc-bc3b-4e90-e411-0ddc798dedc5"
      },
      "execution_count": 82,
      "outputs": [
        {
          "output_type": "display_data",
          "data": {
            "text/plain": [
              "<Figure size 648x432 with 1 Axes>"
            ],
            "image/png": "[encoded data removed]"
          },
          "metadata": {
            "needs_background": "light"
          }
        }
      ]
    },
    {
      "cell_type": "markdown",
      "source": [
        "남자 변수의 중요도가 가장 높게 나왔고 그 다음으로는 음주를 안한 사람, 저체중인 사람의 변수 중요도가 높게 나오고 있다. 변수 중요도가 낮게 나왔다고 해서 해당 변수가 중요하지 않다는 뜻이 아니기 때문에 배제하면 안된다."
      ],
      "metadata": {
        "id": "AeXfkKr1K3lz"
      }
    },
    {
      "cell_type": "markdown",
      "source": [
        "###랜덤포레스트"
      ],
      "metadata": {
        "id": "0nNBeheTLGQp"
      }
    },
    {
      "cell_type": "code",
      "source": [
        "from sklearn.ensemble import RandomForestClassifier\n",
        "forest = RandomForestClassifier(n_estimators=100, random_state=42)\n",
        "forest.fit(X_train, y_train)\n",
        "\n",
        "print(\"학습용 데이터 세트 정확도: {:.3f}\".format(forest.score(X_train, y_train)))\n",
        "print(\"시험용 데이터 세트 정확도: {:.3f}\".format(forest.score(X_test, y_test)))"
      ],
      "metadata": {
        "colab": {
          "base_uri": "https://localhost:8080/"
        },
        "id": "2bMRhlMUFNPd",
        "outputId": "8ecd3209-5019-4dfb-c7fe-33e33e1259ee"
      },
      "execution_count": 84,
      "outputs": [
        {
          "output_type": "stream",
          "name": "stdout",
          "text": [
            "학습용 데이터 세트 정확도: 1.000\n",
            "시험용 데이터 세트 정확도: 0.923\n"
          ]
        }
      ]
    },
    {
      "cell_type": "code",
      "source": [
        "plot_feature_importances_health_new(forest)"
      ],
      "metadata": {
        "colab": {
          "base_uri": "https://localhost:8080/",
          "height": 389
        },
        "id": "kaVPyZAcFcvy",
        "outputId": "67198ff3-44da-47d1-df61-e80078f7f033"
      },
      "execution_count": 85,
      "outputs": [
        {
          "output_type": "display_data",
          "data": {
            "text/plain": [
              "<Figure size 648x432 with 1 Axes>"
            ],
            "image/png": "[encoded data removed]"
          },
          "metadata": {
            "needs_background": "light"
          }
        }
      ]
    },
    {
      "cell_type": "markdown",
      "source": [
        "###그래디언트 부스팅"
      ],
      "metadata": {
        "id": "OCsIZJZUNH63"
      }
    },
    {
      "cell_type": "code",
      "source": [
        "from sklearn.ensemble import GradientBoostingClassifier\n",
        "# 기본값 max_depth= 3, n_estimators=100, learning_rate = 0.1\n",
        "\n",
        "gbrt = GradientBoostingClassifier(random_state=42)\n",
        "gbrt.fit(X_train, y_train)\n",
        "\n",
        "print(\"학습용 데이터 세트 정확도: {:.3f}\".format(gbrt.score(X_train, y_train)))\n",
        "print(\"시험용 데이터 세트 정확도: {:.3f}\".format(gbrt.score(X_test, y_test)))"
      ],
      "metadata": {
        "colab": {
          "base_uri": "https://localhost:8080/"
        },
        "id": "rkSd6_FQFzJV",
        "outputId": "1ab558ae-4596-480e-c25e-2de302dce391"
      },
      "execution_count": 101,
      "outputs": [
        {
          "output_type": "stream",
          "name": "stdout",
          "text": [
            "학습용 데이터 세트 정확도: 0.927\n",
            "시험용 데이터 세트 정확도: 0.922\n"
          ]
        }
      ]
    },
    {
      "cell_type": "code",
      "source": [
        "#나무 깊이 제한\n",
        "gbrt = GradientBoostingClassifier(random_state=42, max_depth=2)\n",
        "gbrt.fit(X_train, y_train)\n",
        "\n",
        "print(\"학습 데이터 세트 정확도: {:.3f}\".format(gbrt.score(X_train, y_train)))\n",
        "print(\"시험용 데이터 세트 정확도: {:.3f}\".format(gbrt.score(X_test, y_test)))"
      ],
      "metadata": {
        "colab": {
          "base_uri": "https://localhost:8080/"
        },
        "id": "_f_6oDEEF6Aa",
        "outputId": "653af935-0ee7-4118-c5fa-0f0f7fa56ae7"
      },
      "execution_count": 108,
      "outputs": [
        {
          "output_type": "stream",
          "name": "stdout",
          "text": [
            "학습 데이터 세트 정확도: 0.925\n",
            "시험용 데이터 세트 정확도: 0.923\n"
          ]
        }
      ]
    },
    {
      "cell_type": "code",
      "source": [
        "#학습률 감소\n",
        "gbrt = GradientBoostingClassifier(random_state=42, learning_rate=0.01)\n",
        "gbrt.fit(X_train, y_train)\n",
        "\n",
        "print(\"학습 데이터 세트 정확도: {:.3f}\".format(gbrt.score(X_train, y_train)))\n",
        "print(\"시험용 데이터 세트 정확도: {:.3f}\".format(gbrt.score(X_test, y_test)))"
      ],
      "metadata": {
        "colab": {
          "base_uri": "https://localhost:8080/"
        },
        "id": "3NH8cxb8GD8p",
        "outputId": "579fa72e-52a1-41de-96e0-dc5a66d76187"
      },
      "execution_count": 106,
      "outputs": [
        {
          "output_type": "stream",
          "name": "stdout",
          "text": [
            "학습 데이터 세트 정확도: 0.924\n",
            "시험용 데이터 세트 정확도: 0.923\n"
          ]
        }
      ]
    },
    {
      "cell_type": "code",
      "source": [
        "#나무 깊이 제한 & 학습률 감소\n",
        "gbrt = GradientBoostingClassifier(random_state=42, max_depth=4, learning_rate=0.01)\n",
        "gbrt.fit(X_train, y_train)\n",
        "\n",
        "print(\"학습 데이터 세트 정확도: {:.3f}\".format(gbrt.score(X_train, y_train)))\n",
        "print(\"시험용 데이터 세트 정확도: {:.3f}\".format(gbrt.score(X_test, y_test)))"
      ],
      "metadata": {
        "colab": {
          "base_uri": "https://localhost:8080/"
        },
        "id": "Ak1oq6ghGHzd",
        "outputId": "7ae9eff0-f10b-48a7-f659-161cf41d9a3c"
      },
      "execution_count": 116,
      "outputs": [
        {
          "output_type": "stream",
          "name": "stdout",
          "text": [
            "학습 데이터 세트 정확도: 0.925\n",
            "시험용 데이터 세트 정확도: 0.923\n"
          ]
        }
      ]
    },
    {
      "cell_type": "code",
      "source": [
        "plot_feature_importances_health_new(gbrt)"
      ],
      "metadata": {
        "colab": {
          "base_uri": "https://localhost:8080/",
          "height": 389
        },
        "id": "NELCtO5ZOFpd",
        "outputId": "19092099-068e-4661-893b-dd10ee501b84"
      },
      "execution_count": 112,
      "outputs": [
        {
          "output_type": "display_data",
          "data": {
            "text/plain": [
              "<Figure size 648x432 with 1 Axes>"
            ],
            "image/png": "[encoded data removed]"
          },
          "metadata": {
            "needs_background": "light"
          }
        }
      ]
    },
    {
      "cell_type": "markdown",
      "source": [],
      "metadata": {
        "id": "02h_xPw3OPlt"
      }
    },
    {
      "cell_type": "markdown",
      "source": [
        "###knn모델"
      ],
      "metadata": {
        "id": "HaltzM-QYhQg"
      }
    },
    {
      "cell_type": "code",
      "source": [
        "from sklearn.neighbors import KNeighborsClassifier\n",
        "param_grid={'n_neighbors': [1, 2, 3, 4, 5, 6, 7, 8, 9 , 10]}\n",
        "knn=GridSearchCV(KNeighborsClassifier(), param_grid, cv=5, return_train_score = True)\n",
        "knn.fit(X_train, y_train)\n",
        "\n",
        "\n",
        "print(\"학습 데이터 세트 정확도: {:.3f}\".format(knn.score(X_train, y_train)))\n",
        "print(\"시험용 데이터 세트 정확도: {:.3f}\".format(knn.score(X_test, y_test)))"
      ],
      "metadata": {
        "colab": {
          "base_uri": "https://localhost:8080/"
        },
        "id": "4oo1sAg-X9M8",
        "outputId": "c934beb8-4fa9-4595-c78b-3bbbda16496c"
      },
      "execution_count": 145,
      "outputs": [
        {
          "output_type": "stream",
          "name": "stdout",
          "text": [
            "학습 데이터 세트 정확도: 0.924\n",
            "시험용 데이터 세트 정확도: 0.923\n"
          ]
        }
      ]
    },
    {
      "cell_type": "markdown",
      "source": [
        "##분류모델평가"
      ],
      "metadata": {
        "id": "pGU44yRSOzQB"
      }
    },
    {
      "cell_type": "markdown",
      "source": [
        "###의사결정나무 vs 랜덤포레스트 vs 그래디언트 부스팅 교차검증"
      ],
      "metadata": {
        "id": "BuMza_2ANpfr"
      }
    },
    {
      "cell_type": "markdown",
      "source": [
        "cv = 10으로 설정한 후 교차검증을 실시한 결과 그래디언트 부스팅 모델이 92.3%, 랜덤포레스트 모델이 91.4%, 의사결정나무가 85.8% 순으로 정확도가 높았다."
      ],
      "metadata": {
        "id": "aJT7-HIpQNM1"
      }
    },
    {
      "cell_type": "code",
      "source": [
        "from sklearn.model_selection import cross_val_score\n",
        "from sklearn.model_selection import StratifiedKFold\n",
        "kf = StratifiedKFold(n_splits=10)\n",
        "\n",
        "dt_scores = cross_val_score(tree, X_train, y_train, cv=kf, scoring='accuracy')  \n",
        "rf_scores = cross_val_score(forest, X_train, y_train, cv=kf, scoring='accuracy')\n",
        "gbrt_scores = cross_val_score(gbrt, X_train, y_train, cv=kf, scoring='accuracy')\n",
        "knn_scores = cross_val_score(knn, X_train, y_train, cv=kf, scoring='accuracy')\n",
        "\n",
        "print(\"Decision tree :{:.3f}\".format(dt_scores.mean())) \n",
        "print(\"Random forest :{:.3f}\".format(rf_scores.mean())) \n",
        "print(\"Gradient boosting :{:.3f}\".format(gbrt_scores.mean())) \n",
        "print(\"KNN :{:.3f}\".format(knn_scores.mean())) \n"
      ],
      "metadata": {
        "colab": {
          "base_uri": "https://localhost:8080/"
        },
        "id": "c15CSCIPGZuz",
        "outputId": "bd908daa-03ad-4f5a-b56a-bf11a9d91a6d"
      },
      "execution_count": 142,
      "outputs": [
        {
          "output_type": "stream",
          "name": "stdout",
          "text": [
            "Decision tree :0.858\n",
            "Random forest :0.914\n",
            "Gradient boosting :0.923\n",
            "KNN :0.924\n"
          ]
        }
      ]
    },
    {
      "cell_type": "markdown",
      "source": [
        "각 fold마다 클래스의 분포가 동일하도록 분할한 후 교차검증을 실시한 결과 knn모델이 92.4%,  그래디언트 부스팅 모델이 92.3%, 랜덤포레스트 모델이 91.4%, 의사결정나무가 85.8% 순으로 높았다. knn모델과 그래디언트 부스팅 모델을 그리드 서치로 평가해보자"
      ],
      "metadata": {
        "id": "2aRVILkUQand"
      }
    },
    {
      "cell_type": "markdown",
      "source": [
        "###그리드서치"
      ],
      "metadata": {
        "id": "dExUd4hiO1Hw"
      }
    },
    {
      "cell_type": "code",
      "source": [
        "from sklearn.model_selection import GridSearchCV\n",
        "\n",
        "parameters = {'max_depth':[1,2,3,4], 'learning_rate':[0.1,0.08, 0.06, 0.04, 0.02]}\n",
        "\n",
        "init_gbrt = GradientBoostingClassifier(random_state=42)\n",
        "grid_gbrt = GridSearchCV(init_gbrt, param_grid=parameters, cv=3, refit=True)\n",
        "grid_gbrt.fit(X_train, y_train)\n",
        "\n",
        "scores_df = pd.DataFrame(grid_gbrt.cv_results_)\n",
        "scores_df[['params', 'mean_test_score', 'rank_test_score', 'split0_test_score', 'split1_test_score', 'split2_test_score']]\n",
        "\n",
        "print('GridSearchCV 최적 파라미터:', grid_gbrt.best_params_)\n",
        "print('GridSearchCV 최고 정확도: {0:.4f}'.format(grid_gbrt.best_score_))\n",
        "print(\"시험용 데이터 세트 정확도: {:.3f}\".format(grid_gbrt.score(X_test, y_test)))\n",
        "\n",
        "\n",
        "param_grid = {'n_neighbors': [1, 2, 3, 4, 5, 6, 7, 8, 9 , 10]}\n",
        "knn=GridSearchCV(KNeighborsClassifier(), param_grid, cv=5, return_train_score = True)\n",
        "knn.fit(X_train, y_train)\n",
        "\n",
        "print(\"Best Parameter: {}\".format(knn.best_params_))\n",
        "print(\"Best Cross-validity Score: {:.3f}\".format(knn.best_score_))\n",
        "print(\"Test set Score: {:.3f}\".format(knn.score(X_test, y_test)))"
      ],
      "metadata": {
        "colab": {
          "base_uri": "https://localhost:8080/"
        },
        "id": "nGA2Ln3AHB8Y",
        "outputId": "96729561-fefb-42c6-f623-a68c1147c6dd"
      },
      "execution_count": 149,
      "outputs": [
        {
          "output_type": "stream",
          "name": "stdout",
          "text": [
            "GridSearchCV 최적 파라미터: {'learning_rate': 0.06, 'max_depth': 2}\n",
            "GridSearchCV 최고 정확도: 0.9238\n",
            "시험용 데이터 세트 정확도: 0.923\n",
            "Best Parameter: {'n_neighbors': 10}\n",
            "Best Cross-validity Score: 0.924\n",
            "Test set Score: 0.923\n"
          ]
        }
      ]
    },
    {
      "cell_type": "markdown",
      "source": [
        "##분류모델평가결과"
      ],
      "metadata": {
        "id": "MfZ3XlQ6RV-q"
      }
    },
    {
      "cell_type": "code",
      "source": [
        "from sklearn.metrics import accuracy_score, precision_score, recall_score, f1_score\n",
        "from sklearn.metrics import confusion_matrix \n",
        "from sklearn.metrics import classification_report\n",
        "from sklearn.metrics import classification_report\n",
        "\n",
        "\n",
        "\n",
        "grid_gbrt_pred = grid_gbrt.predict(X_test)\n",
        "knn_pred=knn.predict(X_test)\n",
        "\n",
        "\n",
        "print('Gradient boosting 시험용 데이터 세트 정확도:{:.3f}'.format(accuracy_score(y_test, grid_gbrt_pred)))\n",
        "print(confusion_matrix(y_test, grid_gbrt_pred))\n",
        "print(\"Gradient Boosting:\")\n",
        "print(classification_report(y_test, grid_gbrt_pred, target_names=[\"No\", \"Yes\"]))\n",
        "\n",
        "cfreport=classification_report(y_test, knn_pred)\n",
        "print(\"분류예측 레포트:\\n\", cfreport)"
      ],
      "metadata": {
        "colab": {
          "base_uri": "https://localhost:8080/"
        },
        "id": "2n_0p53KGk2G",
        "outputId": "9b949c88-b934-452a-de61-f6ba8fd01632"
      },
      "execution_count": 144,
      "outputs": [
        {
          "output_type": "stream",
          "name": "stdout",
          "text": [
            "Gradient boosting 시험용 데이터 세트 정확도:0.923\n",
            "[[2243    1]\n",
            " [ 186    0]]\n",
            "Gradient Boosting:\n",
            "              precision    recall  f1-score   support\n",
            "\n",
            "          No       0.92      1.00      0.96      2244\n",
            "         Yes       0.00      0.00      0.00       186\n",
            "\n",
            "    accuracy                           0.92      2430\n",
            "   macro avg       0.46      0.50      0.48      2430\n",
            "weighted avg       0.85      0.92      0.89      2430\n",
            "\n",
            "분류예측 레포트:\n",
            "               precision    recall  f1-score   support\n",
            "\n",
            "          No       0.92      1.00      0.96      2244\n",
            "         Yes       0.00      0.00      0.00       186\n",
            "\n",
            "    accuracy                           0.92      2430\n",
            "   macro avg       0.46      0.50      0.48      2430\n",
            "weighted avg       0.85      0.92      0.89      2430\n",
            "\n"
          ]
        }
      ]
    },
    {
      "cell_type": "markdown",
      "source": [
        "의사결정나무에서는 남자 변수의 중요도가 가장 높게 나왔고 그 다음으로는 음주를 안한 사람, 저체중인 사람의 변수 중요도가 높게 나오고 있다.\n",
        "랜덤포레스트에서는 감마지티피, 허리둘레, 수축기혈압, 혈색소 등의 변수가 중요도가 높다는 점을 알 수 있다.\n",
        "그래디언트 부스팅에서는 저체중 판단을 받고 성별이 여자인 사람의 변수의 중요도가 높게 나타나고 있다.\n",
        "\n",
        "분류예측모델의 정확도 평균을 비교해본 결과 의사결정나무는 85.8%, 랜덤포레스트는 91.4%, 그래디언트 부스팅과 knn모델은 약 92%의 정확성이 나타나고 있고 knn모델은 그래디언트 부스팅모델보다 0.001%가 더 높다는 점에서 knn모델이 네 모델 중 가장 정확함을 알 수 있다.\n",
        "\n"
      ],
      "metadata": {
        "id": "hPqruyv8etAg"
      }
    },
    {
      "cell_type": "code",
      "source": [],
      "metadata": {
        "id": "PTW_4_OHG7W9"
      },
      "execution_count": null,
      "outputs": []
    }
  ],
  "metadata": {
    "kernelspec": {
      "display_name": "Python 3",
      "language": "python",
      "name": "python3"
    },
    "language_info": {
      "codemirror_mode": {
        "name": "ipython",
        "version": 3
      },
      "file_extension": ".py",
      "mimetype": "text/x-python",
      "name": "python",
      "nbconvert_exporter": "python",
      "pygments_lexer": "ipython3",
      "version": "3.7.4"
    },
    "colab": {
      "provenance": [],
      "toc_visible": true,
      "include_colab_link": true
    }
  },
  "nbformat": 4,
  "nbformat_minor": 0
}