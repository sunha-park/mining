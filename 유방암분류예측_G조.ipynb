{
  "nbformat": 4,
  "nbformat_minor": 0,
  "metadata": {
    "kernelspec": {
      "display_name": "Python 3",
      "language": "python",
      "name": "python3"
    },
    "language_info": {
      "codemirror_mode": {
        "name": "ipython",
        "version": 3
      },
      "file_extension": ".py",
      "mimetype": "text/x-python",
      "name": "python",
      "nbconvert_exporter": "python",
      "pygments_lexer": "ipython3",
      "version": "3.7.1"
    },
    "colab": {
      "provenance": [],
      "collapsed_sections": [
        "j8TvQRq8yhTx"
      ],
      "include_colab_link": true
    }
  },
  "cells": [
    {
      "cell_type": "markdown",
      "metadata": {
        "id": "view-in-github",
        "colab_type": "text"
      },
      "source": [
        "<a href=\"https://colab.research.google.com/github/sunha-park/mining/blob/main/%EC%9C%A0%EB%B0%A9%EC%95%94%EB%B6%84%EB%A5%98%EC%98%88%EC%B8%A1_G%EC%A1%B0.ipynb\" target=\"_parent\"><img src=\"https://colab.research.google.com/assets/colab-badge.svg\" alt=\"Open In Colab\"/></a>"
      ]
    },
    {
      "cell_type": "markdown",
      "metadata": {
        "id": "-k8_F-mxRSXn"
      },
      "source": [
        "# 1. 데이터 불러오기와 데이터셋 나누기: 전처리 데이터 적용"
      ]
    },
    {
      "cell_type": "code",
      "metadata": {
        "id": "LIP3Vw_tSvCh",
        "colab": {
          "base_uri": "https://localhost:8080/"
        },
        "outputId": "cead6580-12c1-4a4a-c4d6-bc509a23b4fc"
      },
      "source": [
        "from google.colab import drive\n",
        "drive.mount('/content/drive')"
      ],
      "execution_count": null,
      "outputs": [
        {
          "output_type": "stream",
          "name": "stdout",
          "text": [
            "Mounted at /content/drive\n"
          ]
        }
      ]
    },
    {
      "cell_type": "code",
      "metadata": {
        "id": "5DR5Hip9RSXq"
      },
      "source": [
        "import warnings\n",
        "warnings.filterwarnings(\"ignore\")\n",
        "import pandas as pd"
      ],
      "execution_count": null,
      "outputs": []
    },
    {
      "cell_type": "code",
      "metadata": {
        "id": "JPt7Vet-RSYA"
      },
      "source": [
        "data=pd.read_csv('/content/drive/MyDrive/Colab Notebooks/MachineLearning/data/breast-cancer-wisconsin.csv', encoding='utf-8')"
      ],
      "execution_count": null,
      "outputs": []
    },
    {
      "cell_type": "code",
      "source": [
        "data.info()"
      ],
      "metadata": {
        "colab": {
          "base_uri": "https://localhost:8080/"
        },
        "id": "9Y6KdTeGdvxl",
        "outputId": "17946720-d1a5-4749-9bdd-b81f963e47b7"
      },
      "execution_count": null,
      "outputs": [
        {
          "output_type": "stream",
          "name": "stdout",
          "text": [
            "<class 'pandas.core.frame.DataFrame'>\n",
            "RangeIndex: 683 entries, 0 to 682\n",
            "Data columns (total 11 columns):\n",
            " #   Column                       Non-Null Count  Dtype\n",
            "---  ------                       --------------  -----\n",
            " 0   code                         683 non-null    int64\n",
            " 1   Clump_Thickness              683 non-null    int64\n",
            " 2   Cell_Size                    683 non-null    int64\n",
            " 3   Cell_Shape                   683 non-null    int64\n",
            " 4   Marginal_Adhesion            683 non-null    int64\n",
            " 5   Single_Epithelial_Cell_Size  683 non-null    int64\n",
            " 6   Bare_Nuclei                  683 non-null    int64\n",
            " 7   Bland_Chromatin              683 non-null    int64\n",
            " 8   Normal_Nucleoli              683 non-null    int64\n",
            " 9   Mitoses                      683 non-null    int64\n",
            " 10  Class                        683 non-null    int64\n",
            "dtypes: int64(11)\n",
            "memory usage: 58.8 KB\n"
          ]
        }
      ]
    },
    {
      "cell_type": "code",
      "source": [
        "data.isnull().sum()"
      ],
      "metadata": {
        "colab": {
          "base_uri": "https://localhost:8080/"
        },
        "id": "ryDh9Pk5lNnq",
        "outputId": "99e99db7-0ac5-426b-f5d1-3bb11c9b5a04"
      },
      "execution_count": null,
      "outputs": [
        {
          "output_type": "execute_result",
          "data": {
            "text/plain": [
              "code                           0\n",
              "Clump_Thickness                0\n",
              "Cell_Size                      0\n",
              "Cell_Shape                     0\n",
              "Marginal_Adhesion              0\n",
              "Single_Epithelial_Cell_Size    0\n",
              "Bare_Nuclei                    0\n",
              "Bland_Chromatin                0\n",
              "Normal_Nucleoli                0\n",
              "Mitoses                        0\n",
              "Class                          0\n",
              "dtype: int64"
            ]
          },
          "metadata": {},
          "execution_count": 38
        }
      ]
    },
    {
      "cell_type": "code",
      "source": [
        "data['Class'].unique()"
      ],
      "metadata": {
        "colab": {
          "base_uri": "https://localhost:8080/"
        },
        "id": "tfTCLSmmeCeQ",
        "outputId": "3d168b96-5fd1-463d-e020-12cf3b319c67"
      },
      "execution_count": null,
      "outputs": [
        {
          "output_type": "execute_result",
          "data": {
            "text/plain": [
              "array([0, 1])"
            ]
          },
          "metadata": {},
          "execution_count": 6
        }
      ]
    },
    {
      "cell_type": "code",
      "source": [
        "data.hist(figsize=(25,20));"
      ],
      "metadata": {
        "colab": {
          "base_uri": "https://localhost:8080/",
          "height": 1000
        },
        "id": "jEa5j9d4lkTc",
        "outputId": "906ea524-823e-4b38-f022-a05d6b7a6f94"
      },
      "execution_count": null,
      "outputs": [
        {
          "output_type": "display_data",
          "data": {
            "text/plain": [
              "<Figure size 1800x1440 with 12 Axes>"
            ],
            "image/png": "[encoded data removed]"
          },
          "metadata": {
            "needs_background": "light"
          }
        }
      ]
    },
    {
      "cell_type": "code",
      "metadata": {
        "id": "DBDhsToFRSYG"
      },
      "source": [
        "X=data.iloc[:,1:10]\n",
        "y=data['Class']"
      ],
      "execution_count": null,
      "outputs": []
    },
    {
      "cell_type": "markdown",
      "source": [
        "min-max"
      ],
      "metadata": {
        "id": "ggkWlQsTu25j"
      }
    },
    {
      "cell_type": "code",
      "source": [
        "from sklearn.preprocessing import MinMaxScaler\n",
        "scaler1=MinMaxScaler()\n",
        "#연속형데이터 X2에 대해 min-max 스케일링에서 사용할 최소값과 최대값을 구하자.\n",
        "scaler1.fit(X)\n",
        "X_scaled1=scaler1.transform(X)\n",
        "pd.DataFrame(X_scaled1).describe()"
      ],
      "metadata": {
        "colab": {
          "base_uri": "https://localhost:8080/",
          "height": 300
        },
        "id": "3ge3zuk0srHw",
        "outputId": "671e9807-4617-4af1-a965-1debce46c5c2"
      },
      "execution_count": null,
      "outputs": [
        {
          "output_type": "execute_result",
          "data": {
            "text/plain": [
              "                0           1           2           3           4           5  \\\n",
              "count  683.000000  683.000000  683.000000  683.000000  683.000000  683.000000   \n",
              "mean     0.382463    0.238978    0.246136    0.203351    0.248251    0.282740   \n",
              "std      0.313418    0.340572    0.332065    0.318285    0.247009    0.404873   \n",
              "min      0.000000    0.000000    0.000000    0.000000    0.000000    0.000000   \n",
              "25%      0.111111    0.000000    0.000000    0.000000    0.111111    0.000000   \n",
              "50%      0.333333    0.000000    0.000000    0.000000    0.111111    0.000000   \n",
              "75%      0.555556    0.444444    0.444444    0.333333    0.333333    0.555556   \n",
              "max      1.000000    1.000000    1.000000    1.000000    1.000000    1.000000   \n",
              "\n",
              "                6           7           8  \n",
              "count  683.000000  683.000000  683.000000  \n",
              "mean     0.271677    0.207744    0.067025  \n",
              "std      0.272189    0.339185    0.192519  \n",
              "min      0.000000    0.000000    0.000000  \n",
              "25%      0.111111    0.000000    0.000000  \n",
              "50%      0.222222    0.000000    0.000000  \n",
              "75%      0.444444    0.333333    0.000000  \n",
              "max      1.000000    1.000000    1.000000  "
            ],
            "text/html": [
              "\n",
              "  <div id=\"df-7a2f9774-23c9-473d-a7f6-cffe6105c052\">\n",
              "    <div class=\"colab-df-container\">\n",
              "      <div>\n",
              "<style scoped>\n",
              "    .dataframe tbody tr th:only-of-type {\n",
              "        vertical-align: middle;\n",
              "    }\n",
              "\n",
              "    .dataframe tbody tr th {\n",
              "        vertical-align: top;\n",
              "    }\n",
              "\n",
              "    .dataframe thead th {\n",
              "        text-align: right;\n",
              "    }\n",
              "</style>\n",
              "<table border=\"1\" class=\"dataframe\">\n",
              "  <thead>\n",
              "    <tr style=\"text-align: right;\">\n",
              "      <th></th>\n",
              "      <th>0</th>\n",
              "      <th>1</th>\n",
              "      <th>2</th>\n",
              "      <th>3</th>\n",
              "      <th>4</th>\n",
              "      <th>5</th>\n",
              "      <th>6</th>\n",
              "      <th>7</th>\n",
              "      <th>8</th>\n",
              "    </tr>\n",
              "  </thead>\n",
              "  <tbody>\n",
              "    <tr>\n",
              "      <th>count</th>\n",
              "      <td>683.000000</td>\n",
              "      <td>683.000000</td>\n",
              "      <td>683.000000</td>\n",
              "      <td>683.000000</td>\n",
              "      <td>683.000000</td>\n",
              "      <td>683.000000</td>\n",
              "      <td>683.000000</td>\n",
              "      <td>683.000000</td>\n",
              "      <td>683.000000</td>\n",
              "    </tr>\n",
              "    <tr>\n",
              "      <th>mean</th>\n",
              "      <td>0.382463</td>\n",
              "      <td>0.238978</td>\n",
              "      <td>0.246136</td>\n",
              "      <td>0.203351</td>\n",
              "      <td>0.248251</td>\n",
              "      <td>0.282740</td>\n",
              "      <td>0.271677</td>\n",
              "      <td>0.207744</td>\n",
              "      <td>0.067025</td>\n",
              "    </tr>\n",
              "    <tr>\n",
              "      <th>std</th>\n",
              "      <td>0.313418</td>\n",
              "      <td>0.340572</td>\n",
              "      <td>0.332065</td>\n",
              "      <td>0.318285</td>\n",
              "      <td>0.247009</td>\n",
              "      <td>0.404873</td>\n",
              "      <td>0.272189</td>\n",
              "      <td>0.339185</td>\n",
              "      <td>0.192519</td>\n",
              "    </tr>\n",
              "    <tr>\n",
              "      <th>min</th>\n",
              "      <td>0.000000</td>\n",
              "      <td>0.000000</td>\n",
              "      <td>0.000000</td>\n",
              "      <td>0.000000</td>\n",
              "      <td>0.000000</td>\n",
              "      <td>0.000000</td>\n",
              "      <td>0.000000</td>\n",
              "      <td>0.000000</td>\n",
              "      <td>0.000000</td>\n",
              "    </tr>\n",
              "    <tr>\n",
              "      <th>25%</th>\n",
              "      <td>0.111111</td>\n",
              "      <td>0.000000</td>\n",
              "      <td>0.000000</td>\n",
              "      <td>0.000000</td>\n",
              "      <td>0.111111</td>\n",
              "      <td>0.000000</td>\n",
              "      <td>0.111111</td>\n",
              "      <td>0.000000</td>\n",
              "      <td>0.000000</td>\n",
              "    </tr>\n",
              "    <tr>\n",
              "      <th>50%</th>\n",
              "      <td>0.333333</td>\n",
              "      <td>0.000000</td>\n",
              "      <td>0.000000</td>\n",
              "      <td>0.000000</td>\n",
              "      <td>0.111111</td>\n",
              "      <td>0.000000</td>\n",
              "      <td>0.222222</td>\n",
              "      <td>0.000000</td>\n",
              "      <td>0.000000</td>\n",
              "    </tr>\n",
              "    <tr>\n",
              "      <th>75%</th>\n",
              "      <td>0.555556</td>\n",
              "      <td>0.444444</td>\n",
              "      <td>0.444444</td>\n",
              "      <td>0.333333</td>\n",
              "      <td>0.333333</td>\n",
              "      <td>0.555556</td>\n",
              "      <td>0.444444</td>\n",
              "      <td>0.333333</td>\n",
              "      <td>0.000000</td>\n",
              "    </tr>\n",
              "    <tr>\n",
              "      <th>max</th>\n",
              "      <td>1.000000</td>\n",
              "      <td>1.000000</td>\n",
              "      <td>1.000000</td>\n",
              "      <td>1.000000</td>\n",
              "      <td>1.000000</td>\n",
              "      <td>1.000000</td>\n",
              "      <td>1.000000</td>\n",
              "      <td>1.000000</td>\n",
              "      <td>1.000000</td>\n",
              "    </tr>\n",
              "  </tbody>\n",
              "</table>\n",
              "</div>\n",
              "      <button class=\"colab-df-convert\" onclick=\"convertToInteractive('df-7a2f9774-23c9-473d-a7f6-cffe6105c052')\"\n",
              "              title=\"Convert this dataframe to an interactive table.\"\n",
              "              style=\"display:none;\">\n",
              "        \n",
              "  <svg xmlns=\"http://www.w3.org/2000/svg\" height=\"24px\"viewBox=\"0 0 24 24\"\n",
              "       width=\"24px\">\n",
              "    <path d=\"M0 0h24v24H0V0z\" fill=\"none\"/>\n",
              "    <path d=\"M18.56 5.44l.94 2.06.94-2.06 2.06-.94-2.06-.94-.94-2.06-.94 2.06-2.06.94zm-11 1L8.5 8.5l.94-2.06 2.06-.94-2.06-.94L8.5 2.5l-.94 2.06-2.06.94zm10 10l.94 2.06.94-2.06 2.06-.94-2.06-.94-.94-2.06-.94 2.06-2.06.94z\"/><path d=\"M17.41 7.96l-1.37-1.37c-.4-.4-.92-.59-1.43-.59-.52 0-1.04.2-1.43.59L10.3 9.45l-7.72 7.72c-.78.78-.78 2.05 0 2.83L4 21.41c.39.39.9.59 1.41.59.51 0 1.02-.2 1.41-.59l7.78-7.78 2.81-2.81c.8-.78.8-2.07 0-2.86zM5.41 20L4 18.59l7.72-7.72 1.47 1.35L5.41 20z\"/>\n",
              "  </svg>\n",
              "      </button>\n",
              "      \n",
              "  <style>\n",
              "    .colab-df-container {\n",
              "      display:flex;\n",
              "      flex-wrap:wrap;\n",
              "      gap: 12px;\n",
              "    }\n",
              "\n",
              "    .colab-df-convert {\n",
              "      background-color: #E8F0FE;\n",
              "      border: none;\n",
              "      border-radius: 50%;\n",
              "      cursor: pointer;\n",
              "      display: none;\n",
              "      fill: #1967D2;\n",
              "      height: 32px;\n",
              "      padding: 0 0 0 0;\n",
              "      width: 32px;\n",
              "    }\n",
              "\n",
              "    .colab-df-convert:hover {\n",
              "      background-color: #E2EBFA;\n",
              "      box-shadow: 0px 1px 2px rgba(60, 64, 67, 0.3), 0px 1px 3px 1px rgba(60, 64, 67, 0.15);\n",
              "      fill: #174EA6;\n",
              "    }\n",
              "\n",
              "    [theme=dark] .colab-df-convert {\n",
              "      background-color: #3B4455;\n",
              "      fill: #D2E3FC;\n",
              "    }\n",
              "\n",
              "    [theme=dark] .colab-df-convert:hover {\n",
              "      background-color: #434B5C;\n",
              "      box-shadow: 0px 1px 3px 1px rgba(0, 0, 0, 0.15);\n",
              "      filter: drop-shadow(0px 1px 2px rgba(0, 0, 0, 0.3));\n",
              "      fill: #FFFFFF;\n",
              "    }\n",
              "  </style>\n",
              "\n",
              "      <script>\n",
              "        const buttonEl =\n",
              "          document.querySelector('#df-7a2f9774-23c9-473d-a7f6-cffe6105c052 button.colab-df-convert');\n",
              "        buttonEl.style.display =\n",
              "          google.colab.kernel.accessAllowed ? 'block' : 'none';\n",
              "\n",
              "        async function convertToInteractive(key) {\n",
              "          const element = document.querySelector('#df-7a2f9774-23c9-473d-a7f6-cffe6105c052');\n",
              "          const dataTable =\n",
              "            await google.colab.kernel.invokeFunction('convertToInteractive',\n",
              "                                                     [key], {});\n",
              "          if (!dataTable) return;\n",
              "\n",
              "          const docLinkHtml = 'Like what you see? Visit the ' +\n",
              "            '<a target=\"_blank\" href=https://colab.research.google.com/notebooks/data_table.ipynb>data table notebook</a>'\n",
              "            + ' to learn more about interactive tables.';\n",
              "          element.innerHTML = '';\n",
              "          dataTable['output_type'] = 'display_data';\n",
              "          await google.colab.output.renderOutput(dataTable, element);\n",
              "          const docLink = document.createElement('div');\n",
              "          docLink.innerHTML = docLinkHtml;\n",
              "          element.appendChild(docLink);\n",
              "        }\n",
              "      </script>\n",
              "    </div>\n",
              "  </div>\n",
              "  "
            ]
          },
          "metadata": {},
          "execution_count": 110
        }
      ]
    },
    {
      "cell_type": "markdown",
      "source": [
        "standard"
      ],
      "metadata": {
        "id": "fIXeJn2du4k_"
      }
    },
    {
      "cell_type": "code",
      "source": [
        "from sklearn.preprocessing import StandardScaler\n",
        "scaler2=StandardScaler()\n",
        "scaler2.fit(X)\n",
        "X_scaled2=scaler2.transform(X)"
      ],
      "metadata": {
        "id": "Cjnzh5BqnHB2"
      },
      "execution_count": null,
      "outputs": []
    },
    {
      "cell_type": "code",
      "source": [
        "pd.DataFrame(X_scaled2).describe() #정규분포로 정규화"
      ],
      "metadata": {
        "colab": {
          "base_uri": "https://localhost:8080/",
          "height": 300
        },
        "id": "4kqR3WDfn7OW",
        "outputId": "770da00d-e6ec-4ca6-b767-19f0f95146c9"
      },
      "execution_count": null,
      "outputs": [
        {
          "output_type": "execute_result",
          "data": {
            "text/plain": [
              "                  0           1             2             3             4  \\\n",
              "count  6.830000e+02  683.000000  6.830000e+02  6.830000e+02  6.830000e+02   \n",
              "mean   1.144359e-16    0.000000 -6.241957e-17  4.681468e-17 -2.080652e-17   \n",
              "std    1.000733e+00    1.000733  1.000733e+00  1.000733e+00  1.000733e+00   \n",
              "min   -1.221191e+00   -0.702212 -7.417736e-01 -6.393655e-01 -1.005763e+00   \n",
              "25%   -8.664174e-01   -0.702212 -7.417736e-01 -6.393655e-01 -5.556085e-01   \n",
              "50%   -1.568693e-01   -0.702212 -7.417736e-01 -6.393655e-01 -5.556085e-01   \n",
              "75%    5.526787e-01    0.603740  5.976352e-01  4.086824e-01  3.447014e-01   \n",
              "max    1.971775e+00    2.236180  2.271896e+00  2.504778e+00  3.045631e+00   \n",
              "\n",
              "                5             6             7             8  \n",
              "count  683.000000  6.830000e+02  6.830000e+02  6.830000e+02  \n",
              "mean     0.000000  3.120978e-17  2.080652e-17  3.120978e-17  \n",
              "std      1.000733  1.000733e+00  1.000733e+00  1.000733e+00  \n",
              "min     -0.698853 -9.988531e-01 -6.129274e-01 -3.483997e-01  \n",
              "25%     -0.698853 -5.903401e-01 -6.129274e-01 -3.483997e-01  \n",
              "50%     -0.698853 -1.818272e-01 -6.129274e-01 -3.483997e-01  \n",
              "75%      0.674325  6.351988e-01  3.705403e-01 -3.483997e-01  \n",
              "max      1.772867  2.677764e+00  2.337476e+00  4.849690e+00  "
            ],
            "text/html": [
              "\n",
              "  <div id=\"df-3b170185-efb1-41de-a2e1-0fb0b66c3019\">\n",
              "    <div class=\"colab-df-container\">\n",
              "      <div>\n",
              "<style scoped>\n",
              "    .dataframe tbody tr th:only-of-type {\n",
              "        vertical-align: middle;\n",
              "    }\n",
              "\n",
              "    .dataframe tbody tr th {\n",
              "        vertical-align: top;\n",
              "    }\n",
              "\n",
              "    .dataframe thead th {\n",
              "        text-align: right;\n",
              "    }\n",
              "</style>\n",
              "<table border=\"1\" class=\"dataframe\">\n",
              "  <thead>\n",
              "    <tr style=\"text-align: right;\">\n",
              "      <th></th>\n",
              "      <th>0</th>\n",
              "      <th>1</th>\n",
              "      <th>2</th>\n",
              "      <th>3</th>\n",
              "      <th>4</th>\n",
              "      <th>5</th>\n",
              "      <th>6</th>\n",
              "      <th>7</th>\n",
              "      <th>8</th>\n",
              "    </tr>\n",
              "  </thead>\n",
              "  <tbody>\n",
              "    <tr>\n",
              "      <th>count</th>\n",
              "      <td>6.830000e+02</td>\n",
              "      <td>683.000000</td>\n",
              "      <td>6.830000e+02</td>\n",
              "      <td>6.830000e+02</td>\n",
              "      <td>6.830000e+02</td>\n",
              "      <td>683.000000</td>\n",
              "      <td>6.830000e+02</td>\n",
              "      <td>6.830000e+02</td>\n",
              "      <td>6.830000e+02</td>\n",
              "    </tr>\n",
              "    <tr>\n",
              "      <th>mean</th>\n",
              "      <td>1.144359e-16</td>\n",
              "      <td>0.000000</td>\n",
              "      <td>-6.241957e-17</td>\n",
              "      <td>4.681468e-17</td>\n",
              "      <td>-2.080652e-17</td>\n",
              "      <td>0.000000</td>\n",
              "      <td>3.120978e-17</td>\n",
              "      <td>2.080652e-17</td>\n",
              "      <td>3.120978e-17</td>\n",
              "    </tr>\n",
              "    <tr>\n",
              "      <th>std</th>\n",
              "      <td>1.000733e+00</td>\n",
              "      <td>1.000733</td>\n",
              "      <td>1.000733e+00</td>\n",
              "      <td>1.000733e+00</td>\n",
              "      <td>1.000733e+00</td>\n",
              "      <td>1.000733</td>\n",
              "      <td>1.000733e+00</td>\n",
              "      <td>1.000733e+00</td>\n",
              "      <td>1.000733e+00</td>\n",
              "    </tr>\n",
              "    <tr>\n",
              "      <th>min</th>\n",
              "      <td>-1.221191e+00</td>\n",
              "      <td>-0.702212</td>\n",
              "      <td>-7.417736e-01</td>\n",
              "      <td>-6.393655e-01</td>\n",
              "      <td>-1.005763e+00</td>\n",
              "      <td>-0.698853</td>\n",
              "      <td>-9.988531e-01</td>\n",
              "      <td>-6.129274e-01</td>\n",
              "      <td>-3.483997e-01</td>\n",
              "    </tr>\n",
              "    <tr>\n",
              "      <th>25%</th>\n",
              "      <td>-8.664174e-01</td>\n",
              "      <td>-0.702212</td>\n",
              "      <td>-7.417736e-01</td>\n",
              "      <td>-6.393655e-01</td>\n",
              "      <td>-5.556085e-01</td>\n",
              "      <td>-0.698853</td>\n",
              "      <td>-5.903401e-01</td>\n",
              "      <td>-6.129274e-01</td>\n",
              "      <td>-3.483997e-01</td>\n",
              "    </tr>\n",
              "    <tr>\n",
              "      <th>50%</th>\n",
              "      <td>-1.568693e-01</td>\n",
              "      <td>-0.702212</td>\n",
              "      <td>-7.417736e-01</td>\n",
              "      <td>-6.393655e-01</td>\n",
              "      <td>-5.556085e-01</td>\n",
              "      <td>-0.698853</td>\n",
              "      <td>-1.818272e-01</td>\n",
              "      <td>-6.129274e-01</td>\n",
              "      <td>-3.483997e-01</td>\n",
              "    </tr>\n",
              "    <tr>\n",
              "      <th>75%</th>\n",
              "      <td>5.526787e-01</td>\n",
              "      <td>0.603740</td>\n",
              "      <td>5.976352e-01</td>\n",
              "      <td>4.086824e-01</td>\n",
              "      <td>3.447014e-01</td>\n",
              "      <td>0.674325</td>\n",
              "      <td>6.351988e-01</td>\n",
              "      <td>3.705403e-01</td>\n",
              "      <td>-3.483997e-01</td>\n",
              "    </tr>\n",
              "    <tr>\n",
              "      <th>max</th>\n",
              "      <td>1.971775e+00</td>\n",
              "      <td>2.236180</td>\n",
              "      <td>2.271896e+00</td>\n",
              "      <td>2.504778e+00</td>\n",
              "      <td>3.045631e+00</td>\n",
              "      <td>1.772867</td>\n",
              "      <td>2.677764e+00</td>\n",
              "      <td>2.337476e+00</td>\n",
              "      <td>4.849690e+00</td>\n",
              "    </tr>\n",
              "  </tbody>\n",
              "</table>\n",
              "</div>\n",
              "      <button class=\"colab-df-convert\" onclick=\"convertToInteractive('df-3b170185-efb1-41de-a2e1-0fb0b66c3019')\"\n",
              "              title=\"Convert this dataframe to an interactive table.\"\n",
              "              style=\"display:none;\">\n",
              "        \n",
              "  <svg xmlns=\"http://www.w3.org/2000/svg\" height=\"24px\"viewBox=\"0 0 24 24\"\n",
              "       width=\"24px\">\n",
              "    <path d=\"M0 0h24v24H0V0z\" fill=\"none\"/>\n",
              "    <path d=\"M18.56 5.44l.94 2.06.94-2.06 2.06-.94-2.06-.94-.94-2.06-.94 2.06-2.06.94zm-11 1L8.5 8.5l.94-2.06 2.06-.94-2.06-.94L8.5 2.5l-.94 2.06-2.06.94zm10 10l.94 2.06.94-2.06 2.06-.94-2.06-.94-.94-2.06-.94 2.06-2.06.94z\"/><path d=\"M17.41 7.96l-1.37-1.37c-.4-.4-.92-.59-1.43-.59-.52 0-1.04.2-1.43.59L10.3 9.45l-7.72 7.72c-.78.78-.78 2.05 0 2.83L4 21.41c.39.39.9.59 1.41.59.51 0 1.02-.2 1.41-.59l7.78-7.78 2.81-2.81c.8-.78.8-2.07 0-2.86zM5.41 20L4 18.59l7.72-7.72 1.47 1.35L5.41 20z\"/>\n",
              "  </svg>\n",
              "      </button>\n",
              "      \n",
              "  <style>\n",
              "    .colab-df-container {\n",
              "      display:flex;\n",
              "      flex-wrap:wrap;\n",
              "      gap: 12px;\n",
              "    }\n",
              "\n",
              "    .colab-df-convert {\n",
              "      background-color: #E8F0FE;\n",
              "      border: none;\n",
              "      border-radius: 50%;\n",
              "      cursor: pointer;\n",
              "      display: none;\n",
              "      fill: #1967D2;\n",
              "      height: 32px;\n",
              "      padding: 0 0 0 0;\n",
              "      width: 32px;\n",
              "    }\n",
              "\n",
              "    .colab-df-convert:hover {\n",
              "      background-color: #E2EBFA;\n",
              "      box-shadow: 0px 1px 2px rgba(60, 64, 67, 0.3), 0px 1px 3px 1px rgba(60, 64, 67, 0.15);\n",
              "      fill: #174EA6;\n",
              "    }\n",
              "\n",
              "    [theme=dark] .colab-df-convert {\n",
              "      background-color: #3B4455;\n",
              "      fill: #D2E3FC;\n",
              "    }\n",
              "\n",
              "    [theme=dark] .colab-df-convert:hover {\n",
              "      background-color: #434B5C;\n",
              "      box-shadow: 0px 1px 3px 1px rgba(0, 0, 0, 0.15);\n",
              "      filter: drop-shadow(0px 1px 2px rgba(0, 0, 0, 0.3));\n",
              "      fill: #FFFFFF;\n",
              "    }\n",
              "  </style>\n",
              "\n",
              "      <script>\n",
              "        const buttonEl =\n",
              "          document.querySelector('#df-3b170185-efb1-41de-a2e1-0fb0b66c3019 button.colab-df-convert');\n",
              "        buttonEl.style.display =\n",
              "          google.colab.kernel.accessAllowed ? 'block' : 'none';\n",
              "\n",
              "        async function convertToInteractive(key) {\n",
              "          const element = document.querySelector('#df-3b170185-efb1-41de-a2e1-0fb0b66c3019');\n",
              "          const dataTable =\n",
              "            await google.colab.kernel.invokeFunction('convertToInteractive',\n",
              "                                                     [key], {});\n",
              "          if (!dataTable) return;\n",
              "\n",
              "          const docLinkHtml = 'Like what you see? Visit the ' +\n",
              "            '<a target=\"_blank\" href=https://colab.research.google.com/notebooks/data_table.ipynb>data table notebook</a>'\n",
              "            + ' to learn more about interactive tables.';\n",
              "          element.innerHTML = '';\n",
              "          dataTable['output_type'] = 'display_data';\n",
              "          await google.colab.output.renderOutput(dataTable, element);\n",
              "          const docLink = document.createElement('div');\n",
              "          docLink.innerHTML = docLinkHtml;\n",
              "          element.appendChild(docLink);\n",
              "        }\n",
              "      </script>\n",
              "    </div>\n",
              "  </div>\n",
              "  "
            ]
          },
          "metadata": {},
          "execution_count": 109
        }
      ]
    },
    {
      "cell_type": "code",
      "source": [
        "#X_scaled.columns=['Clump_Thickness','Cell_Size','Cell_Shape', 'Marginal_Adhesion','Single_Epithelial_Cell_Size', 'Bare_Nuclei', 'Bland_Chromatin','Normal_Nucleoli', 'Mitoses']"
      ],
      "metadata": {
        "id": "Ps16thPzoAEx"
      },
      "execution_count": null,
      "outputs": []
    },
    {
      "cell_type": "code",
      "metadata": {
        "id": "uLhetpuoRSYT"
      },
      "source": [
        "from sklearn.model_selection import train_test_split\n",
        "X_train, X_test, y_train, y_test=train_test_split(X_scaled2, y, stratify=y, random_state=42)"
      ],
      "execution_count": null,
      "outputs": []
    },
    {
      "cell_type": "code",
      "source": [
        "print(X_train.shape, X_test.shape, y_train.shape, y_test.shape)"
      ],
      "metadata": {
        "colab": {
          "base_uri": "https://localhost:8080/"
        },
        "id": "CxAwpMym0fJ7",
        "outputId": "e3b2c46e-8998-41b0-9726-6f136ee55d9f"
      },
      "execution_count": null,
      "outputs": [
        {
          "output_type": "stream",
          "name": "stdout",
          "text": [
            "(512, 9) (171, 9) (512,) (171,)\n"
          ]
        }
      ]
    },
    {
      "cell_type": "markdown",
      "source": [
        "#의사결정나무"
      ],
      "metadata": {
        "id": "ws4AAYq3zIdk"
      }
    },
    {
      "cell_type": "markdown",
      "metadata": {
        "id": "PHv-ONYNRSYh"
      },
      "source": [
        "###Grid Search "
      ]
    },
    {
      "cell_type": "code",
      "metadata": {
        "id": "MJ21FT6WRSYm",
        "colab": {
          "base_uri": "https://localhost:8080/"
        },
        "outputId": "74093815-098f-454a-91d2-4ec9e0cf8555"
      },
      "source": [
        "from sklearn.model_selection import GridSearchCV\n",
        "from sklearn.tree import DecisionTreeClassifier\n",
        "param_grid={'max_depth': range(2,20,1),'min_samples_leaf': range(1,50,1)}\n",
        "\n",
        "grid_search=GridSearchCV(DecisionTreeClassifier(), param_grid, cv=5, return_train_score=True)\n",
        "grid_search.fit(X_train, y_train)"
      ],
      "execution_count": null,
      "outputs": [
        {
          "output_type": "execute_result",
          "data": {
            "text/plain": [
              "GridSearchCV(cv=5, estimator=DecisionTreeClassifier(),\n",
              "             param_grid={'max_depth': range(2, 20),\n",
              "                         'min_samples_leaf': range(1, 50)},\n",
              "             return_train_score=True)"
            ]
          },
          "metadata": {},
          "execution_count": 225
        }
      ]
    },
    {
      "cell_type": "code",
      "metadata": {
        "id": "itTICLkNRSY9",
        "colab": {
          "base_uri": "https://localhost:8080/"
        },
        "outputId": "0899fdb4-b623-4ba1-80e6-acdcf4cea2ab"
      },
      "source": [
        "print(\"Best Parameter: {}\".format(grid_search.best_params_))\n",
        "print(\"Best Cross-validity Score: {:.3f}\".format(grid_search.best_score_))\n",
        "print(\"Test set Score: {:.3f}\".format(grid_search.score(X_test, y_test)))"
      ],
      "execution_count": null,
      "outputs": [
        {
          "output_type": "stream",
          "name": "stdout",
          "text": [
            "Best Parameter: {'max_depth': 17, 'min_samples_leaf': 1}\n",
            "Best Cross-validity Score: 0.969\n",
            "Test set Score: 0.953\n"
          ]
        }
      ]
    },
    {
      "cell_type": "code",
      "metadata": {
        "id": "aPcIWhr2RSZO"
      },
      "source": [
        "result_grid=pd.DataFrame(grid_search.cv_results_)"
      ],
      "execution_count": null,
      "outputs": []
    },
    {
      "cell_type": "code",
      "metadata": {
        "id": "4_CmJPXBRSZa",
        "colab": {
          "base_uri": "https://localhost:8080/",
          "height": 284
        },
        "outputId": "c74e481a-7b23-408f-eba9-e6bebe254202"
      },
      "source": [
        "import matplotlib.pyplot as plt\n",
        "plt.plot(result_grid['param_max_depth'], result_grid['mean_train_score'], label=\"Train\")\n",
        "plt.plot(result_grid['param_max_depth'], result_grid['mean_test_score'], label=\"Test\")\n",
        "plt.legend()"
      ],
      "execution_count": null,
      "outputs": [
        {
          "output_type": "execute_result",
          "data": {
            "text/plain": [
              "<matplotlib.legend.Legend at 0x7f4b3b5e1a90>"
            ]
          },
          "metadata": {},
          "execution_count": 228
        },
        {
          "output_type": "display_data",
          "data": {
            "text/plain": [
              "<Figure size 432x288 with 1 Axes>"
            ],
            "image/png": "[encoded data removed]"
          },
          "metadata": {
            "needs_background": "light"
          }
        }
      ]
    },
    {
      "cell_type": "code",
      "source": [
        "import matplotlib.pyplot as plt\n",
        "plt.plot(result_grid['param_min_samples_leaf'], \n",
        "         result_grid['mean_train_score'], label=\"Train\")\n",
        "plt.plot(result_grid['param_min_samples_leaf'], \n",
        "         result_grid['mean_test_score'], label=\"Test\")\n",
        "plt.legend()"
      ],
      "metadata": {
        "colab": {
          "base_uri": "https://localhost:8080/",
          "height": 284
        },
        "id": "Nv5fv5iOxpG8",
        "outputId": "66de85ce-7bec-4313-ab58-a6c701031c48"
      },
      "execution_count": null,
      "outputs": [
        {
          "output_type": "execute_result",
          "data": {
            "text/plain": [
              "<matplotlib.legend.Legend at 0x7f4b38c28310>"
            ]
          },
          "metadata": {},
          "execution_count": 229
        },
        {
          "output_type": "display_data",
          "data": {
            "text/plain": [
              "<Figure size 432x288 with 1 Axes>"
            ],
            "image/png": "[encoded data removed]"
          },
          "metadata": {
            "needs_background": "light"
          }
        }
      ]
    },
    {
      "cell_type": "markdown",
      "metadata": {
        "id": "JFRW7EzoRSZh"
      },
      "source": [
        "###Random Search"
      ]
    },
    {
      "cell_type": "code",
      "metadata": {
        "id": "S9PI9qprRSZh"
      },
      "source": [
        "from sklearn.model_selection import RandomizedSearchCV\n",
        "from scipy.stats import randint\n",
        "from sklearn.tree import DecisionTreeClassifier\n",
        "param_distribs = {'max_depth': randint(low=1, high=20), \n",
        "                  'min_samples_leaf': randint(low=1, high=50)}"
      ],
      "execution_count": null,
      "outputs": []
    },
    {
      "cell_type": "code",
      "metadata": {
        "id": "QE5PWNZARSZw",
        "colab": {
          "base_uri": "https://localhost:8080/"
        },
        "outputId": "0a74d10d-f98e-4f73-ff85-a149682a3c16"
      },
      "source": [
        "random_search=RandomizedSearchCV(DecisionTreeClassifier(), \n",
        "                                 param_distributions=param_distribs, cv=5, return_train_score=True)\n",
        "random_search.fit(X_train, y_train)"
      ],
      "execution_count": null,
      "outputs": [
        {
          "output_type": "execute_result",
          "data": {
            "text/plain": [
              "RandomizedSearchCV(cv=5, estimator=DecisionTreeClassifier(),\n",
              "                   param_distributions={'max_depth': <scipy.stats._distn_infrastructure.rv_frozen object at 0x7f4b389c1040>,\n",
              "                                        'min_samples_leaf': <scipy.stats._distn_infrastructure.rv_frozen object at 0x7f4b38c5f2b0>},\n",
              "                   return_train_score=True)"
            ]
          },
          "metadata": {},
          "execution_count": 231
        }
      ]
    },
    {
      "cell_type": "code",
      "metadata": {
        "id": "PlcyXZOwRSZ7",
        "colab": {
          "base_uri": "https://localhost:8080/"
        },
        "outputId": "6aec1f66-4a97-4958-b4e4-1f55199fcbaf"
      },
      "source": [
        "print(\"Best Parameter: {}\".format(random_search.best_params_))\n",
        "print(\"Best Cross-validity Score: {:.3f}\".format(random_search.best_score_))\n",
        "print(\"Test set Score: {:.3f}\".format(random_search.score(X_test, y_test)))"
      ],
      "execution_count": null,
      "outputs": [
        {
          "output_type": "stream",
          "name": "stdout",
          "text": [
            "Best Parameter: {'max_depth': 17, 'min_samples_leaf': 6}\n",
            "Best Cross-validity Score: 0.953\n",
            "Test set Score: 0.953\n"
          ]
        }
      ]
    },
    {
      "cell_type": "code",
      "metadata": {
        "id": "xSW_8RoVRSaN",
        "colab": {
          "base_uri": "https://localhost:8080/",
          "height": 803
        },
        "outputId": "d21f398e-2a67-454d-9237-2c040bc58939"
      },
      "source": [
        "result_random = random_search.cv_results_\n",
        "pd.DataFrame(result_random)"
      ],
      "execution_count": null,
      "outputs": [
        {
          "output_type": "execute_result",
          "data": {
            "text/plain": [
              "   mean_fit_time  std_fit_time  mean_score_time  std_score_time  \\\n",
              "0       0.001184      0.000272         0.000415        0.000071   \n",
              "1       0.000863      0.000073         0.000345        0.000042   \n",
              "2       0.000904      0.000025         0.000336        0.000011   \n",
              "3       0.000829      0.000102         0.000328        0.000009   \n",
              "4       0.000878      0.000009         0.000328        0.000010   \n",
              "5       0.000923      0.000017         0.000320        0.000006   \n",
              "6       0.000806      0.000012         0.000324        0.000006   \n",
              "7       0.000784      0.000023         0.000319        0.000013   \n",
              "8       0.000794      0.000019         0.000340        0.000021   \n",
              "9       0.000820      0.000009         0.000321        0.000009   \n",
              "\n",
              "  param_max_depth param_min_samples_leaf  \\\n",
              "0              10                      5   \n",
              "1              15                     31   \n",
              "2              17                      6   \n",
              "3              15                     44   \n",
              "4              12                      7   \n",
              "5               5                      2   \n",
              "6              11                     29   \n",
              "7              16                     39   \n",
              "8               8                     45   \n",
              "9              19                     20   \n",
              "\n",
              "                                      params  split0_test_score  \\\n",
              "0   {'max_depth': 10, 'min_samples_leaf': 5}           0.961165   \n",
              "1  {'max_depth': 15, 'min_samples_leaf': 31}           0.941748   \n",
              "2   {'max_depth': 17, 'min_samples_leaf': 6}           0.961165   \n",
              "3  {'max_depth': 15, 'min_samples_leaf': 44}           0.912621   \n",
              "4   {'max_depth': 12, 'min_samples_leaf': 7}           0.961165   \n",
              "5    {'max_depth': 5, 'min_samples_leaf': 2}           0.970874   \n",
              "6  {'max_depth': 11, 'min_samples_leaf': 29}           0.941748   \n",
              "7  {'max_depth': 16, 'min_samples_leaf': 39}           0.912621   \n",
              "8   {'max_depth': 8, 'min_samples_leaf': 45}           0.912621   \n",
              "9  {'max_depth': 19, 'min_samples_leaf': 20}           0.951456   \n",
              "\n",
              "   split1_test_score  split2_test_score  ...  mean_test_score  std_test_score  \\\n",
              "0           0.902913           0.960784  ...         0.943404        0.021538   \n",
              "1           0.902913           0.941176  ...         0.923834        0.015557   \n",
              "2           0.941748           0.970588  ...         0.953132        0.014359   \n",
              "3           0.902913           0.941176  ...         0.916048        0.028029   \n",
              "4           0.922330           0.941176  ...         0.943366        0.015565   \n",
              "5           0.951456           0.960784  ...         0.949172        0.015778   \n",
              "6           0.902913           0.941176  ...         0.925795        0.014494   \n",
              "7           0.902913           0.941176  ...         0.923891        0.018691   \n",
              "8           0.902913           0.941176  ...         0.916048        0.028029   \n",
              "9           0.932039           0.950980  ...         0.939444        0.011443   \n",
              "\n",
              "   rank_test_score  split0_train_score  split1_train_score  \\\n",
              "0                3            0.970660            0.977995   \n",
              "1                8            0.938875            0.941320   \n",
              "2                1            0.968215            0.973105   \n",
              "3                9            0.933985            0.941320   \n",
              "4                4            0.968215            0.970660   \n",
              "5                2            0.992665            0.980440   \n",
              "6                6            0.938875            0.941320   \n",
              "7                7            0.933985            0.941320   \n",
              "8                9            0.933985            0.941320   \n",
              "9                5            0.955990            0.948655   \n",
              "\n",
              "   split2_train_score  split3_train_score  split4_train_score  \\\n",
              "0            0.975610            0.980488            0.978049   \n",
              "1            0.931707            0.931707            0.939024   \n",
              "2            0.970732            0.980488            0.975610   \n",
              "3            0.931707            0.929268            0.939024   \n",
              "4            0.965854            0.980488            0.975610   \n",
              "5            0.990244            0.980488            0.987805   \n",
              "6            0.931707            0.931707            0.953659   \n",
              "7            0.931707            0.929268            0.939024   \n",
              "8            0.931707            0.929268            0.939024   \n",
              "9            0.946341            0.946341            0.953659   \n",
              "\n",
              "   mean_train_score  std_train_score  \n",
              "0          0.976560         0.003329  \n",
              "1          0.936527         0.004030  \n",
              "2          0.973630         0.004218  \n",
              "3          0.935061         0.004491  \n",
              "4          0.972165         0.005269  \n",
              "5          0.986328         0.005029  \n",
              "6          0.939454         0.008070  \n",
              "7          0.935061         0.004491  \n",
              "8          0.935061         0.004491  \n",
              "9          0.950197         0.003941  \n",
              "\n",
              "[10 rows x 22 columns]"
            ],
            "text/html": [
              "\n",
              "  <div id=\"df-12a5f2eb-e01d-404c-905b-ebcb73f3c87c\">\n",
              "    <div class=\"colab-df-container\">\n",
              "      <div>\n",
              "<style scoped>\n",
              "    .dataframe tbody tr th:only-of-type {\n",
              "        vertical-align: middle;\n",
              "    }\n",
              "\n",
              "    .dataframe tbody tr th {\n",
              "        vertical-align: top;\n",
              "    }\n",
              "\n",
              "    .dataframe thead th {\n",
              "        text-align: right;\n",
              "    }\n",
              "</style>\n",
              "<table border=\"1\" class=\"dataframe\">\n",
              "  <thead>\n",
              "    <tr style=\"text-align: right;\">\n",
              "      <th></th>\n",
              "      <th>mean_fit_time</th>\n",
              "      <th>std_fit_time</th>\n",
              "      <th>mean_score_time</th>\n",
              "      <th>std_score_time</th>\n",
              "      <th>param_max_depth</th>\n",
              "      <th>param_min_samples_leaf</th>\n",
              "      <th>params</th>\n",
              "      <th>split0_test_score</th>\n",
              "      <th>split1_test_score</th>\n",
              "      <th>split2_test_score</th>\n",
              "      <th>...</th>\n",
              "      <th>mean_test_score</th>\n",
              "      <th>std_test_score</th>\n",
              "      <th>rank_test_score</th>\n",
              "      <th>split0_train_score</th>\n",
              "      <th>split1_train_score</th>\n",
              "      <th>split2_train_score</th>\n",
              "      <th>split3_train_score</th>\n",
              "      <th>split4_train_score</th>\n",
              "      <th>mean_train_score</th>\n",
              "      <th>std_train_score</th>\n",
              "    </tr>\n",
              "  </thead>\n",
              "  <tbody>\n",
              "    <tr>\n",
              "      <th>0</th>\n",
              "      <td>0.001184</td>\n",
              "      <td>0.000272</td>\n",
              "      <td>0.000415</td>\n",
              "      <td>0.000071</td>\n",
              "      <td>10</td>\n",
              "      <td>5</td>\n",
              "      <td>{'max_depth': 10, 'min_samples_leaf': 5}</td>\n",
              "      <td>0.961165</td>\n",
              "      <td>0.902913</td>\n",
              "      <td>0.960784</td>\n",
              "      <td>...</td>\n",
              "      <td>0.943404</td>\n",
              "      <td>0.021538</td>\n",
              "      <td>3</td>\n",
              "      <td>0.970660</td>\n",
              "      <td>0.977995</td>\n",
              "      <td>0.975610</td>\n",
              "      <td>0.980488</td>\n",
              "      <td>0.978049</td>\n",
              "      <td>0.976560</td>\n",
              "      <td>0.003329</td>\n",
              "    </tr>\n",
              "    <tr>\n",
              "      <th>1</th>\n",
              "      <td>0.000863</td>\n",
              "      <td>0.000073</td>\n",
              "      <td>0.000345</td>\n",
              "      <td>0.000042</td>\n",
              "      <td>15</td>\n",
              "      <td>31</td>\n",
              "      <td>{'max_depth': 15, 'min_samples_leaf': 31}</td>\n",
              "      <td>0.941748</td>\n",
              "      <td>0.902913</td>\n",
              "      <td>0.941176</td>\n",
              "      <td>...</td>\n",
              "      <td>0.923834</td>\n",
              "      <td>0.015557</td>\n",
              "      <td>8</td>\n",
              "      <td>0.938875</td>\n",
              "      <td>0.941320</td>\n",
              "      <td>0.931707</td>\n",
              "      <td>0.931707</td>\n",
              "      <td>0.939024</td>\n",
              "      <td>0.936527</td>\n",
              "      <td>0.004030</td>\n",
              "    </tr>\n",
              "    <tr>\n",
              "      <th>2</th>\n",
              "      <td>0.000904</td>\n",
              "      <td>0.000025</td>\n",
              "      <td>0.000336</td>\n",
              "      <td>0.000011</td>\n",
              "      <td>17</td>\n",
              "      <td>6</td>\n",
              "      <td>{'max_depth': 17, 'min_samples_leaf': 6}</td>\n",
              "      <td>0.961165</td>\n",
              "      <td>0.941748</td>\n",
              "      <td>0.970588</td>\n",
              "      <td>...</td>\n",
              "      <td>0.953132</td>\n",
              "      <td>0.014359</td>\n",
              "      <td>1</td>\n",
              "      <td>0.968215</td>\n",
              "      <td>0.973105</td>\n",
              "      <td>0.970732</td>\n",
              "      <td>0.980488</td>\n",
              "      <td>0.975610</td>\n",
              "      <td>0.973630</td>\n",
              "      <td>0.004218</td>\n",
              "    </tr>\n",
              "    <tr>\n",
              "      <th>3</th>\n",
              "      <td>0.000829</td>\n",
              "      <td>0.000102</td>\n",
              "      <td>0.000328</td>\n",
              "      <td>0.000009</td>\n",
              "      <td>15</td>\n",
              "      <td>44</td>\n",
              "      <td>{'max_depth': 15, 'min_samples_leaf': 44}</td>\n",
              "      <td>0.912621</td>\n",
              "      <td>0.902913</td>\n",
              "      <td>0.941176</td>\n",
              "      <td>...</td>\n",
              "      <td>0.916048</td>\n",
              "      <td>0.028029</td>\n",
              "      <td>9</td>\n",
              "      <td>0.933985</td>\n",
              "      <td>0.941320</td>\n",
              "      <td>0.931707</td>\n",
              "      <td>0.929268</td>\n",
              "      <td>0.939024</td>\n",
              "      <td>0.935061</td>\n",
              "      <td>0.004491</td>\n",
              "    </tr>\n",
              "    <tr>\n",
              "      <th>4</th>\n",
              "      <td>0.000878</td>\n",
              "      <td>0.000009</td>\n",
              "      <td>0.000328</td>\n",
              "      <td>0.000010</td>\n",
              "      <td>12</td>\n",
              "      <td>7</td>\n",
              "      <td>{'max_depth': 12, 'min_samples_leaf': 7}</td>\n",
              "      <td>0.961165</td>\n",
              "      <td>0.922330</td>\n",
              "      <td>0.941176</td>\n",
              "      <td>...</td>\n",
              "      <td>0.943366</td>\n",
              "      <td>0.015565</td>\n",
              "      <td>4</td>\n",
              "      <td>0.968215</td>\n",
              "      <td>0.970660</td>\n",
              "      <td>0.965854</td>\n",
              "      <td>0.980488</td>\n",
              "      <td>0.975610</td>\n",
              "      <td>0.972165</td>\n",
              "      <td>0.005269</td>\n",
              "    </tr>\n",
              "    <tr>\n",
              "      <th>5</th>\n",
              "      <td>0.000923</td>\n",
              "      <td>0.000017</td>\n",
              "      <td>0.000320</td>\n",
              "      <td>0.000006</td>\n",
              "      <td>5</td>\n",
              "      <td>2</td>\n",
              "      <td>{'max_depth': 5, 'min_samples_leaf': 2}</td>\n",
              "      <td>0.970874</td>\n",
              "      <td>0.951456</td>\n",
              "      <td>0.960784</td>\n",
              "      <td>...</td>\n",
              "      <td>0.949172</td>\n",
              "      <td>0.015778</td>\n",
              "      <td>2</td>\n",
              "      <td>0.992665</td>\n",
              "      <td>0.980440</td>\n",
              "      <td>0.990244</td>\n",
              "      <td>0.980488</td>\n",
              "      <td>0.987805</td>\n",
              "      <td>0.986328</td>\n",
              "      <td>0.005029</td>\n",
              "    </tr>\n",
              "    <tr>\n",
              "      <th>6</th>\n",
              "      <td>0.000806</td>\n",
              "      <td>0.000012</td>\n",
              "      <td>0.000324</td>\n",
              "      <td>0.000006</td>\n",
              "      <td>11</td>\n",
              "      <td>29</td>\n",
              "      <td>{'max_depth': 11, 'min_samples_leaf': 29}</td>\n",
              "      <td>0.941748</td>\n",
              "      <td>0.902913</td>\n",
              "      <td>0.941176</td>\n",
              "      <td>...</td>\n",
              "      <td>0.925795</td>\n",
              "      <td>0.014494</td>\n",
              "      <td>6</td>\n",
              "      <td>0.938875</td>\n",
              "      <td>0.941320</td>\n",
              "      <td>0.931707</td>\n",
              "      <td>0.931707</td>\n",
              "      <td>0.953659</td>\n",
              "      <td>0.939454</td>\n",
              "      <td>0.008070</td>\n",
              "    </tr>\n",
              "    <tr>\n",
              "      <th>7</th>\n",
              "      <td>0.000784</td>\n",
              "      <td>0.000023</td>\n",
              "      <td>0.000319</td>\n",
              "      <td>0.000013</td>\n",
              "      <td>16</td>\n",
              "      <td>39</td>\n",
              "      <td>{'max_depth': 16, 'min_samples_leaf': 39}</td>\n",
              "      <td>0.912621</td>\n",
              "      <td>0.902913</td>\n",
              "      <td>0.941176</td>\n",
              "      <td>...</td>\n",
              "      <td>0.923891</td>\n",
              "      <td>0.018691</td>\n",
              "      <td>7</td>\n",
              "      <td>0.933985</td>\n",
              "      <td>0.941320</td>\n",
              "      <td>0.931707</td>\n",
              "      <td>0.929268</td>\n",
              "      <td>0.939024</td>\n",
              "      <td>0.935061</td>\n",
              "      <td>0.004491</td>\n",
              "    </tr>\n",
              "    <tr>\n",
              "      <th>8</th>\n",
              "      <td>0.000794</td>\n",
              "      <td>0.000019</td>\n",
              "      <td>0.000340</td>\n",
              "      <td>0.000021</td>\n",
              "      <td>8</td>\n",
              "      <td>45</td>\n",
              "      <td>{'max_depth': 8, 'min_samples_leaf': 45}</td>\n",
              "      <td>0.912621</td>\n",
              "      <td>0.902913</td>\n",
              "      <td>0.941176</td>\n",
              "      <td>...</td>\n",
              "      <td>0.916048</td>\n",
              "      <td>0.028029</td>\n",
              "      <td>9</td>\n",
              "      <td>0.933985</td>\n",
              "      <td>0.941320</td>\n",
              "      <td>0.931707</td>\n",
              "      <td>0.929268</td>\n",
              "      <td>0.939024</td>\n",
              "      <td>0.935061</td>\n",
              "      <td>0.004491</td>\n",
              "    </tr>\n",
              "    <tr>\n",
              "      <th>9</th>\n",
              "      <td>0.000820</td>\n",
              "      <td>0.000009</td>\n",
              "      <td>0.000321</td>\n",
              "      <td>0.000009</td>\n",
              "      <td>19</td>\n",
              "      <td>20</td>\n",
              "      <td>{'max_depth': 19, 'min_samples_leaf': 20}</td>\n",
              "      <td>0.951456</td>\n",
              "      <td>0.932039</td>\n",
              "      <td>0.950980</td>\n",
              "      <td>...</td>\n",
              "      <td>0.939444</td>\n",
              "      <td>0.011443</td>\n",
              "      <td>5</td>\n",
              "      <td>0.955990</td>\n",
              "      <td>0.948655</td>\n",
              "      <td>0.946341</td>\n",
              "      <td>0.946341</td>\n",
              "      <td>0.953659</td>\n",
              "      <td>0.950197</td>\n",
              "      <td>0.003941</td>\n",
              "    </tr>\n",
              "  </tbody>\n",
              "</table>\n",
              "<p>10 rows × 22 columns</p>\n",
              "</div>\n",
              "      <button class=\"colab-df-convert\" onclick=\"convertToInteractive('df-12a5f2eb-e01d-404c-905b-ebcb73f3c87c')\"\n",
              "              title=\"Convert this dataframe to an interactive table.\"\n",
              "              style=\"display:none;\">\n",
              "        \n",
              "  <svg xmlns=\"http://www.w3.org/2000/svg\" height=\"24px\"viewBox=\"0 0 24 24\"\n",
              "       width=\"24px\">\n",
              "    <path d=\"M0 0h24v24H0V0z\" fill=\"none\"/>\n",
              "    <path d=\"M18.56 5.44l.94 2.06.94-2.06 2.06-.94-2.06-.94-.94-2.06-.94 2.06-2.06.94zm-11 1L8.5 8.5l.94-2.06 2.06-.94-2.06-.94L8.5 2.5l-.94 2.06-2.06.94zm10 10l.94 2.06.94-2.06 2.06-.94-2.06-.94-.94-2.06-.94 2.06-2.06.94z\"/><path d=\"M17.41 7.96l-1.37-1.37c-.4-.4-.92-.59-1.43-.59-.52 0-1.04.2-1.43.59L10.3 9.45l-7.72 7.72c-.78.78-.78 2.05 0 2.83L4 21.41c.39.39.9.59 1.41.59.51 0 1.02-.2 1.41-.59l7.78-7.78 2.81-2.81c.8-.78.8-2.07 0-2.86zM5.41 20L4 18.59l7.72-7.72 1.47 1.35L5.41 20z\"/>\n",
              "  </svg>\n",
              "      </button>\n",
              "      \n",
              "  <style>\n",
              "    .colab-df-container {\n",
              "      display:flex;\n",
              "      flex-wrap:wrap;\n",
              "      gap: 12px;\n",
              "    }\n",
              "\n",
              "    .colab-df-convert {\n",
              "      background-color: #E8F0FE;\n",
              "      border: none;\n",
              "      border-radius: 50%;\n",
              "      cursor: pointer;\n",
              "      display: none;\n",
              "      fill: #1967D2;\n",
              "      height: 32px;\n",
              "      padding: 0 0 0 0;\n",
              "      width: 32px;\n",
              "    }\n",
              "\n",
              "    .colab-df-convert:hover {\n",
              "      background-color: #E2EBFA;\n",
              "      box-shadow: 0px 1px 2px rgba(60, 64, 67, 0.3), 0px 1px 3px 1px rgba(60, 64, 67, 0.15);\n",
              "      fill: #174EA6;\n",
              "    }\n",
              "\n",
              "    [theme=dark] .colab-df-convert {\n",
              "      background-color: #3B4455;\n",
              "      fill: #D2E3FC;\n",
              "    }\n",
              "\n",
              "    [theme=dark] .colab-df-convert:hover {\n",
              "      background-color: #434B5C;\n",
              "      box-shadow: 0px 1px 3px 1px rgba(0, 0, 0, 0.15);\n",
              "      filter: drop-shadow(0px 1px 2px rgba(0, 0, 0, 0.3));\n",
              "      fill: #FFFFFF;\n",
              "    }\n",
              "  </style>\n",
              "\n",
              "      <script>\n",
              "        const buttonEl =\n",
              "          document.querySelector('#df-12a5f2eb-e01d-404c-905b-ebcb73f3c87c button.colab-df-convert');\n",
              "        buttonEl.style.display =\n",
              "          google.colab.kernel.accessAllowed ? 'block' : 'none';\n",
              "\n",
              "        async function convertToInteractive(key) {\n",
              "          const element = document.querySelector('#df-12a5f2eb-e01d-404c-905b-ebcb73f3c87c');\n",
              "          const dataTable =\n",
              "            await google.colab.kernel.invokeFunction('convertToInteractive',\n",
              "                                                     [key], {});\n",
              "          if (!dataTable) return;\n",
              "\n",
              "          const docLinkHtml = 'Like what you see? Visit the ' +\n",
              "            '<a target=\"_blank\" href=https://colab.research.google.com/notebooks/data_table.ipynb>data table notebook</a>'\n",
              "            + ' to learn more about interactive tables.';\n",
              "          element.innerHTML = '';\n",
              "          dataTable['output_type'] = 'display_data';\n",
              "          await google.colab.output.renderOutput(dataTable, element);\n",
              "          const docLink = document.createElement('div');\n",
              "          docLink.innerHTML = docLinkHtml;\n",
              "          element.appendChild(docLink);\n",
              "        }\n",
              "      </script>\n",
              "    </div>\n",
              "  </div>\n",
              "  "
            ]
          },
          "metadata": {},
          "execution_count": 233
        }
      ]
    },
    {
      "cell_type": "code",
      "metadata": {
        "id": "oVY4tMh1RSaX",
        "colab": {
          "base_uri": "https://localhost:8080/",
          "height": 284
        },
        "outputId": "234fd6c5-39b4-4978-e027-d7be8e34f0f5"
      },
      "source": [
        "import matplotlib.pyplot as plt\n",
        "plt.plot(result_grid['param_max_depth'], result_grid['mean_train_score'], label=\"Train\")\n",
        "plt.plot(result_grid['param_max_depth'], result_grid['mean_test_score'], label=\"Test\")\n",
        "plt.legend()"
      ],
      "execution_count": null,
      "outputs": [
        {
          "output_type": "execute_result",
          "data": {
            "text/plain": [
              "<matplotlib.legend.Legend at 0x7f4b389e7100>"
            ]
          },
          "metadata": {},
          "execution_count": 234
        },
        {
          "output_type": "display_data",
          "data": {
            "text/plain": [
              "<Figure size 432x288 with 1 Axes>"
            ],
            "image/png": "[encoded data removed]"
          },
          "metadata": {
            "needs_background": "light"
          }
        }
      ]
    },
    {
      "cell_type": "code",
      "metadata": {
        "id": "7YJVBVSxRSaa",
        "colab": {
          "base_uri": "https://localhost:8080/",
          "height": 284
        },
        "outputId": "438fb780-5822-48eb-aca1-32828ef2e7c1"
      },
      "source": [
        "import matplotlib.pyplot as plt\n",
        "plt.plot(result_grid['param_min_samples_leaf'], \n",
        "         result_grid['mean_train_score'], label=\"Train\")\n",
        "plt.plot(result_grid['param_min_samples_leaf'], \n",
        "         result_grid['mean_test_score'], label=\"Test\")\n",
        "plt.legend()"
      ],
      "execution_count": null,
      "outputs": [
        {
          "output_type": "execute_result",
          "data": {
            "text/plain": [
              "<matplotlib.legend.Legend at 0x7f4b38810d00>"
            ]
          },
          "metadata": {},
          "execution_count": 235
        },
        {
          "output_type": "display_data",
          "data": {
            "text/plain": [
              "<Figure size 432x288 with 1 Axes>"
            ],
            "image/png": "[encoded data removed]"
          },
          "metadata": {
            "needs_background": "light"
          }
        }
      ]
    },
    {
      "cell_type": "markdown",
      "source": [
        "###변수 중요도"
      ],
      "metadata": {
        "id": "j8TvQRq8yhTx"
      }
    },
    {
      "cell_type": "code",
      "metadata": {
        "id": "mfqcpA7wRSbv",
        "colab": {
          "base_uri": "https://localhost:8080/",
          "height": 279
        },
        "outputId": "557c251e-769b-4681-fae2-9d9df8764d60"
      },
      "source": [
        "def plot_feature_importances_tree(model):\n",
        "    n_features = X.shape[1]\n",
        "    plt.barh(range(n_features), model.feature_importances_, align='center')\n",
        "    plt.yticks(np.arange(n_features), X.columns)\n",
        "    plt.xlabel(\"Importance\")\n",
        "    plt.ylabel(\"Features\")\n",
        "    plt.ylim(-1, n_features)\n",
        "\n",
        "plot_feature_importances_tree(tree)"
      ],
      "execution_count": null,
      "outputs": [
        {
          "output_type": "display_data",
          "data": {
            "text/plain": [
              "<Figure size 432x288 with 1 Axes>"
            ],
            "image/png": "[encoded data removed]"
          },
          "metadata": {
            "needs_background": "light"
          }
        }
      ]
    },
    {
      "cell_type": "code",
      "metadata": {
        "id": "t-b7V1wYRSbg",
        "colab": {
          "base_uri": "https://localhost:8080/"
        },
        "outputId": "7ae6fe6b-ceb2-47a3-9fdc-f24330e795b1"
      },
      "source": [
        "print(\"특성 중요도:\\n{}\".format(tree.feature_importances_))"
      ],
      "execution_count": null,
      "outputs": [
        {
          "output_type": "stream",
          "name": "stdout",
          "text": [
            "특성 중요도:\n",
            "[0.01894562 0.04483192 0.78428789 0.01508025 0.00804986 0.12880447\n",
            " 0.         0.         0.        ]\n"
          ]
        }
      ]
    },
    {
      "cell_type": "markdown",
      "source": [
        "변수중요도 : cell_shape - Bare_Nuclei - cell_size"
      ],
      "metadata": {
        "id": "fpDTmZ-5zmOq"
      }
    },
    {
      "cell_type": "markdown",
      "source": [
        "시각화"
      ],
      "metadata": {
        "id": "3J991lTnxznC"
      }
    },
    {
      "cell_type": "code",
      "metadata": {
        "id": "l2K8M3ddRSac",
        "colab": {
          "base_uri": "https://localhost:8080/"
        },
        "outputId": "9fda85da-2bc6-479c-a866-795b83589e19"
      },
      "source": [
        "from sklearn.tree import DecisionTreeClassifier\n",
        "import matplotlib.pyplot as plt\n",
        "import numpy as np\n",
        "tree=DecisionTreeClassifier(max_depth=17, min_samples_leaf=6)\n",
        "tree.fit(X_train, y_train)"
      ],
      "execution_count": null,
      "outputs": [
        {
          "output_type": "execute_result",
          "data": {
            "text/plain": [
              "DecisionTreeClassifier(max_depth=17, min_samples_leaf=6)"
            ]
          },
          "metadata": {},
          "execution_count": 247
        }
      ]
    },
    {
      "cell_type": "code",
      "metadata": {
        "id": "kYL5ya7YRSa0",
        "colab": {
          "base_uri": "https://localhost:8080/"
        },
        "outputId": "dd27484a-3ee2-4712-c56e-92a5fa2c4c9c"
      },
      "source": [
        "!pip install graphviz\n",
        "# graphvis 설치가 제대로 되지 않을 경우 아래에서 직접 설치\n",
        "# https://graphviz.gitlab.io/_pages/Download/windows/graphviz-2.38.msi"
      ],
      "execution_count": null,
      "outputs": [
        {
          "output_type": "stream",
          "name": "stdout",
          "text": [
            "Looking in indexes: https://pypi.org/simple, https://us-python.pkg.dev/colab-wheels/public/simple/\n",
            "Requirement already satisfied: graphviz in /usr/local/lib/python3.8/dist-packages (0.10.1)\n"
          ]
        }
      ]
    },
    {
      "cell_type": "code",
      "metadata": {
        "id": "ISVIPK9SRSa8"
      },
      "source": [
        "import graphviz\n",
        "import os\n",
        "os.environ[\"PATH\"] += os.pathsep + 'C:/Program Files (x86)/Graphviz2.38/bin/'"
      ],
      "execution_count": null,
      "outputs": []
    },
    {
      "cell_type": "code",
      "metadata": {
        "id": "miWM_R-wRSbW"
      },
      "source": [
        "from sklearn.tree import export_graphviz\n",
        "export_graphviz(tree, out_file=\"tree.dot\", class_names=['0', '1'],\n",
        "                feature_names=X.columns, impurity=False, filled=True)"
      ],
      "execution_count": null,
      "outputs": []
    },
    {
      "cell_type": "code",
      "metadata": {
        "id": "433moX_lRSbb",
        "colab": {
          "base_uri": "https://localhost:8080/",
          "height": 814
        },
        "outputId": "990bc96c-823f-4e92-d886-61c6da8b85be"
      },
      "source": [
        "with open(\"tree.dot\", encoding =\"euc-kr\") as f:\n",
        "    dot_graph = f.read()\n",
        "    display(graphviz.Source(dot_graph))"
      ],
      "execution_count": null,
      "outputs": [
        {
          "output_type": "display_data",
          "data": {
            "text/plain": [
              "<graphviz.files.Source at 0x7f4b387bdaf0>"
            ],
            "image/svg+xml": "<?xml version=\"1.0\" encoding=\"UTF-8\" standalone=\"no\"?>\n<!DOCTYPE svg PUBLIC \"-//W3C//DTD SVG 1.1//EN\"\n \"http://www.w3.org/Graphics/SVG/1.1/DTD/svg11.dtd\">\n<!-- Generated by graphviz version 2.40.1 (20161225.0304)\n -->\n<!-- Title: Tree Pages: 1 -->\n<svg width=\"1377pt\" height=\"581pt\"\n viewBox=\"0.00 0.00 1377.00 581.00\" xmlns=\"http://www.w3.org/2000/svg\" xmlns:xlink=\"http://www.w3.org/1999/xlink\">\n<g id=\"graph0\" class=\"graph\" transform=\"scale(1 1) rotate(0) translate(4 577)\">\n<title>Tree</title>\n<polygon fill=\"#ffffff\" stroke=\"transparent\" points=\"-4,4 -4,-577 1373,-577 1373,4 -4,4\"/>\n<!-- 0 -->\n<g id=\"node1\" class=\"node\">\n<title>0</title>\n<polygon fill=\"#f3c5a3\" stroke=\"#000000\" points=\"817.5,-573 664.5,-573 664.5,-505 817.5,-505 817.5,-573\"/>\n<text text-anchor=\"middle\" x=\"741\" y=\"-557.8\" font-family=\"Helvetica,sans-Serif\" font-size=\"14.00\" fill=\"#000000\">Cell_Shape &lt;= 0.095</text>\n<text text-anchor=\"middle\" x=\"741\" y=\"-542.8\" font-family=\"Helvetica,sans-Serif\" font-size=\"14.00\" fill=\"#000000\">samples = 512</text>\n<text text-anchor=\"middle\" x=\"741\" y=\"-527.8\" font-family=\"Helvetica,sans-Serif\" font-size=\"14.00\" fill=\"#000000\">value = [333, 179]</text>\n<text text-anchor=\"middle\" x=\"741\" y=\"-512.8\" font-family=\"Helvetica,sans-Serif\" font-size=\"14.00\" fill=\"#000000\">class = 0</text>\n</g>\n<!-- 1 -->\n<g id=\"node2\" class=\"node\">\n<title>1</title>\n<polygon fill=\"#e78a47\" stroke=\"#000000\" points=\"735.5,-469 578.5,-469 578.5,-401 735.5,-401 735.5,-469\"/>\n<text text-anchor=\"middle\" x=\"657\" y=\"-453.8\" font-family=\"Helvetica,sans-Serif\" font-size=\"14.00\" fill=\"#000000\">Bare_Nuclei &lt;= 0.537</text>\n<text text-anchor=\"middle\" x=\"657\" y=\"-438.8\" font-family=\"Helvetica,sans-Serif\" font-size=\"14.00\" fill=\"#000000\">samples = 343</text>\n<text text-anchor=\"middle\" x=\"657\" y=\"-423.8\" font-family=\"Helvetica,sans-Serif\" font-size=\"14.00\" fill=\"#000000\">value = [321, 22]</text>\n<text text-anchor=\"middle\" x=\"657\" y=\"-408.8\" font-family=\"Helvetica,sans-Serif\" font-size=\"14.00\" fill=\"#000000\">class = 0</text>\n</g>\n<!-- 0&#45;&gt;1 -->\n<g id=\"edge1\" class=\"edge\">\n<title>0&#45;&gt;1</title>\n<path fill=\"none\" stroke=\"#000000\" d=\"M713.4953,-504.9465C706.3159,-496.0578 698.4924,-486.3716 691.019,-477.1188\"/>\n<polygon fill=\"#000000\" stroke=\"#000000\" points=\"693.5727,-474.7102 684.5665,-469.13 688.1271,-479.1086 693.5727,-474.7102\"/>\n<text text-anchor=\"middle\" x=\"681.9219\" y=\"-490.2897\" font-family=\"Helvetica,sans-Serif\" font-size=\"14.00\" fill=\"#000000\">True</text>\n</g>\n<!-- 14 -->\n<g id=\"node15\" class=\"node\">\n<title>14</title>\n<polygon fill=\"#48a4e7\" stroke=\"#000000\" points=\"897.5,-469 754.5,-469 754.5,-401 897.5,-401 897.5,-469\"/>\n<text text-anchor=\"middle\" x=\"826\" y=\"-453.8\" font-family=\"Helvetica,sans-Serif\" font-size=\"14.00\" fill=\"#000000\">Cell_Size &lt;= &#45;0.212</text>\n<text text-anchor=\"middle\" x=\"826\" y=\"-438.8\" font-family=\"Helvetica,sans-Serif\" font-size=\"14.00\" fill=\"#000000\">samples = 169</text>\n<text text-anchor=\"middle\" x=\"826\" y=\"-423.8\" font-family=\"Helvetica,sans-Serif\" font-size=\"14.00\" fill=\"#000000\">value = [12, 157]</text>\n<text text-anchor=\"middle\" x=\"826\" y=\"-408.8\" font-family=\"Helvetica,sans-Serif\" font-size=\"14.00\" fill=\"#000000\">class = 1</text>\n</g>\n<!-- 0&#45;&gt;14 -->\n<g id=\"edge14\" class=\"edge\">\n<title>0&#45;&gt;14</title>\n<path fill=\"none\" stroke=\"#000000\" d=\"M768.8322,-504.9465C776.097,-496.0578 784.0136,-486.3716 791.576,-477.1188\"/>\n<polygon fill=\"#000000\" stroke=\"#000000\" points=\"794.487,-479.0878 798.1053,-469.13 789.0669,-474.658 794.487,-479.0878\"/>\n<text text-anchor=\"middle\" x=\"800.6059\" y=\"-490.3046\" font-family=\"Helvetica,sans-Serif\" font-size=\"14.00\" fill=\"#000000\">False</text>\n</g>\n<!-- 2 -->\n<g id=\"node3\" class=\"node\">\n<title>2</title>\n<polygon fill=\"#e6853f\" stroke=\"#000000\" points=\"538,-365 344,-365 344,-297 538,-297 538,-365\"/>\n<text text-anchor=\"middle\" x=\"441\" y=\"-349.8\" font-family=\"Helvetica,sans-Serif\" font-size=\"14.00\" fill=\"#000000\">Clump_Thickness &lt;= 0.375</text>\n<text text-anchor=\"middle\" x=\"441\" y=\"-334.8\" font-family=\"Helvetica,sans-Serif\" font-size=\"14.00\" fill=\"#000000\">samples = 329</text>\n<text text-anchor=\"middle\" x=\"441\" y=\"-319.8\" font-family=\"Helvetica,sans-Serif\" font-size=\"14.00\" fill=\"#000000\">value = [320, 9]</text>\n<text text-anchor=\"middle\" x=\"441\" y=\"-304.8\" font-family=\"Helvetica,sans-Serif\" font-size=\"14.00\" fill=\"#000000\">class = 0</text>\n</g>\n<!-- 1&#45;&gt;2 -->\n<g id=\"edge2\" class=\"edge\">\n<title>1&#45;&gt;2</title>\n<path fill=\"none\" stroke=\"#000000\" d=\"M586.2735,-400.9465C565.3881,-390.8906 542.3829,-379.814 520.9593,-369.4989\"/>\n<polygon fill=\"#000000\" stroke=\"#000000\" points=\"522.4138,-366.3147 511.8854,-365.13 519.377,-372.6217 522.4138,-366.3147\"/>\n</g>\n<!-- 11 -->\n<g id=\"node12\" class=\"node\">\n<title>11</title>\n<polygon fill=\"#48a5e7\" stroke=\"#000000\" points=\"758.5,-365 555.5,-365 555.5,-297 758.5,-297 758.5,-365\"/>\n<text text-anchor=\"middle\" x=\"657\" y=\"-349.8\" font-family=\"Helvetica,sans-Serif\" font-size=\"14.00\" fill=\"#000000\">Marginal_Adhesion &lt;= 0.583</text>\n<text text-anchor=\"middle\" x=\"657\" y=\"-334.8\" font-family=\"Helvetica,sans-Serif\" font-size=\"14.00\" fill=\"#000000\">samples = 14</text>\n<text text-anchor=\"middle\" x=\"657\" y=\"-319.8\" font-family=\"Helvetica,sans-Serif\" font-size=\"14.00\" fill=\"#000000\">value = [1, 13]</text>\n<text text-anchor=\"middle\" x=\"657\" y=\"-304.8\" font-family=\"Helvetica,sans-Serif\" font-size=\"14.00\" fill=\"#000000\">class = 1</text>\n</g>\n<!-- 1&#45;&gt;11 -->\n<g id=\"edge11\" class=\"edge\">\n<title>1&#45;&gt;11</title>\n<path fill=\"none\" stroke=\"#000000\" d=\"M657,-400.9465C657,-392.776 657,-383.9318 657,-375.3697\"/>\n<polygon fill=\"#000000\" stroke=\"#000000\" points=\"660.5001,-375.13 657,-365.13 653.5001,-375.13 660.5001,-375.13\"/>\n</g>\n<!-- 3 -->\n<g id=\"node4\" class=\"node\">\n<title>3</title>\n<polygon fill=\"#e5823b\" stroke=\"#000000\" points=\"298.5,-261 137.5,-261 137.5,-193 298.5,-193 298.5,-261\"/>\n<text text-anchor=\"middle\" x=\"218\" y=\"-245.8\" font-family=\"Helvetica,sans-Serif\" font-size=\"14.00\" fill=\"#000000\">Bare_Nuclei &lt;= &#45;0.287</text>\n<text text-anchor=\"middle\" x=\"218\" y=\"-230.8\" font-family=\"Helvetica,sans-Serif\" font-size=\"14.00\" fill=\"#000000\">samples = 312</text>\n<text text-anchor=\"middle\" x=\"218\" y=\"-215.8\" font-family=\"Helvetica,sans-Serif\" font-size=\"14.00\" fill=\"#000000\">value = [309, 3]</text>\n<text text-anchor=\"middle\" x=\"218\" y=\"-200.8\" font-family=\"Helvetica,sans-Serif\" font-size=\"14.00\" fill=\"#000000\">class = 0</text>\n</g>\n<!-- 2&#45;&gt;3 -->\n<g id=\"edge3\" class=\"edge\">\n<title>2&#45;&gt;3</title>\n<path fill=\"none\" stroke=\"#000000\" d=\"M367.9815,-296.9465C346.3229,-286.8457 322.4563,-275.7151 300.2544,-265.3608\"/>\n<polygon fill=\"#000000\" stroke=\"#000000\" points=\"301.7248,-262.1847 291.1826,-261.13 298.7661,-268.5287 301.7248,-262.1847\"/>\n</g>\n<!-- 8 -->\n<g id=\"node9\" class=\"node\">\n<title>8</title>\n<polygon fill=\"#f3c6a5\" stroke=\"#000000\" points=\"575.5,-261 316.5,-261 316.5,-193 575.5,-193 575.5,-261\"/>\n<text text-anchor=\"middle\" x=\"446\" y=\"-245.8\" font-family=\"Helvetica,sans-Serif\" font-size=\"14.00\" fill=\"#000000\">Single_Epithelial_Cell_Size &lt;= &#45;0.331</text>\n<text text-anchor=\"middle\" x=\"446\" y=\"-230.8\" font-family=\"Helvetica,sans-Serif\" font-size=\"14.00\" fill=\"#000000\">samples = 17</text>\n<text text-anchor=\"middle\" x=\"446\" y=\"-215.8\" font-family=\"Helvetica,sans-Serif\" font-size=\"14.00\" fill=\"#000000\">value = [11, 6]</text>\n<text text-anchor=\"middle\" x=\"446\" y=\"-200.8\" font-family=\"Helvetica,sans-Serif\" font-size=\"14.00\" fill=\"#000000\">class = 0</text>\n</g>\n<!-- 2&#45;&gt;8 -->\n<g id=\"edge8\" class=\"edge\">\n<title>2&#45;&gt;8</title>\n<path fill=\"none\" stroke=\"#000000\" d=\"M442.6372,-296.9465C443.03,-288.776 443.4552,-279.9318 443.8668,-271.3697\"/>\n<polygon fill=\"#000000\" stroke=\"#000000\" points=\"447.3748,-271.2866 444.3591,-261.13 440.3829,-270.9504 447.3748,-271.2866\"/>\n</g>\n<!-- 4 -->\n<g id=\"node5\" class=\"node\">\n<title>4</title>\n<polygon fill=\"#e58139\" stroke=\"#000000\" points=\"116,-149.5 0,-149.5 0,-96.5 116,-96.5 116,-149.5\"/>\n<text text-anchor=\"middle\" x=\"58\" y=\"-134.3\" font-family=\"Helvetica,sans-Serif\" font-size=\"14.00\" fill=\"#000000\">samples = 288</text>\n<text text-anchor=\"middle\" x=\"58\" y=\"-119.3\" font-family=\"Helvetica,sans-Serif\" font-size=\"14.00\" fill=\"#000000\">value = [288, 0]</text>\n<text text-anchor=\"middle\" x=\"58\" y=\"-104.3\" font-family=\"Helvetica,sans-Serif\" font-size=\"14.00\" fill=\"#000000\">class = 0</text>\n</g>\n<!-- 3&#45;&gt;4 -->\n<g id=\"edge4\" class=\"edge\">\n<title>3&#45;&gt;4</title>\n<path fill=\"none\" stroke=\"#000000\" d=\"M165.61,-192.9465C146.8847,-180.775 125.859,-167.1084 107.3947,-155.1066\"/>\n<polygon fill=\"#000000\" stroke=\"#000000\" points=\"109.126,-152.0575 98.8341,-149.5422 105.3111,-157.9267 109.126,-152.0575\"/>\n</g>\n<!-- 5 -->\n<g id=\"node6\" class=\"node\">\n<title>5</title>\n<polygon fill=\"#e99355\" stroke=\"#000000\" points=\"333.5,-157 134.5,-157 134.5,-89 333.5,-89 333.5,-157\"/>\n<text text-anchor=\"middle\" x=\"234\" y=\"-141.8\" font-family=\"Helvetica,sans-Serif\" font-size=\"14.00\" fill=\"#000000\">Clump_Thickness &lt;= &#45;0.334</text>\n<text text-anchor=\"middle\" x=\"234\" y=\"-126.8\" font-family=\"Helvetica,sans-Serif\" font-size=\"14.00\" fill=\"#000000\">samples = 24</text>\n<text text-anchor=\"middle\" x=\"234\" y=\"-111.8\" font-family=\"Helvetica,sans-Serif\" font-size=\"14.00\" fill=\"#000000\">value = [21, 3]</text>\n<text text-anchor=\"middle\" x=\"234\" y=\"-96.8\" font-family=\"Helvetica,sans-Serif\" font-size=\"14.00\" fill=\"#000000\">class = 0</text>\n</g>\n<!-- 3&#45;&gt;5 -->\n<g id=\"edge5\" class=\"edge\">\n<title>3&#45;&gt;5</title>\n<path fill=\"none\" stroke=\"#000000\" d=\"M223.239,-192.9465C224.5098,-184.6863 225.8866,-175.7374 227.2173,-167.0875\"/>\n<polygon fill=\"#000000\" stroke=\"#000000\" points=\"230.6879,-167.5459 228.7492,-157.13 223.7693,-166.4815 230.6879,-167.5459\"/>\n</g>\n<!-- 6 -->\n<g id=\"node7\" class=\"node\">\n<title>6</title>\n<polygon fill=\"#e58139\" stroke=\"#000000\" points=\"227.5,-53 120.5,-53 120.5,0 227.5,0 227.5,-53\"/>\n<text text-anchor=\"middle\" x=\"174\" y=\"-37.8\" font-family=\"Helvetica,sans-Serif\" font-size=\"14.00\" fill=\"#000000\">samples = 16</text>\n<text text-anchor=\"middle\" x=\"174\" y=\"-22.8\" font-family=\"Helvetica,sans-Serif\" font-size=\"14.00\" fill=\"#000000\">value = [16, 0]</text>\n<text text-anchor=\"middle\" x=\"174\" y=\"-7.8\" font-family=\"Helvetica,sans-Serif\" font-size=\"14.00\" fill=\"#000000\">class = 0</text>\n</g>\n<!-- 5&#45;&gt;6 -->\n<g id=\"edge6\" class=\"edge\">\n<title>5&#45;&gt;6</title>\n<path fill=\"none\" stroke=\"#000000\" d=\"M212.8462,-88.9777C207.3805,-80.187 201.4846,-70.7044 195.9778,-61.8477\"/>\n<polygon fill=\"#000000\" stroke=\"#000000\" points=\"198.8837,-59.8927 190.6312,-53.2485 192.9391,-63.5889 198.8837,-59.8927\"/>\n</g>\n<!-- 7 -->\n<g id=\"node8\" class=\"node\">\n<title>7</title>\n<polygon fill=\"#f5cdb0\" stroke=\"#000000\" points=\"344.5,-53 245.5,-53 245.5,0 344.5,0 344.5,-53\"/>\n<text text-anchor=\"middle\" x=\"295\" y=\"-37.8\" font-family=\"Helvetica,sans-Serif\" font-size=\"14.00\" fill=\"#000000\">samples = 8</text>\n<text text-anchor=\"middle\" x=\"295\" y=\"-22.8\" font-family=\"Helvetica,sans-Serif\" font-size=\"14.00\" fill=\"#000000\">value = [5, 3]</text>\n<text text-anchor=\"middle\" x=\"295\" y=\"-7.8\" font-family=\"Helvetica,sans-Serif\" font-size=\"14.00\" fill=\"#000000\">class = 0</text>\n</g>\n<!-- 5&#45;&gt;7 -->\n<g id=\"edge7\" class=\"edge\">\n<title>5&#45;&gt;7</title>\n<path fill=\"none\" stroke=\"#000000\" d=\"M255.5063,-88.9777C261.0631,-80.187 267.0573,-70.7044 272.6559,-61.8477\"/>\n<polygon fill=\"#000000\" stroke=\"#000000\" points=\"275.7069,-63.5714 278.0916,-53.2485 269.7899,-59.8312 275.7069,-63.5714\"/>\n</g>\n<!-- 9 -->\n<g id=\"node10\" class=\"node\">\n<title>9</title>\n<polygon fill=\"#e58139\" stroke=\"#000000\" points=\"480.5,-149.5 381.5,-149.5 381.5,-96.5 480.5,-96.5 480.5,-149.5\"/>\n<text text-anchor=\"middle\" x=\"431\" y=\"-134.3\" font-family=\"Helvetica,sans-Serif\" font-size=\"14.00\" fill=\"#000000\">samples = 9</text>\n<text text-anchor=\"middle\" x=\"431\" y=\"-119.3\" font-family=\"Helvetica,sans-Serif\" font-size=\"14.00\" fill=\"#000000\">value = [9, 0]</text>\n<text text-anchor=\"middle\" x=\"431\" y=\"-104.3\" font-family=\"Helvetica,sans-Serif\" font-size=\"14.00\" fill=\"#000000\">class = 0</text>\n</g>\n<!-- 8&#45;&gt;9 -->\n<g id=\"edge9\" class=\"edge\">\n<title>8&#45;&gt;9</title>\n<path fill=\"none\" stroke=\"#000000\" d=\"M441.0884,-192.9465C439.5474,-182.2621 437.8402,-170.4254 436.2751,-159.5742\"/>\n<polygon fill=\"#000000\" stroke=\"#000000\" points=\"439.72,-158.9401 434.8282,-149.5422 432.7917,-159.9394 439.72,-158.9401\"/>\n</g>\n<!-- 10 -->\n<g id=\"node11\" class=\"node\">\n<title>10</title>\n<polygon fill=\"#7bbeee\" stroke=\"#000000\" points=\"597.5,-149.5 498.5,-149.5 498.5,-96.5 597.5,-96.5 597.5,-149.5\"/>\n<text text-anchor=\"middle\" x=\"548\" y=\"-134.3\" font-family=\"Helvetica,sans-Serif\" font-size=\"14.00\" fill=\"#000000\">samples = 8</text>\n<text text-anchor=\"middle\" x=\"548\" y=\"-119.3\" font-family=\"Helvetica,sans-Serif\" font-size=\"14.00\" fill=\"#000000\">value = [2, 6]</text>\n<text text-anchor=\"middle\" x=\"548\" y=\"-104.3\" font-family=\"Helvetica,sans-Serif\" font-size=\"14.00\" fill=\"#000000\">class = 1</text>\n</g>\n<!-- 8&#45;&gt;10 -->\n<g id=\"edge10\" class=\"edge\">\n<title>8&#45;&gt;10</title>\n<path fill=\"none\" stroke=\"#000000\" d=\"M479.3986,-192.9465C490.7418,-181.3809 503.4092,-168.4652 514.7415,-156.9107\"/>\n<polygon fill=\"#000000\" stroke=\"#000000\" points=\"517.4649,-159.1323 521.9683,-149.5422 512.4674,-154.2308 517.4649,-159.1323\"/>\n</g>\n<!-- 12 -->\n<g id=\"node13\" class=\"node\">\n<title>12</title>\n<polygon fill=\"#61b1ea\" stroke=\"#000000\" points=\"701.5,-253.5 602.5,-253.5 602.5,-200.5 701.5,-200.5 701.5,-253.5\"/>\n<text text-anchor=\"middle\" x=\"652\" y=\"-238.3\" font-family=\"Helvetica,sans-Serif\" font-size=\"14.00\" fill=\"#000000\">samples = 6</text>\n<text text-anchor=\"middle\" x=\"652\" y=\"-223.3\" font-family=\"Helvetica,sans-Serif\" font-size=\"14.00\" fill=\"#000000\">value = [1, 5]</text>\n<text text-anchor=\"middle\" x=\"652\" y=\"-208.3\" font-family=\"Helvetica,sans-Serif\" font-size=\"14.00\" fill=\"#000000\">class = 1</text>\n</g>\n<!-- 11&#45;&gt;12 -->\n<g id=\"edge12\" class=\"edge\">\n<title>11&#45;&gt;12</title>\n<path fill=\"none\" stroke=\"#000000\" d=\"M655.3628,-296.9465C654.8491,-286.2621 654.2801,-274.4254 653.7584,-263.5742\"/>\n<polygon fill=\"#000000\" stroke=\"#000000\" points=\"657.2523,-263.3625 653.2761,-253.5422 650.2604,-263.6987 657.2523,-263.3625\"/>\n</g>\n<!-- 13 -->\n<g id=\"node14\" class=\"node\">\n<title>13</title>\n<polygon fill=\"#399de5\" stroke=\"#000000\" points=\"818.5,-253.5 719.5,-253.5 719.5,-200.5 818.5,-200.5 818.5,-253.5\"/>\n<text text-anchor=\"middle\" x=\"769\" y=\"-238.3\" font-family=\"Helvetica,sans-Serif\" font-size=\"14.00\" fill=\"#000000\">samples = 8</text>\n<text text-anchor=\"middle\" x=\"769\" y=\"-223.3\" font-family=\"Helvetica,sans-Serif\" font-size=\"14.00\" fill=\"#000000\">value = [0, 8]</text>\n<text text-anchor=\"middle\" x=\"769\" y=\"-208.3\" font-family=\"Helvetica,sans-Serif\" font-size=\"14.00\" fill=\"#000000\">class = 1</text>\n</g>\n<!-- 11&#45;&gt;13 -->\n<g id=\"edge13\" class=\"edge\">\n<title>11&#45;&gt;13</title>\n<path fill=\"none\" stroke=\"#000000\" d=\"M693.673,-296.9465C706.2469,-285.2707 720.3026,-272.219 732.8359,-260.5809\"/>\n<polygon fill=\"#000000\" stroke=\"#000000\" points=\"735.4698,-262.9115 740.4161,-253.5422 730.7066,-257.7819 735.4698,-262.9115\"/>\n</g>\n<!-- 15 -->\n<g id=\"node16\" class=\"node\">\n<title>15</title>\n<polygon fill=\"#f2c09c\" stroke=\"#000000\" points=\"875.5,-357.5 776.5,-357.5 776.5,-304.5 875.5,-304.5 875.5,-357.5\"/>\n<text text-anchor=\"middle\" x=\"826\" y=\"-342.3\" font-family=\"Helvetica,sans-Serif\" font-size=\"14.00\" fill=\"#000000\">samples = 6</text>\n<text text-anchor=\"middle\" x=\"826\" y=\"-327.3\" font-family=\"Helvetica,sans-Serif\" font-size=\"14.00\" fill=\"#000000\">value = [4, 2]</text>\n<text text-anchor=\"middle\" x=\"826\" y=\"-312.3\" font-family=\"Helvetica,sans-Serif\" font-size=\"14.00\" fill=\"#000000\">class = 0</text>\n</g>\n<!-- 14&#45;&gt;15 -->\n<g id=\"edge15\" class=\"edge\">\n<title>14&#45;&gt;15</title>\n<path fill=\"none\" stroke=\"#000000\" d=\"M826,-400.9465C826,-390.2621 826,-378.4254 826,-367.5742\"/>\n<polygon fill=\"#000000\" stroke=\"#000000\" points=\"829.5001,-367.5421 826,-357.5422 822.5001,-367.5422 829.5001,-367.5421\"/>\n</g>\n<!-- 16 -->\n<g id=\"node17\" class=\"node\">\n<title>16</title>\n<polygon fill=\"#43a2e6\" stroke=\"#000000\" points=\"1050.5,-365 893.5,-365 893.5,-297 1050.5,-297 1050.5,-365\"/>\n<text text-anchor=\"middle\" x=\"972\" y=\"-349.8\" font-family=\"Helvetica,sans-Serif\" font-size=\"14.00\" fill=\"#000000\">Bare_Nuclei &lt;= 0.262</text>\n<text text-anchor=\"middle\" x=\"972\" y=\"-334.8\" font-family=\"Helvetica,sans-Serif\" font-size=\"14.00\" fill=\"#000000\">samples = 163</text>\n<text text-anchor=\"middle\" x=\"972\" y=\"-319.8\" font-family=\"Helvetica,sans-Serif\" font-size=\"14.00\" fill=\"#000000\">value = [8, 155]</text>\n<text text-anchor=\"middle\" x=\"972\" y=\"-304.8\" font-family=\"Helvetica,sans-Serif\" font-size=\"14.00\" fill=\"#000000\">class = 1</text>\n</g>\n<!-- 14&#45;&gt;16 -->\n<g id=\"edge16\" class=\"edge\">\n<title>14&#45;&gt;16</title>\n<path fill=\"none\" stroke=\"#000000\" d=\"M873.8059,-400.9465C887.1666,-391.4293 901.8107,-380.9978 915.6174,-371.163\"/>\n<polygon fill=\"#000000\" stroke=\"#000000\" points=\"917.9725,-373.7826 924.0867,-365.13 913.9112,-368.0811 917.9725,-373.7826\"/>\n</g>\n<!-- 17 -->\n<g id=\"node18\" class=\"node\">\n<title>17</title>\n<polygon fill=\"#6db7ec\" stroke=\"#000000\" points=\"1056.5,-261 853.5,-261 853.5,-193 1056.5,-193 1056.5,-261\"/>\n<text text-anchor=\"middle\" x=\"955\" y=\"-245.8\" font-family=\"Helvetica,sans-Serif\" font-size=\"14.00\" fill=\"#000000\">Marginal_Adhesion &lt;= 0.234</text>\n<text text-anchor=\"middle\" x=\"955\" y=\"-230.8\" font-family=\"Helvetica,sans-Serif\" font-size=\"14.00\" fill=\"#000000\">samples = 29</text>\n<text text-anchor=\"middle\" x=\"955\" y=\"-215.8\" font-family=\"Helvetica,sans-Serif\" font-size=\"14.00\" fill=\"#000000\">value = [6, 23]</text>\n<text text-anchor=\"middle\" x=\"955\" y=\"-200.8\" font-family=\"Helvetica,sans-Serif\" font-size=\"14.00\" fill=\"#000000\">class = 1</text>\n</g>\n<!-- 16&#45;&gt;17 -->\n<g id=\"edge17\" class=\"edge\">\n<title>16&#45;&gt;17</title>\n<path fill=\"none\" stroke=\"#000000\" d=\"M966.4336,-296.9465C965.0833,-288.6863 963.6205,-279.7374 962.2066,-271.0875\"/>\n<polygon fill=\"#000000\" stroke=\"#000000\" points=\"965.6464,-270.4344 960.5789,-261.13 958.7381,-271.5637 965.6464,-270.4344\"/>\n</g>\n<!-- 22 -->\n<g id=\"node23\" class=\"node\">\n<title>22</title>\n<polygon fill=\"#3c9ee5\" stroke=\"#000000\" points=\"1219.5,-261 1074.5,-261 1074.5,-193 1219.5,-193 1219.5,-261\"/>\n<text text-anchor=\"middle\" x=\"1147\" y=\"-245.8\" font-family=\"Helvetica,sans-Serif\" font-size=\"14.00\" fill=\"#000000\">Cell_Shape &lt;= 0.43</text>\n<text text-anchor=\"middle\" x=\"1147\" y=\"-230.8\" font-family=\"Helvetica,sans-Serif\" font-size=\"14.00\" fill=\"#000000\">samples = 134</text>\n<text text-anchor=\"middle\" x=\"1147\" y=\"-215.8\" font-family=\"Helvetica,sans-Serif\" font-size=\"14.00\" fill=\"#000000\">value = [2, 132]</text>\n<text text-anchor=\"middle\" x=\"1147\" y=\"-200.8\" font-family=\"Helvetica,sans-Serif\" font-size=\"14.00\" fill=\"#000000\">class = 1</text>\n</g>\n<!-- 16&#45;&gt;22 -->\n<g id=\"edge22\" class=\"edge\">\n<title>16&#45;&gt;22</title>\n<path fill=\"none\" stroke=\"#000000\" d=\"M1029.3015,-296.9465C1045.7694,-287.1599 1063.8638,-276.4066 1080.8207,-266.3294\"/>\n<polygon fill=\"#000000\" stroke=\"#000000\" points=\"1082.7613,-269.2476 1089.5697,-261.13 1079.1851,-263.23 1082.7613,-269.2476\"/>\n</g>\n<!-- 18 -->\n<g id=\"node19\" class=\"node\">\n<title>18</title>\n<polygon fill=\"#e3f1fb\" stroke=\"#000000\" points=\"895.5,-157 764.5,-157 764.5,-89 895.5,-89 895.5,-157\"/>\n<text text-anchor=\"middle\" x=\"830\" y=\"-141.8\" font-family=\"Helvetica,sans-Serif\" font-size=\"14.00\" fill=\"#000000\">Cell_Size &lt;= 0.44</text>\n<text text-anchor=\"middle\" x=\"830\" y=\"-126.8\" font-family=\"Helvetica,sans-Serif\" font-size=\"14.00\" fill=\"#000000\">samples = 13</text>\n<text text-anchor=\"middle\" x=\"830\" y=\"-111.8\" font-family=\"Helvetica,sans-Serif\" font-size=\"14.00\" fill=\"#000000\">value = [6, 7]</text>\n<text text-anchor=\"middle\" x=\"830\" y=\"-96.8\" font-family=\"Helvetica,sans-Serif\" font-size=\"14.00\" fill=\"#000000\">class = 1</text>\n</g>\n<!-- 17&#45;&gt;18 -->\n<g id=\"edge18\" class=\"edge\">\n<title>17&#45;&gt;18</title>\n<path fill=\"none\" stroke=\"#000000\" d=\"M914.0703,-192.9465C902.8472,-183.6088 890.5663,-173.3911 878.9427,-163.7203\"/>\n<polygon fill=\"#000000\" stroke=\"#000000\" points=\"880.9474,-160.8353 871.0216,-157.13 876.4704,-166.2164 880.9474,-160.8353\"/>\n</g>\n<!-- 21 -->\n<g id=\"node22\" class=\"node\">\n<title>21</title>\n<polygon fill=\"#399de5\" stroke=\"#000000\" points=\"1020.5,-149.5 913.5,-149.5 913.5,-96.5 1020.5,-96.5 1020.5,-149.5\"/>\n<text text-anchor=\"middle\" x=\"967\" y=\"-134.3\" font-family=\"Helvetica,sans-Serif\" font-size=\"14.00\" fill=\"#000000\">samples = 16</text>\n<text text-anchor=\"middle\" x=\"967\" y=\"-119.3\" font-family=\"Helvetica,sans-Serif\" font-size=\"14.00\" fill=\"#000000\">value = [0, 16]</text>\n<text text-anchor=\"middle\" x=\"967\" y=\"-104.3\" font-family=\"Helvetica,sans-Serif\" font-size=\"14.00\" fill=\"#000000\">class = 1</text>\n</g>\n<!-- 17&#45;&gt;21 -->\n<g id=\"edge21\" class=\"edge\">\n<title>17&#45;&gt;21</title>\n<path fill=\"none\" stroke=\"#000000\" d=\"M958.9292,-192.9465C960.1621,-182.2621 961.5278,-170.4254 962.7799,-159.5742\"/>\n<polygon fill=\"#000000\" stroke=\"#000000\" points=\"966.268,-159.8775 963.9374,-149.5422 959.3142,-159.075 966.268,-159.8775\"/>\n</g>\n<!-- 19 -->\n<g id=\"node20\" class=\"node\">\n<title>19</title>\n<polygon fill=\"#ea9a61\" stroke=\"#000000\" points=\"820.5,-53 721.5,-53 721.5,0 820.5,0 820.5,-53\"/>\n<text text-anchor=\"middle\" x=\"771\" y=\"-37.8\" font-family=\"Helvetica,sans-Serif\" font-size=\"14.00\" fill=\"#000000\">samples = 6</text>\n<text text-anchor=\"middle\" x=\"771\" y=\"-22.8\" font-family=\"Helvetica,sans-Serif\" font-size=\"14.00\" fill=\"#000000\">value = [5, 1]</text>\n<text text-anchor=\"middle\" x=\"771\" y=\"-7.8\" font-family=\"Helvetica,sans-Serif\" font-size=\"14.00\" fill=\"#000000\">class = 0</text>\n</g>\n<!-- 18&#45;&gt;19 -->\n<g id=\"edge19\" class=\"edge\">\n<title>18&#45;&gt;19</title>\n<path fill=\"none\" stroke=\"#000000\" d=\"M809.1988,-88.9777C803.8242,-80.187 798.0265,-70.7044 792.6115,-61.8477\"/>\n<polygon fill=\"#000000\" stroke=\"#000000\" points=\"795.5564,-59.9545 787.354,-53.2485 789.5842,-63.6059 795.5564,-59.9545\"/>\n</g>\n<!-- 20 -->\n<g id=\"node21\" class=\"node\">\n<title>20</title>\n<polygon fill=\"#5aade9\" stroke=\"#000000\" points=\"937.5,-53 838.5,-53 838.5,0 937.5,0 937.5,-53\"/>\n<text text-anchor=\"middle\" x=\"888\" y=\"-37.8\" font-family=\"Helvetica,sans-Serif\" font-size=\"14.00\" fill=\"#000000\">samples = 7</text>\n<text text-anchor=\"middle\" x=\"888\" y=\"-22.8\" font-family=\"Helvetica,sans-Serif\" font-size=\"14.00\" fill=\"#000000\">value = [1, 6]</text>\n<text text-anchor=\"middle\" x=\"888\" y=\"-7.8\" font-family=\"Helvetica,sans-Serif\" font-size=\"14.00\" fill=\"#000000\">class = 1</text>\n</g>\n<!-- 18&#45;&gt;20 -->\n<g id=\"edge20\" class=\"edge\">\n<title>18&#45;&gt;20</title>\n<path fill=\"none\" stroke=\"#000000\" d=\"M850.4486,-88.9777C855.7322,-80.187 861.4316,-70.7044 866.7548,-61.8477\"/>\n<polygon fill=\"#000000\" stroke=\"#000000\" points=\"869.7715,-63.6225 871.9232,-53.2485 863.7718,-60.0165 869.7715,-63.6225\"/>\n</g>\n<!-- 23 -->\n<g id=\"node24\" class=\"node\">\n<title>23</title>\n<polygon fill=\"#55abe9\" stroke=\"#000000\" points=\"1235,-157 1045,-157 1045,-89 1235,-89 1235,-157\"/>\n<text text-anchor=\"middle\" x=\"1140\" y=\"-141.8\" font-family=\"Helvetica,sans-Serif\" font-size=\"14.00\" fill=\"#000000\">Bland_Chromatin &lt;= 1.248</text>\n<text text-anchor=\"middle\" x=\"1140\" y=\"-126.8\" font-family=\"Helvetica,sans-Serif\" font-size=\"14.00\" fill=\"#000000\">samples = 16</text>\n<text text-anchor=\"middle\" x=\"1140\" y=\"-111.8\" font-family=\"Helvetica,sans-Serif\" font-size=\"14.00\" fill=\"#000000\">value = [2, 14]</text>\n<text text-anchor=\"middle\" x=\"1140\" y=\"-96.8\" font-family=\"Helvetica,sans-Serif\" font-size=\"14.00\" fill=\"#000000\">class = 1</text>\n</g>\n<!-- 22&#45;&gt;23 -->\n<g id=\"edge23\" class=\"edge\">\n<title>22&#45;&gt;23</title>\n<path fill=\"none\" stroke=\"#000000\" d=\"M1144.7079,-192.9465C1144.158,-184.776 1143.5627,-175.9318 1142.9864,-167.3697\"/>\n<polygon fill=\"#000000\" stroke=\"#000000\" points=\"1146.461,-166.8723 1142.2972,-157.13 1139.4768,-167.3425 1146.461,-166.8723\"/>\n</g>\n<!-- 26 -->\n<g id=\"node27\" class=\"node\">\n<title>26</title>\n<polygon fill=\"#399de5\" stroke=\"#000000\" points=\"1369,-149.5 1253,-149.5 1253,-96.5 1369,-96.5 1369,-149.5\"/>\n<text text-anchor=\"middle\" x=\"1311\" y=\"-134.3\" font-family=\"Helvetica,sans-Serif\" font-size=\"14.00\" fill=\"#000000\">samples = 118</text>\n<text text-anchor=\"middle\" x=\"1311\" y=\"-119.3\" font-family=\"Helvetica,sans-Serif\" font-size=\"14.00\" fill=\"#000000\">value = [0, 118]</text>\n<text text-anchor=\"middle\" x=\"1311\" y=\"-104.3\" font-family=\"Helvetica,sans-Serif\" font-size=\"14.00\" fill=\"#000000\">class = 1</text>\n</g>\n<!-- 22&#45;&gt;26 -->\n<g id=\"edge26\" class=\"edge\">\n<title>22&#45;&gt;26</title>\n<path fill=\"none\" stroke=\"#000000\" d=\"M1200.6997,-192.9465C1219.9801,-180.72 1241.6396,-166.9847 1260.6272,-154.9437\"/>\n<polygon fill=\"#000000\" stroke=\"#000000\" points=\"1262.5744,-157.8534 1269.145,-149.5422 1258.8255,-151.9418 1262.5744,-157.8534\"/>\n</g>\n<!-- 24 -->\n<g id=\"node25\" class=\"node\">\n<title>24</title>\n<polygon fill=\"#399de5\" stroke=\"#000000\" points=\"1132.5,-53 1025.5,-53 1025.5,0 1132.5,0 1132.5,-53\"/>\n<text text-anchor=\"middle\" x=\"1079\" y=\"-37.8\" font-family=\"Helvetica,sans-Serif\" font-size=\"14.00\" fill=\"#000000\">samples = 10</text>\n<text text-anchor=\"middle\" x=\"1079\" y=\"-22.8\" font-family=\"Helvetica,sans-Serif\" font-size=\"14.00\" fill=\"#000000\">value = [0, 10]</text>\n<text text-anchor=\"middle\" x=\"1079\" y=\"-7.8\" font-family=\"Helvetica,sans-Serif\" font-size=\"14.00\" fill=\"#000000\">class = 1</text>\n</g>\n<!-- 23&#45;&gt;24 -->\n<g id=\"edge24\" class=\"edge\">\n<title>23&#45;&gt;24</title>\n<path fill=\"none\" stroke=\"#000000\" d=\"M1118.4937,-88.9777C1112.9369,-80.187 1106.9427,-70.7044 1101.3441,-61.8477\"/>\n<polygon fill=\"#000000\" stroke=\"#000000\" points=\"1104.2101,-59.8312 1095.9084,-53.2485 1098.2931,-63.5714 1104.2101,-59.8312\"/>\n</g>\n<!-- 25 -->\n<g id=\"node26\" class=\"node\">\n<title>25</title>\n<polygon fill=\"#9ccef2\" stroke=\"#000000\" points=\"1249.5,-53 1150.5,-53 1150.5,0 1249.5,0 1249.5,-53\"/>\n<text text-anchor=\"middle\" x=\"1200\" y=\"-37.8\" font-family=\"Helvetica,sans-Serif\" font-size=\"14.00\" fill=\"#000000\">samples = 6</text>\n<text text-anchor=\"middle\" x=\"1200\" y=\"-22.8\" font-family=\"Helvetica,sans-Serif\" font-size=\"14.00\" fill=\"#000000\">value = [2, 4]</text>\n<text text-anchor=\"middle\" x=\"1200\" y=\"-7.8\" font-family=\"Helvetica,sans-Serif\" font-size=\"14.00\" fill=\"#000000\">class = 1</text>\n</g>\n<!-- 23&#45;&gt;25 -->\n<g id=\"edge25\" class=\"edge\">\n<title>23&#45;&gt;25</title>\n<path fill=\"none\" stroke=\"#000000\" d=\"M1161.1538,-88.9777C1166.6195,-80.187 1172.5154,-70.7044 1178.0222,-61.8477\"/>\n<polygon fill=\"#000000\" stroke=\"#000000\" points=\"1181.0609,-63.5889 1183.3688,-53.2485 1175.1163,-59.8927 1181.0609,-63.5889\"/>\n</g>\n</g>\n</svg>\n"
          },
          "metadata": {}
        }
      ]
    },
    {
      "cell_type": "code",
      "metadata": {
        "id": "2q6bYuCfRScX",
        "colab": {
          "base_uri": "https://localhost:8080/"
        },
        "outputId": "49bc0d2f-2f2a-4c99-eba5-b57e62e144ab"
      },
      "source": [
        "from sklearn.metrics import f1_score\n",
        "from sklearn.metrics import classification_report\n",
        "f1=f1_score(y_test, pred_test)\n",
        "print(\"f1_score =\", f1,\"\\n\")\n",
        "cfreport=classification_report(y_test, pred_test)\n",
        "print(\"분류예측 레포트:\\n\", cfreport)"
      ],
      "execution_count": null,
      "outputs": [
        {
          "output_type": "stream",
          "name": "stdout",
          "text": [
            "f1_score = 0.943089430894309 \n",
            "\n",
            "분류예측 레포트:\n",
            "               precision    recall  f1-score   support\n",
            "\n",
            "           0       0.98      0.95      0.97       111\n",
            "           1       0.92      0.97      0.94        60\n",
            "\n",
            "    accuracy                           0.96       171\n",
            "   macro avg       0.95      0.96      0.96       171\n",
            "weighted avg       0.96      0.96      0.96       171\n",
            "\n"
          ]
        }
      ]
    },
    {
      "cell_type": "markdown",
      "metadata": {
        "id": "LbyYu2NYRSb1"
      },
      "source": [
        "##모델평가"
      ]
    },
    {
      "cell_type": "code",
      "metadata": {
        "id": "DaeytYUPRSb6"
      },
      "source": [
        "from sklearn.tree import DecisionTreeClassifier\n",
        "from sklearn.metrics import accuracy_score"
      ],
      "execution_count": null,
      "outputs": []
    },
    {
      "cell_type": "code",
      "source": [
        "dt = DecisionTreeClassifier()"
      ],
      "metadata": {
        "id": "K3BgiiJJjxnx"
      },
      "execution_count": null,
      "outputs": []
    },
    {
      "cell_type": "code",
      "source": [
        "dt.fit(X_train, y_train)"
      ],
      "metadata": {
        "colab": {
          "base_uri": "https://localhost:8080/"
        },
        "id": "Sm1WwPqnjlm8",
        "outputId": "a9715d57-cfe8-40da-faad-91f76deabe8d"
      },
      "execution_count": null,
      "outputs": [
        {
          "output_type": "execute_result",
          "data": {
            "text/plain": [
              "DecisionTreeClassifier()"
            ]
          },
          "metadata": {},
          "execution_count": 238
        }
      ]
    },
    {
      "cell_type": "code",
      "source": [
        "pred_train = dt.predict(X_train)\n",
        "pred_test = dt.predict(X_test)\n",
        "print('Train 정확도:',accuracy_score(y_train, pred_train))\n",
        "print('Test 정확도:',accuracy_score(y_test, pred_test))"
      ],
      "metadata": {
        "colab": {
          "base_uri": "https://localhost:8080/"
        },
        "id": "quE2qFSYj5uR",
        "outputId": "af3a0f0b-eff3-415c-9ad3-49f2d80ada15"
      },
      "execution_count": null,
      "outputs": [
        {
          "output_type": "stream",
          "name": "stdout",
          "text": [
            "Train 정확도: 1.0\n",
            "Test 정확도: 0.9649122807017544\n"
          ]
        }
      ]
    },
    {
      "cell_type": "code",
      "source": [
        "max_depth_list = range(1,20)\n",
        "train_list=[]\n",
        "test_list=[]\n",
        "for max_depth in max_depth_list:\n",
        "  tree = DecisionTreeClassifier(max_depth = max_depth)\n",
        "  tree.fit(X_train, y_train)\n",
        "  pre_train = tree.predict(X_train)\n",
        "  pred_test = tree.predict(X_test)\n",
        "  train_list.append(accuracy_score(y_train, pred_train))\n",
        "  test_list.append(accuracy_score(y_test, pred_test))\n",
        "\n",
        "d = {\n",
        "    \"max_depth\":max_depth_list,\n",
        "     \"Train 정확도\":train_list,\n",
        "     \"Test 정확도\":test_list\n",
        "}\n",
        "acc_df = pd.DataFrame(d)\n",
        "acc_df"
      ],
      "metadata": {
        "colab": {
          "base_uri": "https://localhost:8080/",
          "height": 645
        },
        "id": "SBxj8aoGg6jP",
        "outputId": "1faf7db3-dd8b-4f48-edfc-04d11796dfa9"
      },
      "execution_count": null,
      "outputs": [
        {
          "output_type": "execute_result",
          "data": {
            "text/plain": [
              "    max_depth  Train 정확도  Test 정확도\n",
              "0           1        1.0  0.900585\n",
              "1           2        1.0  0.941520\n",
              "2           3        1.0  0.947368\n",
              "3           4        1.0  0.953216\n",
              "4           5        1.0  0.947368\n",
              "5           6        1.0  0.953216\n",
              "6           7        1.0  0.959064\n",
              "7           8        1.0  0.953216\n",
              "8           9        1.0  0.959064\n",
              "9          10        1.0  0.959064\n",
              "10         11        1.0  0.959064\n",
              "11         12        1.0  0.953216\n",
              "12         13        1.0  0.964912\n",
              "13         14        1.0  0.959064\n",
              "14         15        1.0  0.953216\n",
              "15         16        1.0  0.953216\n",
              "16         17        1.0  0.959064\n",
              "17         18        1.0  0.959064\n",
              "18         19        1.0  0.953216"
            ],
            "text/html": [
              "\n",
              "  <div id=\"df-b7e9728d-112e-4980-af54-02e82d780168\">\n",
              "    <div class=\"colab-df-container\">\n",
              "      <div>\n",
              "<style scoped>\n",
              "    .dataframe tbody tr th:only-of-type {\n",
              "        vertical-align: middle;\n",
              "    }\n",
              "\n",
              "    .dataframe tbody tr th {\n",
              "        vertical-align: top;\n",
              "    }\n",
              "\n",
              "    .dataframe thead th {\n",
              "        text-align: right;\n",
              "    }\n",
              "</style>\n",
              "<table border=\"1\" class=\"dataframe\">\n",
              "  <thead>\n",
              "    <tr style=\"text-align: right;\">\n",
              "      <th></th>\n",
              "      <th>max_depth</th>\n",
              "      <th>Train 정확도</th>\n",
              "      <th>Test 정확도</th>\n",
              "    </tr>\n",
              "  </thead>\n",
              "  <tbody>\n",
              "    <tr>\n",
              "      <th>0</th>\n",
              "      <td>1</td>\n",
              "      <td>1.0</td>\n",
              "      <td>0.900585</td>\n",
              "    </tr>\n",
              "    <tr>\n",
              "      <th>1</th>\n",
              "      <td>2</td>\n",
              "      <td>1.0</td>\n",
              "      <td>0.941520</td>\n",
              "    </tr>\n",
              "    <tr>\n",
              "      <th>2</th>\n",
              "      <td>3</td>\n",
              "      <td>1.0</td>\n",
              "      <td>0.947368</td>\n",
              "    </tr>\n",
              "    <tr>\n",
              "      <th>3</th>\n",
              "      <td>4</td>\n",
              "      <td>1.0</td>\n",
              "      <td>0.953216</td>\n",
              "    </tr>\n",
              "    <tr>\n",
              "      <th>4</th>\n",
              "      <td>5</td>\n",
              "      <td>1.0</td>\n",
              "      <td>0.947368</td>\n",
              "    </tr>\n",
              "    <tr>\n",
              "      <th>5</th>\n",
              "      <td>6</td>\n",
              "      <td>1.0</td>\n",
              "      <td>0.953216</td>\n",
              "    </tr>\n",
              "    <tr>\n",
              "      <th>6</th>\n",
              "      <td>7</td>\n",
              "      <td>1.0</td>\n",
              "      <td>0.959064</td>\n",
              "    </tr>\n",
              "    <tr>\n",
              "      <th>7</th>\n",
              "      <td>8</td>\n",
              "      <td>1.0</td>\n",
              "      <td>0.953216</td>\n",
              "    </tr>\n",
              "    <tr>\n",
              "      <th>8</th>\n",
              "      <td>9</td>\n",
              "      <td>1.0</td>\n",
              "      <td>0.959064</td>\n",
              "    </tr>\n",
              "    <tr>\n",
              "      <th>9</th>\n",
              "      <td>10</td>\n",
              "      <td>1.0</td>\n",
              "      <td>0.959064</td>\n",
              "    </tr>\n",
              "    <tr>\n",
              "      <th>10</th>\n",
              "      <td>11</td>\n",
              "      <td>1.0</td>\n",
              "      <td>0.959064</td>\n",
              "    </tr>\n",
              "    <tr>\n",
              "      <th>11</th>\n",
              "      <td>12</td>\n",
              "      <td>1.0</td>\n",
              "      <td>0.953216</td>\n",
              "    </tr>\n",
              "    <tr>\n",
              "      <th>12</th>\n",
              "      <td>13</td>\n",
              "      <td>1.0</td>\n",
              "      <td>0.964912</td>\n",
              "    </tr>\n",
              "    <tr>\n",
              "      <th>13</th>\n",
              "      <td>14</td>\n",
              "      <td>1.0</td>\n",
              "      <td>0.959064</td>\n",
              "    </tr>\n",
              "    <tr>\n",
              "      <th>14</th>\n",
              "      <td>15</td>\n",
              "      <td>1.0</td>\n",
              "      <td>0.953216</td>\n",
              "    </tr>\n",
              "    <tr>\n",
              "      <th>15</th>\n",
              "      <td>16</td>\n",
              "      <td>1.0</td>\n",
              "      <td>0.953216</td>\n",
              "    </tr>\n",
              "    <tr>\n",
              "      <th>16</th>\n",
              "      <td>17</td>\n",
              "      <td>1.0</td>\n",
              "      <td>0.959064</td>\n",
              "    </tr>\n",
              "    <tr>\n",
              "      <th>17</th>\n",
              "      <td>18</td>\n",
              "      <td>1.0</td>\n",
              "      <td>0.959064</td>\n",
              "    </tr>\n",
              "    <tr>\n",
              "      <th>18</th>\n",
              "      <td>19</td>\n",
              "      <td>1.0</td>\n",
              "      <td>0.953216</td>\n",
              "    </tr>\n",
              "  </tbody>\n",
              "</table>\n",
              "</div>\n",
              "      <button class=\"colab-df-convert\" onclick=\"convertToInteractive('df-b7e9728d-112e-4980-af54-02e82d780168')\"\n",
              "              title=\"Convert this dataframe to an interactive table.\"\n",
              "              style=\"display:none;\">\n",
              "        \n",
              "  <svg xmlns=\"http://www.w3.org/2000/svg\" height=\"24px\"viewBox=\"0 0 24 24\"\n",
              "       width=\"24px\">\n",
              "    <path d=\"M0 0h24v24H0V0z\" fill=\"none\"/>\n",
              "    <path d=\"M18.56 5.44l.94 2.06.94-2.06 2.06-.94-2.06-.94-.94-2.06-.94 2.06-2.06.94zm-11 1L8.5 8.5l.94-2.06 2.06-.94-2.06-.94L8.5 2.5l-.94 2.06-2.06.94zm10 10l.94 2.06.94-2.06 2.06-.94-2.06-.94-.94-2.06-.94 2.06-2.06.94z\"/><path d=\"M17.41 7.96l-1.37-1.37c-.4-.4-.92-.59-1.43-.59-.52 0-1.04.2-1.43.59L10.3 9.45l-7.72 7.72c-.78.78-.78 2.05 0 2.83L4 21.41c.39.39.9.59 1.41.59.51 0 1.02-.2 1.41-.59l7.78-7.78 2.81-2.81c.8-.78.8-2.07 0-2.86zM5.41 20L4 18.59l7.72-7.72 1.47 1.35L5.41 20z\"/>\n",
              "  </svg>\n",
              "      </button>\n",
              "      \n",
              "  <style>\n",
              "    .colab-df-container {\n",
              "      display:flex;\n",
              "      flex-wrap:wrap;\n",
              "      gap: 12px;\n",
              "    }\n",
              "\n",
              "    .colab-df-convert {\n",
              "      background-color: #E8F0FE;\n",
              "      border: none;\n",
              "      border-radius: 50%;\n",
              "      cursor: pointer;\n",
              "      display: none;\n",
              "      fill: #1967D2;\n",
              "      height: 32px;\n",
              "      padding: 0 0 0 0;\n",
              "      width: 32px;\n",
              "    }\n",
              "\n",
              "    .colab-df-convert:hover {\n",
              "      background-color: #E2EBFA;\n",
              "      box-shadow: 0px 1px 2px rgba(60, 64, 67, 0.3), 0px 1px 3px 1px rgba(60, 64, 67, 0.15);\n",
              "      fill: #174EA6;\n",
              "    }\n",
              "\n",
              "    [theme=dark] .colab-df-convert {\n",
              "      background-color: #3B4455;\n",
              "      fill: #D2E3FC;\n",
              "    }\n",
              "\n",
              "    [theme=dark] .colab-df-convert:hover {\n",
              "      background-color: #434B5C;\n",
              "      box-shadow: 0px 1px 3px 1px rgba(0, 0, 0, 0.15);\n",
              "      filter: drop-shadow(0px 1px 2px rgba(0, 0, 0, 0.3));\n",
              "      fill: #FFFFFF;\n",
              "    }\n",
              "  </style>\n",
              "\n",
              "      <script>\n",
              "        const buttonEl =\n",
              "          document.querySelector('#df-b7e9728d-112e-4980-af54-02e82d780168 button.colab-df-convert');\n",
              "        buttonEl.style.display =\n",
              "          google.colab.kernel.accessAllowed ? 'block' : 'none';\n",
              "\n",
              "        async function convertToInteractive(key) {\n",
              "          const element = document.querySelector('#df-b7e9728d-112e-4980-af54-02e82d780168');\n",
              "          const dataTable =\n",
              "            await google.colab.kernel.invokeFunction('convertToInteractive',\n",
              "                                                     [key], {});\n",
              "          if (!dataTable) return;\n",
              "\n",
              "          const docLinkHtml = 'Like what you see? Visit the ' +\n",
              "            '<a target=\"_blank\" href=https://colab.research.google.com/notebooks/data_table.ipynb>data table notebook</a>'\n",
              "            + ' to learn more about interactive tables.';\n",
              "          element.innerHTML = '';\n",
              "          dataTable['output_type'] = 'display_data';\n",
              "          await google.colab.output.renderOutput(dataTable, element);\n",
              "          const docLink = document.createElement('div');\n",
              "          docLink.innerHTML = docLinkHtml;\n",
              "          element.appendChild(docLink);\n",
              "        }\n",
              "      </script>\n",
              "    </div>\n",
              "  </div>\n",
              "  "
            ]
          },
          "metadata": {},
          "execution_count": 240
        }
      ]
    },
    {
      "cell_type": "code",
      "metadata": {
        "id": "32GUVV3hRSb8"
      },
      "source": [
        "tree=DecisionTreeClassifier(max_depth=17, min_samples_leaf=3)"
      ],
      "execution_count": null,
      "outputs": []
    },
    {
      "cell_type": "code",
      "metadata": {
        "id": "LdwIZUc1RSb-",
        "colab": {
          "base_uri": "https://localhost:8080/"
        },
        "outputId": "6de58b3d-6429-4278-fdd0-1012335b252d"
      },
      "source": [
        "tree.fit(X_train, y_train)"
      ],
      "execution_count": null,
      "outputs": [
        {
          "output_type": "execute_result",
          "data": {
            "text/plain": [
              "DecisionTreeClassifier(max_depth=17, min_samples_leaf=3)"
            ]
          },
          "metadata": {},
          "execution_count": 242
        }
      ]
    },
    {
      "cell_type": "code",
      "metadata": {
        "id": "rStQSs2hRScA",
        "colab": {
          "base_uri": "https://localhost:8080/"
        },
        "outputId": "8248e176-155c-4cb6-ff68-0dc0a9990f09"
      },
      "source": [
        "from sklearn.metrics import confusion_matrix\n",
        "pred_train=tree.predict(X_train)\n",
        "confusion_train=confusion_matrix(y_train, pred_train)\n",
        "pred_test=tree.predict(X_test)\n",
        "confusion_test=confusion_matrix(y_test, pred_test)\n",
        "print(\"훈련데이터 오차행렬:\\n\", confusion_train)\n",
        "print(\"테스트 데이터 오차행렬:\\n\", confusion_test)"
      ],
      "execution_count": null,
      "outputs": [
        {
          "output_type": "stream",
          "name": "stdout",
          "text": [
            "훈련데이터 오차행렬:\n",
            " [[329   4]\n",
            " [  3 176]]\n",
            "테스트 데이터 오차행렬:\n",
            " [[106   5]\n",
            " [  2  58]]\n"
          ]
        }
      ]
    },
    {
      "cell_type": "markdown",
      "source": [
        "#knn"
      ],
      "metadata": {
        "id": "4xU6HUeZ0j2a"
      }
    },
    {
      "cell_type": "code",
      "source": [
        "from sklearn.neighbors import KNeighborsClassifier\n",
        "knn=KNeighborsClassifier(n_neighbors=3)"
      ],
      "metadata": {
        "id": "CYFspbag0kcd"
      },
      "execution_count": null,
      "outputs": []
    },
    {
      "cell_type": "markdown",
      "source": [
        "###Grid Search"
      ],
      "metadata": {
        "id": "urlPprEmaK9C"
      }
    },
    {
      "cell_type": "code",
      "source": [
        "from sklearn.model_selection import GridSearchCV\n",
        "from sklearn.neighbors import KNeighborsClassifier\n",
        "param_grid={'n_neighbors': [1,2,3,4,5,6,7,8,9,10,11,12,13,14,15,16,17,18,19,20]}\n",
        "grid_search=GridSearchCV(KNeighborsClassifier(), param_grid, cv=5, return_train_score=True)\n",
        "grid_search.fit(X_train, y_train)"
      ],
      "metadata": {
        "colab": {
          "base_uri": "https://localhost:8080/"
        },
        "id": "66zPncef0viY",
        "outputId": "640520c4-912e-433f-e047-a2d3d3777bee"
      },
      "execution_count": null,
      "outputs": [
        {
          "output_type": "execute_result",
          "data": {
            "text/plain": [
              "GridSearchCV(cv=5, estimator=KNeighborsClassifier(),\n",
              "             param_grid={'n_neighbors': [1, 2, 3, 4, 5, 6, 7, 8, 9, 10, 11, 12,\n",
              "                                         13, 14, 15, 16, 17, 18, 19, 20]},\n",
              "             return_train_score=True)"
            ]
          },
          "metadata": {},
          "execution_count": 278
        }
      ]
    },
    {
      "cell_type": "code",
      "source": [
        "print(\"Best Parameter: {}\".format(grid_search.best_params_))\n",
        "# test_size = 0.6 일 때는 6\n",
        "# 0.5 일 때는 8\n",
        "# 0.4 일 때 8\n",
        "# 0.3 일 때 4 \n",
        "# 0.25 일 때 3\n",
        "# 0.2 일 때 6"
      ],
      "metadata": {
        "colab": {
          "base_uri": "https://localhost:8080/"
        },
        "id": "HY93XIJt03lY",
        "outputId": "2a0f16c7-e05c-4174-f0cf-09d806612d3f"
      },
      "execution_count": null,
      "outputs": [
        {
          "output_type": "stream",
          "name": "stdout",
          "text": [
            "Best Parameter: {'n_neighbors': 3}\n"
          ]
        }
      ]
    },
    {
      "cell_type": "code",
      "source": [
        "print(\"Best Cross-validity Score: {:.3f}\".format(grid_search.best_score_))\n",
        "# test_size = 0.6 일 때는 0.836\n",
        "# 0.5 일 때는 0.835\n",
        "# 0.4 일 때 0.842\n",
        "# 0.3 일 때 0.837 \n",
        "# 0.25 일 때 0.842\n",
        "# 0.2 일 때 0.839"
      ],
      "metadata": {
        "colab": {
          "base_uri": "https://localhost:8080/"
        },
        "id": "fs--Q7sI05yO",
        "outputId": "2faf0e12-7443-40d2-a363-9903a7fca350"
      },
      "execution_count": null,
      "outputs": [
        {
          "output_type": "stream",
          "name": "stdout",
          "text": [
            "Best Cross-validity Score: 0.982\n"
          ]
        }
      ]
    },
    {
      "cell_type": "code",
      "source": [
        "print(\"Test set Score: {:.3f}\".format(grid_search.score(X_test, y_test)))\n",
        "# test_size = 0.6 일 때는 0.827\n",
        "# 0.5 일 때는 0.825\n",
        "# 0.4 일 때 0.822\n",
        "# 0.3 일 때 0.809 \n",
        "# 0.25 일 때 0.816\n",
        "# 0.2 일 때 0.81"
      ],
      "metadata": {
        "colab": {
          "base_uri": "https://localhost:8080/"
        },
        "id": "zAHoPC6v07ch",
        "outputId": "a1d34db7-3352-4f79-cc6d-dc155bec78f4"
      },
      "execution_count": null,
      "outputs": [
        {
          "output_type": "stream",
          "name": "stdout",
          "text": [
            "Test set Score: 0.942\n"
          ]
        }
      ]
    },
    {
      "cell_type": "code",
      "source": [
        "result_grid= pd.DataFrame(grid_search.cv_results_)"
      ],
      "metadata": {
        "id": "jdilqH7e0810"
      },
      "execution_count": null,
      "outputs": []
    },
    {
      "cell_type": "markdown",
      "source": [
        "###Random Search"
      ],
      "metadata": {
        "id": "SMEQFQtbaP_m"
      }
    },
    {
      "cell_type": "code",
      "source": [
        "from sklearn.model_selection import RandomizedSearchCV\n",
        "from scipy.stats import randint"
      ],
      "metadata": {
        "id": "2watvXEu1BUC"
      },
      "execution_count": null,
      "outputs": []
    },
    {
      "cell_type": "code",
      "source": [
        "param_distribs = {'n_neighbors': randint(low=1, high=20)}\n",
        "random_search=RandomizedSearchCV(KNeighborsClassifier(), param_distributions=param_distribs, cv=5, return_train_score=True)\n",
        "random_search.fit(X_train, y_train)"
      ],
      "metadata": {
        "colab": {
          "base_uri": "https://localhost:8080/"
        },
        "id": "pL4KujqM1Q8e",
        "outputId": "180cb0f4-0306-46fe-8cbf-e66a615f5aed"
      },
      "execution_count": null,
      "outputs": [
        {
          "output_type": "execute_result",
          "data": {
            "text/plain": [
              "RandomizedSearchCV(cv=5, estimator=KNeighborsClassifier(),\n",
              "                   param_distributions={'n_neighbors': <scipy.stats._distn_infrastructure.rv_frozen object at 0x7f4b388e47f0>},\n",
              "                   return_train_score=True)"
            ]
          },
          "metadata": {},
          "execution_count": 264
        }
      ]
    },
    {
      "cell_type": "code",
      "source": [
        "print(\"Best Parameter: {}\".format(random_search.best_params_))\n",
        "print(\"Best Cross-validity Score: {:.3f}\".format(random_search.best_score_))\n",
        "print(\"Test set Score: {:.3f}\".format(random_search.score(X_test, y_test)))"
      ],
      "metadata": {
        "colab": {
          "base_uri": "https://localhost:8080/"
        },
        "id": "QnQKd3Gt1VCj",
        "outputId": "19b53237-5191-430b-d7a1-788471d00bdb"
      },
      "execution_count": null,
      "outputs": [
        {
          "output_type": "stream",
          "name": "stdout",
          "text": [
            "Best Parameter: {'n_neighbors': 3}\n",
            "Best Cross-validity Score: 0.982\n",
            "Test set Score: 0.942\n"
          ]
        }
      ]
    },
    {
      "cell_type": "code",
      "source": [
        "result_random = random_search.cv_results_\n",
        "pd.DataFrame(result_random)"
      ],
      "metadata": {
        "colab": {
          "base_uri": "https://localhost:8080/",
          "height": 630
        },
        "id": "EmGFvl6n1cFC",
        "outputId": "049257fc-27e3-4d6d-9721-3e51d8a3e7d0"
      },
      "execution_count": null,
      "outputs": [
        {
          "output_type": "execute_result",
          "data": {
            "text/plain": [
              "   mean_fit_time  std_fit_time  mean_score_time  std_score_time  \\\n",
              "0       0.004228      0.004832         0.014681        0.008808   \n",
              "1       0.001417      0.000288         0.004647        0.000891   \n",
              "2       0.001202      0.000017         0.004079        0.000066   \n",
              "3       0.001317      0.000216         0.004825        0.001148   \n",
              "4       0.001199      0.000036         0.004293        0.000163   \n",
              "5       0.001156      0.000010         0.003964        0.000048   \n",
              "6       0.001182      0.000026         0.004124        0.000074   \n",
              "7       0.001252      0.000097         0.004300        0.000490   \n",
              "8       0.001183      0.000031         0.004324        0.000054   \n",
              "9       0.001154      0.000021         0.004100        0.000095   \n",
              "\n",
              "  param_n_neighbors               params  split0_test_score  \\\n",
              "0                 9   {'n_neighbors': 9}           0.990291   \n",
              "1                 6   {'n_neighbors': 6}           0.990291   \n",
              "2                 8   {'n_neighbors': 8}           0.990291   \n",
              "3                 3   {'n_neighbors': 3}           1.000000   \n",
              "4                15  {'n_neighbors': 15}           0.990291   \n",
              "5                 3   {'n_neighbors': 3}           1.000000   \n",
              "6                11  {'n_neighbors': 11}           0.990291   \n",
              "7                 1   {'n_neighbors': 1}           1.000000   \n",
              "8                19  {'n_neighbors': 19}           0.990291   \n",
              "9                10  {'n_neighbors': 10}           0.990291   \n",
              "\n",
              "   split1_test_score  split2_test_score  split3_test_score  ...  \\\n",
              "0           0.980583           0.970588           0.980392  ...   \n",
              "1           0.990291           0.970588           0.980392  ...   \n",
              "2           0.990291           0.970588           0.980392  ...   \n",
              "3           1.000000           0.970588           0.980392  ...   \n",
              "4           0.990291           0.970588           0.970588  ...   \n",
              "5           1.000000           0.970588           0.980392  ...   \n",
              "6           0.980583           0.970588           0.970588  ...   \n",
              "7           0.980583           0.970588           0.960784  ...   \n",
              "8           0.980583           0.970588           0.970588  ...   \n",
              "9           0.980583           0.970588           0.970588  ...   \n",
              "\n",
              "   mean_test_score  std_test_score  rank_test_score  split0_train_score  \\\n",
              "0         0.974567        0.013338                5            0.973105   \n",
              "1         0.976509        0.014709                3            0.973105   \n",
              "2         0.976509        0.014709                3            0.973105   \n",
              "3         0.982353        0.015686                1            0.980440   \n",
              "4         0.974548        0.014714                6            0.968215   \n",
              "5         0.982353        0.015686                1            0.980440   \n",
              "6         0.972606        0.013055                7            0.973105   \n",
              "7         0.966705        0.026033               10            1.000000   \n",
              "8         0.972606        0.013055                7            0.968215   \n",
              "9         0.972606        0.013055                7            0.973105   \n",
              "\n",
              "   split1_train_score  split2_train_score  split3_train_score  \\\n",
              "0            0.975550            0.980488            0.978049   \n",
              "1            0.968215            0.978049            0.982927   \n",
              "2            0.973105            0.978049            0.978049   \n",
              "3            0.977995            0.980488            0.987805   \n",
              "4            0.968215            0.973171            0.973171   \n",
              "5            0.977995            0.980488            0.987805   \n",
              "6            0.970660            0.978049            0.975610   \n",
              "7            1.000000            1.000000            1.000000   \n",
              "8            0.968215            0.973171            0.968293   \n",
              "9            0.968215            0.975610            0.978049   \n",
              "\n",
              "   split4_train_score  mean_train_score  std_train_score  \n",
              "0            0.982927          0.978024         0.003476  \n",
              "1            0.985366          0.977532         0.006279  \n",
              "2            0.982927          0.977047         0.003678  \n",
              "3            0.987805          0.982907         0.004100  \n",
              "4            0.978049          0.972164         0.003684  \n",
              "5            0.987805          0.982907         0.004100  \n",
              "6            0.982927          0.976070         0.004224  \n",
              "7            1.000000          1.000000         0.000000  \n",
              "8            0.980488          0.971676         0.004802  \n",
              "9            0.985366          0.976069         0.005675  \n",
              "\n",
              "[10 rows x 21 columns]"
            ],
            "text/html": [
              "\n",
              "  <div id=\"df-3ce7c483-f114-4f0d-a98c-c2b5c5189e87\">\n",
              "    <div class=\"colab-df-container\">\n",
              "      <div>\n",
              "<style scoped>\n",
              "    .dataframe tbody tr th:only-of-type {\n",
              "        vertical-align: middle;\n",
              "    }\n",
              "\n",
              "    .dataframe tbody tr th {\n",
              "        vertical-align: top;\n",
              "    }\n",
              "\n",
              "    .dataframe thead th {\n",
              "        text-align: right;\n",
              "    }\n",
              "</style>\n",
              "<table border=\"1\" class=\"dataframe\">\n",
              "  <thead>\n",
              "    <tr style=\"text-align: right;\">\n",
              "      <th></th>\n",
              "      <th>mean_fit_time</th>\n",
              "      <th>std_fit_time</th>\n",
              "      <th>mean_score_time</th>\n",
              "      <th>std_score_time</th>\n",
              "      <th>param_n_neighbors</th>\n",
              "      <th>params</th>\n",
              "      <th>split0_test_score</th>\n",
              "      <th>split1_test_score</th>\n",
              "      <th>split2_test_score</th>\n",
              "      <th>split3_test_score</th>\n",
              "      <th>...</th>\n",
              "      <th>mean_test_score</th>\n",
              "      <th>std_test_score</th>\n",
              "      <th>rank_test_score</th>\n",
              "      <th>split0_train_score</th>\n",
              "      <th>split1_train_score</th>\n",
              "      <th>split2_train_score</th>\n",
              "      <th>split3_train_score</th>\n",
              "      <th>split4_train_score</th>\n",
              "      <th>mean_train_score</th>\n",
              "      <th>std_train_score</th>\n",
              "    </tr>\n",
              "  </thead>\n",
              "  <tbody>\n",
              "    <tr>\n",
              "      <th>0</th>\n",
              "      <td>0.004228</td>\n",
              "      <td>0.004832</td>\n",
              "      <td>0.014681</td>\n",
              "      <td>0.008808</td>\n",
              "      <td>9</td>\n",
              "      <td>{'n_neighbors': 9}</td>\n",
              "      <td>0.990291</td>\n",
              "      <td>0.980583</td>\n",
              "      <td>0.970588</td>\n",
              "      <td>0.980392</td>\n",
              "      <td>...</td>\n",
              "      <td>0.974567</td>\n",
              "      <td>0.013338</td>\n",
              "      <td>5</td>\n",
              "      <td>0.973105</td>\n",
              "      <td>0.975550</td>\n",
              "      <td>0.980488</td>\n",
              "      <td>0.978049</td>\n",
              "      <td>0.982927</td>\n",
              "      <td>0.978024</td>\n",
              "      <td>0.003476</td>\n",
              "    </tr>\n",
              "    <tr>\n",
              "      <th>1</th>\n",
              "      <td>0.001417</td>\n",
              "      <td>0.000288</td>\n",
              "      <td>0.004647</td>\n",
              "      <td>0.000891</td>\n",
              "      <td>6</td>\n",
              "      <td>{'n_neighbors': 6}</td>\n",
              "      <td>0.990291</td>\n",
              "      <td>0.990291</td>\n",
              "      <td>0.970588</td>\n",
              "      <td>0.980392</td>\n",
              "      <td>...</td>\n",
              "      <td>0.976509</td>\n",
              "      <td>0.014709</td>\n",
              "      <td>3</td>\n",
              "      <td>0.973105</td>\n",
              "      <td>0.968215</td>\n",
              "      <td>0.978049</td>\n",
              "      <td>0.982927</td>\n",
              "      <td>0.985366</td>\n",
              "      <td>0.977532</td>\n",
              "      <td>0.006279</td>\n",
              "    </tr>\n",
              "    <tr>\n",
              "      <th>2</th>\n",
              "      <td>0.001202</td>\n",
              "      <td>0.000017</td>\n",
              "      <td>0.004079</td>\n",
              "      <td>0.000066</td>\n",
              "      <td>8</td>\n",
              "      <td>{'n_neighbors': 8}</td>\n",
              "      <td>0.990291</td>\n",
              "      <td>0.990291</td>\n",
              "      <td>0.970588</td>\n",
              "      <td>0.980392</td>\n",
              "      <td>...</td>\n",
              "      <td>0.976509</td>\n",
              "      <td>0.014709</td>\n",
              "      <td>3</td>\n",
              "      <td>0.973105</td>\n",
              "      <td>0.973105</td>\n",
              "      <td>0.978049</td>\n",
              "      <td>0.978049</td>\n",
              "      <td>0.982927</td>\n",
              "      <td>0.977047</td>\n",
              "      <td>0.003678</td>\n",
              "    </tr>\n",
              "    <tr>\n",
              "      <th>3</th>\n",
              "      <td>0.001317</td>\n",
              "      <td>0.000216</td>\n",
              "      <td>0.004825</td>\n",
              "      <td>0.001148</td>\n",
              "      <td>3</td>\n",
              "      <td>{'n_neighbors': 3}</td>\n",
              "      <td>1.000000</td>\n",
              "      <td>1.000000</td>\n",
              "      <td>0.970588</td>\n",
              "      <td>0.980392</td>\n",
              "      <td>...</td>\n",
              "      <td>0.982353</td>\n",
              "      <td>0.015686</td>\n",
              "      <td>1</td>\n",
              "      <td>0.980440</td>\n",
              "      <td>0.977995</td>\n",
              "      <td>0.980488</td>\n",
              "      <td>0.987805</td>\n",
              "      <td>0.987805</td>\n",
              "      <td>0.982907</td>\n",
              "      <td>0.004100</td>\n",
              "    </tr>\n",
              "    <tr>\n",
              "      <th>4</th>\n",
              "      <td>0.001199</td>\n",
              "      <td>0.000036</td>\n",
              "      <td>0.004293</td>\n",
              "      <td>0.000163</td>\n",
              "      <td>15</td>\n",
              "      <td>{'n_neighbors': 15}</td>\n",
              "      <td>0.990291</td>\n",
              "      <td>0.990291</td>\n",
              "      <td>0.970588</td>\n",
              "      <td>0.970588</td>\n",
              "      <td>...</td>\n",
              "      <td>0.974548</td>\n",
              "      <td>0.014714</td>\n",
              "      <td>6</td>\n",
              "      <td>0.968215</td>\n",
              "      <td>0.968215</td>\n",
              "      <td>0.973171</td>\n",
              "      <td>0.973171</td>\n",
              "      <td>0.978049</td>\n",
              "      <td>0.972164</td>\n",
              "      <td>0.003684</td>\n",
              "    </tr>\n",
              "    <tr>\n",
              "      <th>5</th>\n",
              "      <td>0.001156</td>\n",
              "      <td>0.000010</td>\n",
              "      <td>0.003964</td>\n",
              "      <td>0.000048</td>\n",
              "      <td>3</td>\n",
              "      <td>{'n_neighbors': 3}</td>\n",
              "      <td>1.000000</td>\n",
              "      <td>1.000000</td>\n",
              "      <td>0.970588</td>\n",
              "      <td>0.980392</td>\n",
              "      <td>...</td>\n",
              "      <td>0.982353</td>\n",
              "      <td>0.015686</td>\n",
              "      <td>1</td>\n",
              "      <td>0.980440</td>\n",
              "      <td>0.977995</td>\n",
              "      <td>0.980488</td>\n",
              "      <td>0.987805</td>\n",
              "      <td>0.987805</td>\n",
              "      <td>0.982907</td>\n",
              "      <td>0.004100</td>\n",
              "    </tr>\n",
              "    <tr>\n",
              "      <th>6</th>\n",
              "      <td>0.001182</td>\n",
              "      <td>0.000026</td>\n",
              "      <td>0.004124</td>\n",
              "      <td>0.000074</td>\n",
              "      <td>11</td>\n",
              "      <td>{'n_neighbors': 11}</td>\n",
              "      <td>0.990291</td>\n",
              "      <td>0.980583</td>\n",
              "      <td>0.970588</td>\n",
              "      <td>0.970588</td>\n",
              "      <td>...</td>\n",
              "      <td>0.972606</td>\n",
              "      <td>0.013055</td>\n",
              "      <td>7</td>\n",
              "      <td>0.973105</td>\n",
              "      <td>0.970660</td>\n",
              "      <td>0.978049</td>\n",
              "      <td>0.975610</td>\n",
              "      <td>0.982927</td>\n",
              "      <td>0.976070</td>\n",
              "      <td>0.004224</td>\n",
              "    </tr>\n",
              "    <tr>\n",
              "      <th>7</th>\n",
              "      <td>0.001252</td>\n",
              "      <td>0.000097</td>\n",
              "      <td>0.004300</td>\n",
              "      <td>0.000490</td>\n",
              "      <td>1</td>\n",
              "      <td>{'n_neighbors': 1}</td>\n",
              "      <td>1.000000</td>\n",
              "      <td>0.980583</td>\n",
              "      <td>0.970588</td>\n",
              "      <td>0.960784</td>\n",
              "      <td>...</td>\n",
              "      <td>0.966705</td>\n",
              "      <td>0.026033</td>\n",
              "      <td>10</td>\n",
              "      <td>1.000000</td>\n",
              "      <td>1.000000</td>\n",
              "      <td>1.000000</td>\n",
              "      <td>1.000000</td>\n",
              "      <td>1.000000</td>\n",
              "      <td>1.000000</td>\n",
              "      <td>0.000000</td>\n",
              "    </tr>\n",
              "    <tr>\n",
              "      <th>8</th>\n",
              "      <td>0.001183</td>\n",
              "      <td>0.000031</td>\n",
              "      <td>0.004324</td>\n",
              "      <td>0.000054</td>\n",
              "      <td>19</td>\n",
              "      <td>{'n_neighbors': 19}</td>\n",
              "      <td>0.990291</td>\n",
              "      <td>0.980583</td>\n",
              "      <td>0.970588</td>\n",
              "      <td>0.970588</td>\n",
              "      <td>...</td>\n",
              "      <td>0.972606</td>\n",
              "      <td>0.013055</td>\n",
              "      <td>7</td>\n",
              "      <td>0.968215</td>\n",
              "      <td>0.968215</td>\n",
              "      <td>0.973171</td>\n",
              "      <td>0.968293</td>\n",
              "      <td>0.980488</td>\n",
              "      <td>0.971676</td>\n",
              "      <td>0.004802</td>\n",
              "    </tr>\n",
              "    <tr>\n",
              "      <th>9</th>\n",
              "      <td>0.001154</td>\n",
              "      <td>0.000021</td>\n",
              "      <td>0.004100</td>\n",
              "      <td>0.000095</td>\n",
              "      <td>10</td>\n",
              "      <td>{'n_neighbors': 10}</td>\n",
              "      <td>0.990291</td>\n",
              "      <td>0.980583</td>\n",
              "      <td>0.970588</td>\n",
              "      <td>0.970588</td>\n",
              "      <td>...</td>\n",
              "      <td>0.972606</td>\n",
              "      <td>0.013055</td>\n",
              "      <td>7</td>\n",
              "      <td>0.973105</td>\n",
              "      <td>0.968215</td>\n",
              "      <td>0.975610</td>\n",
              "      <td>0.978049</td>\n",
              "      <td>0.985366</td>\n",
              "      <td>0.976069</td>\n",
              "      <td>0.005675</td>\n",
              "    </tr>\n",
              "  </tbody>\n",
              "</table>\n",
              "<p>10 rows × 21 columns</p>\n",
              "</div>\n",
              "      <button class=\"colab-df-convert\" onclick=\"convertToInteractive('df-3ce7c483-f114-4f0d-a98c-c2b5c5189e87')\"\n",
              "              title=\"Convert this dataframe to an interactive table.\"\n",
              "              style=\"display:none;\">\n",
              "        \n",
              "  <svg xmlns=\"http://www.w3.org/2000/svg\" height=\"24px\"viewBox=\"0 0 24 24\"\n",
              "       width=\"24px\">\n",
              "    <path d=\"M0 0h24v24H0V0z\" fill=\"none\"/>\n",
              "    <path d=\"M18.56 5.44l.94 2.06.94-2.06 2.06-.94-2.06-.94-.94-2.06-.94 2.06-2.06.94zm-11 1L8.5 8.5l.94-2.06 2.06-.94-2.06-.94L8.5 2.5l-.94 2.06-2.06.94zm10 10l.94 2.06.94-2.06 2.06-.94-2.06-.94-.94-2.06-.94 2.06-2.06.94z\"/><path d=\"M17.41 7.96l-1.37-1.37c-.4-.4-.92-.59-1.43-.59-.52 0-1.04.2-1.43.59L10.3 9.45l-7.72 7.72c-.78.78-.78 2.05 0 2.83L4 21.41c.39.39.9.59 1.41.59.51 0 1.02-.2 1.41-.59l7.78-7.78 2.81-2.81c.8-.78.8-2.07 0-2.86zM5.41 20L4 18.59l7.72-7.72 1.47 1.35L5.41 20z\"/>\n",
              "  </svg>\n",
              "      </button>\n",
              "      \n",
              "  <style>\n",
              "    .colab-df-container {\n",
              "      display:flex;\n",
              "      flex-wrap:wrap;\n",
              "      gap: 12px;\n",
              "    }\n",
              "\n",
              "    .colab-df-convert {\n",
              "      background-color: #E8F0FE;\n",
              "      border: none;\n",
              "      border-radius: 50%;\n",
              "      cursor: pointer;\n",
              "      display: none;\n",
              "      fill: #1967D2;\n",
              "      height: 32px;\n",
              "      padding: 0 0 0 0;\n",
              "      width: 32px;\n",
              "    }\n",
              "\n",
              "    .colab-df-convert:hover {\n",
              "      background-color: #E2EBFA;\n",
              "      box-shadow: 0px 1px 2px rgba(60, 64, 67, 0.3), 0px 1px 3px 1px rgba(60, 64, 67, 0.15);\n",
              "      fill: #174EA6;\n",
              "    }\n",
              "\n",
              "    [theme=dark] .colab-df-convert {\n",
              "      background-color: #3B4455;\n",
              "      fill: #D2E3FC;\n",
              "    }\n",
              "\n",
              "    [theme=dark] .colab-df-convert:hover {\n",
              "      background-color: #434B5C;\n",
              "      box-shadow: 0px 1px 3px 1px rgba(0, 0, 0, 0.15);\n",
              "      filter: drop-shadow(0px 1px 2px rgba(0, 0, 0, 0.3));\n",
              "      fill: #FFFFFF;\n",
              "    }\n",
              "  </style>\n",
              "\n",
              "      <script>\n",
              "        const buttonEl =\n",
              "          document.querySelector('#df-3ce7c483-f114-4f0d-a98c-c2b5c5189e87 button.colab-df-convert');\n",
              "        buttonEl.style.display =\n",
              "          google.colab.kernel.accessAllowed ? 'block' : 'none';\n",
              "\n",
              "        async function convertToInteractive(key) {\n",
              "          const element = document.querySelector('#df-3ce7c483-f114-4f0d-a98c-c2b5c5189e87');\n",
              "          const dataTable =\n",
              "            await google.colab.kernel.invokeFunction('convertToInteractive',\n",
              "                                                     [key], {});\n",
              "          if (!dataTable) return;\n",
              "\n",
              "          const docLinkHtml = 'Like what you see? Visit the ' +\n",
              "            '<a target=\"_blank\" href=https://colab.research.google.com/notebooks/data_table.ipynb>data table notebook</a>'\n",
              "            + ' to learn more about interactive tables.';\n",
              "          element.innerHTML = '';\n",
              "          dataTable['output_type'] = 'display_data';\n",
              "          await google.colab.output.renderOutput(dataTable, element);\n",
              "          const docLink = document.createElement('div');\n",
              "          docLink.innerHTML = docLinkHtml;\n",
              "          element.appendChild(docLink);\n",
              "        }\n",
              "      </script>\n",
              "    </div>\n",
              "  </div>\n",
              "  "
            ]
          },
          "metadata": {},
          "execution_count": 266
        }
      ]
    },
    {
      "cell_type": "code",
      "source": [
        "import matplotlib.pyplot as plt\n",
        "plt.plot(result_random['param_n_neighbors'], result_random['mean_train_score'], label=\"Train\")\n",
        "plt.plot(result_random['param_n_neighbors'], result_random['mean_test_score'], label=\"Test\")\n",
        "plt.legend()"
      ],
      "metadata": {
        "colab": {
          "base_uri": "https://localhost:8080/",
          "height": 284
        },
        "id": "CAJ0D4iW1f8y",
        "outputId": "2094bcbf-9a01-491e-d476-db27ca5f0a1a"
      },
      "execution_count": null,
      "outputs": [
        {
          "output_type": "execute_result",
          "data": {
            "text/plain": [
              "<matplotlib.legend.Legend at 0x7f4b38b79250>"
            ]
          },
          "metadata": {},
          "execution_count": 263
        },
        {
          "output_type": "display_data",
          "data": {
            "text/plain": [
              "<Figure size 432x288 with 1 Axes>"
            ],
            "image/png": "[encoded data removed]"
          },
          "metadata": {
            "needs_background": "light"
          }
        }
      ]
    },
    {
      "cell_type": "markdown",
      "source": [
        "##모델평가"
      ],
      "metadata": {
        "id": "PZTjGg7I152r"
      }
    },
    {
      "cell_type": "code",
      "source": [
        "from sklearn.neighbors import KNeighborsClassifier"
      ],
      "metadata": {
        "id": "T7m9GvTK1g7a"
      },
      "execution_count": null,
      "outputs": []
    },
    {
      "cell_type": "code",
      "source": [
        "knn_best=KNeighborsClassifier(n_neighbors=3)"
      ],
      "metadata": {
        "id": "SquOfWiN18OX"
      },
      "execution_count": null,
      "outputs": []
    },
    {
      "cell_type": "code",
      "source": [
        "knn_best.fit(X_train, y_train)\n",
        "from sklearn.metrics import confusion_matrix\n",
        "# Confusion matrix에서\n",
        "pred_train=knn_best.predict(X_train) \n",
        "confusion_train=confusion_matrix(y_train, pred_train)\n",
        "print(\"훈련데이터 오차행렬:\\n\", confusion_train)"
      ],
      "metadata": {
        "colab": {
          "base_uri": "https://localhost:8080/"
        },
        "id": "ORUIJM-K19Ty",
        "outputId": "eabb99bc-ed53-473f-cbb7-c48005355630"
      },
      "execution_count": null,
      "outputs": [
        {
          "output_type": "stream",
          "name": "stdout",
          "text": [
            "훈련데이터 오차행렬:\n",
            " [[330   3]\n",
            " [  5 174]]\n"
          ]
        }
      ]
    },
    {
      "cell_type": "code",
      "source": [
        "pred_test=knn_best.predict(X_test)\n",
        "confusion_test=confusion_matrix(y_test, pred_test)\n",
        "print(\"테스트데이터 오차행렬:\\n\", confusion_test)\n"
      ],
      "metadata": {
        "colab": {
          "base_uri": "https://localhost:8080/"
        },
        "id": "RBnOhKJV2CNu",
        "outputId": "db3a5839-41fb-4475-c632-83d84b0c155b"
      },
      "execution_count": null,
      "outputs": [
        {
          "output_type": "stream",
          "name": "stdout",
          "text": [
            "테스트데이터 오차행렬:\n",
            " [[106   5]\n",
            " [  5  55]]\n"
          ]
        }
      ]
    },
    {
      "cell_type": "code",
      "source": [
        "f1=f1_score(y_test, pred_test)\n",
        "print(\"f1 score:\", f1,'\\n')\n",
        "from sklearn.metrics import classification_report\n",
        "cfreport=classification_report(y_test, pred_test)\n",
        "print(\"분류예측 레포트:\\n\", cfreport)"
      ],
      "metadata": {
        "colab": {
          "base_uri": "https://localhost:8080/"
        },
        "id": "XC9amPhr2F-c",
        "outputId": "c0b2732c-2cb4-48fb-d6d4-f93406500ca7"
      },
      "execution_count": null,
      "outputs": [
        {
          "output_type": "stream",
          "name": "stdout",
          "text": [
            "f1 score: 0.9166666666666666 \n",
            "\n",
            "분류예측 레포트:\n",
            "               precision    recall  f1-score   support\n",
            "\n",
            "           0       0.95      0.95      0.95       111\n",
            "           1       0.92      0.92      0.92        60\n",
            "\n",
            "    accuracy                           0.94       171\n",
            "   macro avg       0.94      0.94      0.94       171\n",
            "weighted avg       0.94      0.94      0.94       171\n",
            "\n"
          ]
        }
      ]
    },
    {
      "cell_type": "markdown",
      "source": [
        "#랜덤포레스트"
      ],
      "metadata": {
        "id": "hvrou2P-3E0Y"
      }
    },
    {
      "cell_type": "markdown",
      "source": [
        "###Grid Search"
      ],
      "metadata": {
        "id": "d5nvRANf3elz"
      }
    },
    {
      "cell_type": "code",
      "source": [
        "from sklearn.model_selection import GridSearchCV\n",
        "param_grid={'n_estimators': range(100, 1000, 100), \n",
        "            'max_features': ['auto', 'sqrt', 'log2']}\n",
        "from sklearn.ensemble import RandomForestClassifier\n",
        "grid_search=GridSearchCV(RandomForestClassifier(), param_grid, cv=5, return_train_score=True)"
      ],
      "metadata": {
        "id": "oCFVJJTq2TjV"
      },
      "execution_count": null,
      "outputs": []
    },
    {
      "cell_type": "code",
      "source": [
        "grid_search.fit(X_train, y_train)\n",
        "print(\"Best Parameter: {}\".format(grid_search.best_params_))\n",
        "print(\"Best Cross-validity Score: {:.3f}\".format(grid_search.best_score_))\n",
        "print(\"Test set Score: {:.3f}\".format(grid_search.score(X_test, y_test)))"
      ],
      "metadata": {
        "colab": {
          "base_uri": "https://localhost:8080/"
        },
        "id": "_oKDBfp13Qg2",
        "outputId": "2169ccb6-be5f-44d6-e77b-b8e5ffdb47d0"
      },
      "execution_count": null,
      "outputs": [
        {
          "output_type": "stream",
          "name": "stdout",
          "text": [
            "Best Parameter: {'max_features': 'sqrt', 'n_estimators': 700}\n",
            "Best Cross-validity Score: 0.973\n",
            "Test set Score: 0.965\n"
          ]
        }
      ]
    },
    {
      "cell_type": "code",
      "source": [
        "result_grid= pd.DataFrame(grid_search.cv_results_)\n",
        "result_grid"
      ],
      "metadata": {
        "id": "SPlQH8Fm3Uj2"
      },
      "execution_count": null,
      "outputs": []
    },
    {
      "cell_type": "code",
      "source": [
        "import matplotlib.pyplot as plt\n",
        "plt.plot(result_grid['param_max_features'], \n",
        "         result_grid['mean_train_score'], label=\"Train\")\n",
        "plt.plot(result_grid['param_max_features'], \n",
        "         result_grid['mean_test_score'], label=\"Test\")\n",
        "plt.legend()"
      ],
      "metadata": {
        "colab": {
          "base_uri": "https://localhost:8080/",
          "height": 284
        },
        "id": "JdtEoN8P3XGn",
        "outputId": "b521f395-983b-4e02-b523-f89946b13535"
      },
      "execution_count": null,
      "outputs": [
        {
          "output_type": "execute_result",
          "data": {
            "text/plain": [
              "<matplotlib.legend.Legend at 0x7f4b3895fca0>"
            ]
          },
          "metadata": {},
          "execution_count": 285
        },
        {
          "output_type": "display_data",
          "data": {
            "text/plain": [
              "<Figure size 432x288 with 1 Axes>"
            ],
            "image/png": "[encoded data removed]"
          },
          "metadata": {
            "needs_background": "light"
          }
        }
      ]
    },
    {
      "cell_type": "code",
      "source": [
        "import matplotlib.pyplot as plt\n",
        "plt.plot(result_grid['param_n_estimators'], \n",
        "         result_grid['mean_train_score'], label=\"Train\")\n",
        "plt.plot(result_grid['param_n_estimators'], \n",
        "         result_grid['mean_test_score'], label=\"Test\")\n",
        "plt.legend()"
      ],
      "metadata": {
        "colab": {
          "base_uri": "https://localhost:8080/",
          "height": 284
        },
        "id": "JDU6R_xT3X0Q",
        "outputId": "eb9f5c7b-4580-4212-931a-a34c021a9e7b"
      },
      "execution_count": null,
      "outputs": [
        {
          "output_type": "execute_result",
          "data": {
            "text/plain": [
              "<matplotlib.legend.Legend at 0x7f4b3b3632b0>"
            ]
          },
          "metadata": {},
          "execution_count": 286
        },
        {
          "output_type": "display_data",
          "data": {
            "text/plain": [
              "<Figure size 432x288 with 1 Axes>"
            ],
            "image/png": "[encoded data removed]"
          },
          "metadata": {
            "needs_background": "light"
          }
        }
      ]
    },
    {
      "cell_type": "markdown",
      "source": [
        "###Random Search"
      ],
      "metadata": {
        "id": "Ghl_3Pu83ff7"
      }
    },
    {
      "cell_type": "code",
      "source": [
        "from sklearn.model_selection import RandomizedSearchCV\n",
        "from scipy.stats import randint\n",
        "from sklearn.ensemble import RandomForestClassifier\n",
        "param_distribs = {'n_estimators': randint(low=100, high=1000), \n",
        "                  'max_features': ['auto', 'sqrt', 'log2']}"
      ],
      "metadata": {
        "id": "r08V7QrF3Y1p"
      },
      "execution_count": null,
      "outputs": []
    },
    {
      "cell_type": "code",
      "source": [
        "random_search=RandomizedSearchCV(RandomForestClassifier(), \n",
        "                                 param_distributions=param_distribs, cv=5, return_train_score=True)\n",
        "random_search.fit(X_train, y_train)"
      ],
      "metadata": {
        "colab": {
          "base_uri": "https://localhost:8080/"
        },
        "id": "fxu2PuCF3kQs",
        "outputId": "9295131d-3692-4be6-cfdc-37aac0c43664"
      },
      "execution_count": null,
      "outputs": [
        {
          "output_type": "execute_result",
          "data": {
            "text/plain": [
              "RandomizedSearchCV(cv=5, estimator=RandomForestClassifier(),\n",
              "                   param_distributions={'max_features': ['auto', 'sqrt',\n",
              "                                                         'log2'],\n",
              "                                        'n_estimators': <scipy.stats._distn_infrastructure.rv_frozen object at 0x7f4b38bee700>},\n",
              "                   return_train_score=True)"
            ]
          },
          "metadata": {},
          "execution_count": 288
        }
      ]
    },
    {
      "cell_type": "code",
      "source": [
        "print(\"Best Parameter: {}\".format(random_search.best_params_))\n",
        "print(\"Best Cross-validity Score: {:.3f}\".format(random_search.best_score_))\n",
        "print(\"Test set Score: {:.3f}\".format(random_search.score(X_test, y_test)))"
      ],
      "metadata": {
        "colab": {
          "base_uri": "https://localhost:8080/"
        },
        "id": "wEDM0Wyh3oLH",
        "outputId": "9f03dbdf-5775-4bf4-946f-85d291c9fd1c"
      },
      "execution_count": null,
      "outputs": [
        {
          "output_type": "stream",
          "name": "stdout",
          "text": [
            "Best Parameter: {'max_features': 'auto', 'n_estimators': 295}\n",
            "Best Cross-validity Score: 0.971\n",
            "Test set Score: 0.971\n"
          ]
        }
      ]
    },
    {
      "cell_type": "code",
      "source": [
        "result_random = random_search.cv_results_\n",
        "pd.DataFrame(result_random)"
      ],
      "metadata": {
        "colab": {
          "base_uri": "https://localhost:8080/",
          "height": 977
        },
        "id": "rHdbLg293q8X",
        "outputId": "e5d2be93-4521-4ae1-a28f-b8bf1a554d01"
      },
      "execution_count": null,
      "outputs": [
        {
          "output_type": "execute_result",
          "data": {
            "text/plain": [
              "   mean_fit_time  std_fit_time  mean_score_time  std_score_time  \\\n",
              "0       0.636404      0.125196         0.050183        0.015328   \n",
              "1       0.709780      0.129302         0.055647        0.016472   \n",
              "2       0.598668      0.147219         0.044129        0.013219   \n",
              "3       1.134895      0.234901         0.081689        0.024001   \n",
              "4       2.655288      1.338362         0.203501        0.098875   \n",
              "5       1.244164      0.185224         0.159485        0.096220   \n",
              "6       1.638416      0.510809         0.182238        0.105767   \n",
              "7       1.561520      0.824692         0.094021        0.051435   \n",
              "8       0.786226      0.007723         0.061635        0.004117   \n",
              "9       0.236113      0.004145         0.018500        0.001182   \n",
              "\n",
              "  param_max_features param_n_estimators  \\\n",
              "0               log2                299   \n",
              "1               auto                316   \n",
              "2               auto                295   \n",
              "3               sqrt                563   \n",
              "4               sqrt                969   \n",
              "5               sqrt                573   \n",
              "6               auto                695   \n",
              "7               sqrt                673   \n",
              "8               auto                563   \n",
              "9               auto                170   \n",
              "\n",
              "                                          params  split0_test_score  \\\n",
              "0  {'max_features': 'log2', 'n_estimators': 299}           0.990291   \n",
              "1  {'max_features': 'auto', 'n_estimators': 316}           0.990291   \n",
              "2  {'max_features': 'auto', 'n_estimators': 295}           0.990291   \n",
              "3  {'max_features': 'sqrt', 'n_estimators': 563}           0.990291   \n",
              "4  {'max_features': 'sqrt', 'n_estimators': 969}           0.990291   \n",
              "5  {'max_features': 'sqrt', 'n_estimators': 573}           0.990291   \n",
              "6  {'max_features': 'auto', 'n_estimators': 695}           0.990291   \n",
              "7  {'max_features': 'sqrt', 'n_estimators': 673}           0.990291   \n",
              "8  {'max_features': 'auto', 'n_estimators': 563}           0.980583   \n",
              "9  {'max_features': 'auto', 'n_estimators': 170}           0.990291   \n",
              "\n",
              "   split1_test_score  split2_test_score  ...  mean_test_score  std_test_score  \\\n",
              "0           0.980583           0.970588  ...         0.968685        0.015741   \n",
              "1           0.970874           0.970588  ...         0.968704        0.013047   \n",
              "2           0.980583           0.970588  ...         0.970645        0.013919   \n",
              "3           0.980583           0.970588  ...         0.968685        0.015741   \n",
              "4           0.970874           0.970588  ...         0.968704        0.013047   \n",
              "5           0.980583           0.970588  ...         0.968685        0.015741   \n",
              "6           0.980583           0.980392  ...         0.970645        0.016451   \n",
              "7           0.980583           0.970588  ...         0.968685        0.015741   \n",
              "8           0.980583           0.970588  ...         0.966743        0.013377   \n",
              "9           0.970874           0.980392  ...         0.968704        0.015720   \n",
              "\n",
              "   rank_test_score  split0_train_score  split1_train_score  \\\n",
              "0                6                 1.0                 1.0   \n",
              "1                3                 1.0                 1.0   \n",
              "2                1                 1.0                 1.0   \n",
              "3                6                 1.0                 1.0   \n",
              "4                3                 1.0                 1.0   \n",
              "5                6                 1.0                 1.0   \n",
              "6                1                 1.0                 1.0   \n",
              "7                6                 1.0                 1.0   \n",
              "8               10                 1.0                 1.0   \n",
              "9                3                 1.0                 1.0   \n",
              "\n",
              "   split2_train_score  split3_train_score  split4_train_score  \\\n",
              "0                 1.0                 1.0                 1.0   \n",
              "1                 1.0                 1.0                 1.0   \n",
              "2                 1.0                 1.0                 1.0   \n",
              "3                 1.0                 1.0                 1.0   \n",
              "4                 1.0                 1.0                 1.0   \n",
              "5                 1.0                 1.0                 1.0   \n",
              "6                 1.0                 1.0                 1.0   \n",
              "7                 1.0                 1.0                 1.0   \n",
              "8                 1.0                 1.0                 1.0   \n",
              "9                 1.0                 1.0                 1.0   \n",
              "\n",
              "   mean_train_score  std_train_score  \n",
              "0               1.0              0.0  \n",
              "1               1.0              0.0  \n",
              "2               1.0              0.0  \n",
              "3               1.0              0.0  \n",
              "4               1.0              0.0  \n",
              "5               1.0              0.0  \n",
              "6               1.0              0.0  \n",
              "7               1.0              0.0  \n",
              "8               1.0              0.0  \n",
              "9               1.0              0.0  \n",
              "\n",
              "[10 rows x 22 columns]"
            ],
            "text/html": [
              "\n",
              "  <div id=\"df-bd20bac9-322a-4203-a657-8a646a7afe36\">\n",
              "    <div class=\"colab-df-container\">\n",
              "      <div>\n",
              "<style scoped>\n",
              "    .dataframe tbody tr th:only-of-type {\n",
              "        vertical-align: middle;\n",
              "    }\n",
              "\n",
              "    .dataframe tbody tr th {\n",
              "        vertical-align: top;\n",
              "    }\n",
              "\n",
              "    .dataframe thead th {\n",
              "        text-align: right;\n",
              "    }\n",
              "</style>\n",
              "<table border=\"1\" class=\"dataframe\">\n",
              "  <thead>\n",
              "    <tr style=\"text-align: right;\">\n",
              "      <th></th>\n",
              "      <th>mean_fit_time</th>\n",
              "      <th>std_fit_time</th>\n",
              "      <th>mean_score_time</th>\n",
              "      <th>std_score_time</th>\n",
              "      <th>param_max_features</th>\n",
              "      <th>param_n_estimators</th>\n",
              "      <th>params</th>\n",
              "      <th>split0_test_score</th>\n",
              "      <th>split1_test_score</th>\n",
              "      <th>split2_test_score</th>\n",
              "      <th>...</th>\n",
              "      <th>mean_test_score</th>\n",
              "      <th>std_test_score</th>\n",
              "      <th>rank_test_score</th>\n",
              "      <th>split0_train_score</th>\n",
              "      <th>split1_train_score</th>\n",
              "      <th>split2_train_score</th>\n",
              "      <th>split3_train_score</th>\n",
              "      <th>split4_train_score</th>\n",
              "      <th>mean_train_score</th>\n",
              "      <th>std_train_score</th>\n",
              "    </tr>\n",
              "  </thead>\n",
              "  <tbody>\n",
              "    <tr>\n",
              "      <th>0</th>\n",
              "      <td>0.636404</td>\n",
              "      <td>0.125196</td>\n",
              "      <td>0.050183</td>\n",
              "      <td>0.015328</td>\n",
              "      <td>log2</td>\n",
              "      <td>299</td>\n",
              "      <td>{'max_features': 'log2', 'n_estimators': 299}</td>\n",
              "      <td>0.990291</td>\n",
              "      <td>0.980583</td>\n",
              "      <td>0.970588</td>\n",
              "      <td>...</td>\n",
              "      <td>0.968685</td>\n",
              "      <td>0.015741</td>\n",
              "      <td>6</td>\n",
              "      <td>1.0</td>\n",
              "      <td>1.0</td>\n",
              "      <td>1.0</td>\n",
              "      <td>1.0</td>\n",
              "      <td>1.0</td>\n",
              "      <td>1.0</td>\n",
              "      <td>0.0</td>\n",
              "    </tr>\n",
              "    <tr>\n",
              "      <th>1</th>\n",
              "      <td>0.709780</td>\n",
              "      <td>0.129302</td>\n",
              "      <td>0.055647</td>\n",
              "      <td>0.016472</td>\n",
              "      <td>auto</td>\n",
              "      <td>316</td>\n",
              "      <td>{'max_features': 'auto', 'n_estimators': 316}</td>\n",
              "      <td>0.990291</td>\n",
              "      <td>0.970874</td>\n",
              "      <td>0.970588</td>\n",
              "      <td>...</td>\n",
              "      <td>0.968704</td>\n",
              "      <td>0.013047</td>\n",
              "      <td>3</td>\n",
              "      <td>1.0</td>\n",
              "      <td>1.0</td>\n",
              "      <td>1.0</td>\n",
              "      <td>1.0</td>\n",
              "      <td>1.0</td>\n",
              "      <td>1.0</td>\n",
              "      <td>0.0</td>\n",
              "    </tr>\n",
              "    <tr>\n",
              "      <th>2</th>\n",
              "      <td>0.598668</td>\n",
              "      <td>0.147219</td>\n",
              "      <td>0.044129</td>\n",
              "      <td>0.013219</td>\n",
              "      <td>auto</td>\n",
              "      <td>295</td>\n",
              "      <td>{'max_features': 'auto', 'n_estimators': 295}</td>\n",
              "      <td>0.990291</td>\n",
              "      <td>0.980583</td>\n",
              "      <td>0.970588</td>\n",
              "      <td>...</td>\n",
              "      <td>0.970645</td>\n",
              "      <td>0.013919</td>\n",
              "      <td>1</td>\n",
              "      <td>1.0</td>\n",
              "      <td>1.0</td>\n",
              "      <td>1.0</td>\n",
              "      <td>1.0</td>\n",
              "      <td>1.0</td>\n",
              "      <td>1.0</td>\n",
              "      <td>0.0</td>\n",
              "    </tr>\n",
              "    <tr>\n",
              "      <th>3</th>\n",
              "      <td>1.134895</td>\n",
              "      <td>0.234901</td>\n",
              "      <td>0.081689</td>\n",
              "      <td>0.024001</td>\n",
              "      <td>sqrt</td>\n",
              "      <td>563</td>\n",
              "      <td>{'max_features': 'sqrt', 'n_estimators': 563}</td>\n",
              "      <td>0.990291</td>\n",
              "      <td>0.980583</td>\n",
              "      <td>0.970588</td>\n",
              "      <td>...</td>\n",
              "      <td>0.968685</td>\n",
              "      <td>0.015741</td>\n",
              "      <td>6</td>\n",
              "      <td>1.0</td>\n",
              "      <td>1.0</td>\n",
              "      <td>1.0</td>\n",
              "      <td>1.0</td>\n",
              "      <td>1.0</td>\n",
              "      <td>1.0</td>\n",
              "      <td>0.0</td>\n",
              "    </tr>\n",
              "    <tr>\n",
              "      <th>4</th>\n",
              "      <td>2.655288</td>\n",
              "      <td>1.338362</td>\n",
              "      <td>0.203501</td>\n",
              "      <td>0.098875</td>\n",
              "      <td>sqrt</td>\n",
              "      <td>969</td>\n",
              "      <td>{'max_features': 'sqrt', 'n_estimators': 969}</td>\n",
              "      <td>0.990291</td>\n",
              "      <td>0.970874</td>\n",
              "      <td>0.970588</td>\n",
              "      <td>...</td>\n",
              "      <td>0.968704</td>\n",
              "      <td>0.013047</td>\n",
              "      <td>3</td>\n",
              "      <td>1.0</td>\n",
              "      <td>1.0</td>\n",
              "      <td>1.0</td>\n",
              "      <td>1.0</td>\n",
              "      <td>1.0</td>\n",
              "      <td>1.0</td>\n",
              "      <td>0.0</td>\n",
              "    </tr>\n",
              "    <tr>\n",
              "      <th>5</th>\n",
              "      <td>1.244164</td>\n",
              "      <td>0.185224</td>\n",
              "      <td>0.159485</td>\n",
              "      <td>0.096220</td>\n",
              "      <td>sqrt</td>\n",
              "      <td>573</td>\n",
              "      <td>{'max_features': 'sqrt', 'n_estimators': 573}</td>\n",
              "      <td>0.990291</td>\n",
              "      <td>0.980583</td>\n",
              "      <td>0.970588</td>\n",
              "      <td>...</td>\n",
              "      <td>0.968685</td>\n",
              "      <td>0.015741</td>\n",
              "      <td>6</td>\n",
              "      <td>1.0</td>\n",
              "      <td>1.0</td>\n",
              "      <td>1.0</td>\n",
              "      <td>1.0</td>\n",
              "      <td>1.0</td>\n",
              "      <td>1.0</td>\n",
              "      <td>0.0</td>\n",
              "    </tr>\n",
              "    <tr>\n",
              "      <th>6</th>\n",
              "      <td>1.638416</td>\n",
              "      <td>0.510809</td>\n",
              "      <td>0.182238</td>\n",
              "      <td>0.105767</td>\n",
              "      <td>auto</td>\n",
              "      <td>695</td>\n",
              "      <td>{'max_features': 'auto', 'n_estimators': 695}</td>\n",
              "      <td>0.990291</td>\n",
              "      <td>0.980583</td>\n",
              "      <td>0.980392</td>\n",
              "      <td>...</td>\n",
              "      <td>0.970645</td>\n",
              "      <td>0.016451</td>\n",
              "      <td>1</td>\n",
              "      <td>1.0</td>\n",
              "      <td>1.0</td>\n",
              "      <td>1.0</td>\n",
              "      <td>1.0</td>\n",
              "      <td>1.0</td>\n",
              "      <td>1.0</td>\n",
              "      <td>0.0</td>\n",
              "    </tr>\n",
              "    <tr>\n",
              "      <th>7</th>\n",
              "      <td>1.561520</td>\n",
              "      <td>0.824692</td>\n",
              "      <td>0.094021</td>\n",
              "      <td>0.051435</td>\n",
              "      <td>sqrt</td>\n",
              "      <td>673</td>\n",
              "      <td>{'max_features': 'sqrt', 'n_estimators': 673}</td>\n",
              "      <td>0.990291</td>\n",
              "      <td>0.980583</td>\n",
              "      <td>0.970588</td>\n",
              "      <td>...</td>\n",
              "      <td>0.968685</td>\n",
              "      <td>0.015741</td>\n",
              "      <td>6</td>\n",
              "      <td>1.0</td>\n",
              "      <td>1.0</td>\n",
              "      <td>1.0</td>\n",
              "      <td>1.0</td>\n",
              "      <td>1.0</td>\n",
              "      <td>1.0</td>\n",
              "      <td>0.0</td>\n",
              "    </tr>\n",
              "    <tr>\n",
              "      <th>8</th>\n",
              "      <td>0.786226</td>\n",
              "      <td>0.007723</td>\n",
              "      <td>0.061635</td>\n",
              "      <td>0.004117</td>\n",
              "      <td>auto</td>\n",
              "      <td>563</td>\n",
              "      <td>{'max_features': 'auto', 'n_estimators': 563}</td>\n",
              "      <td>0.980583</td>\n",
              "      <td>0.980583</td>\n",
              "      <td>0.970588</td>\n",
              "      <td>...</td>\n",
              "      <td>0.966743</td>\n",
              "      <td>0.013377</td>\n",
              "      <td>10</td>\n",
              "      <td>1.0</td>\n",
              "      <td>1.0</td>\n",
              "      <td>1.0</td>\n",
              "      <td>1.0</td>\n",
              "      <td>1.0</td>\n",
              "      <td>1.0</td>\n",
              "      <td>0.0</td>\n",
              "    </tr>\n",
              "    <tr>\n",
              "      <th>9</th>\n",
              "      <td>0.236113</td>\n",
              "      <td>0.004145</td>\n",
              "      <td>0.018500</td>\n",
              "      <td>0.001182</td>\n",
              "      <td>auto</td>\n",
              "      <td>170</td>\n",
              "      <td>{'max_features': 'auto', 'n_estimators': 170}</td>\n",
              "      <td>0.990291</td>\n",
              "      <td>0.970874</td>\n",
              "      <td>0.980392</td>\n",
              "      <td>...</td>\n",
              "      <td>0.968704</td>\n",
              "      <td>0.015720</td>\n",
              "      <td>3</td>\n",
              "      <td>1.0</td>\n",
              "      <td>1.0</td>\n",
              "      <td>1.0</td>\n",
              "      <td>1.0</td>\n",
              "      <td>1.0</td>\n",
              "      <td>1.0</td>\n",
              "      <td>0.0</td>\n",
              "    </tr>\n",
              "  </tbody>\n",
              "</table>\n",
              "<p>10 rows × 22 columns</p>\n",
              "</div>\n",
              "      <button class=\"colab-df-convert\" onclick=\"convertToInteractive('df-bd20bac9-322a-4203-a657-8a646a7afe36')\"\n",
              "              title=\"Convert this dataframe to an interactive table.\"\n",
              "              style=\"display:none;\">\n",
              "        \n",
              "  <svg xmlns=\"http://www.w3.org/2000/svg\" height=\"24px\"viewBox=\"0 0 24 24\"\n",
              "       width=\"24px\">\n",
              "    <path d=\"M0 0h24v24H0V0z\" fill=\"none\"/>\n",
              "    <path d=\"M18.56 5.44l.94 2.06.94-2.06 2.06-.94-2.06-.94-.94-2.06-.94 2.06-2.06.94zm-11 1L8.5 8.5l.94-2.06 2.06-.94-2.06-.94L8.5 2.5l-.94 2.06-2.06.94zm10 10l.94 2.06.94-2.06 2.06-.94-2.06-.94-.94-2.06-.94 2.06-2.06.94z\"/><path d=\"M17.41 7.96l-1.37-1.37c-.4-.4-.92-.59-1.43-.59-.52 0-1.04.2-1.43.59L10.3 9.45l-7.72 7.72c-.78.78-.78 2.05 0 2.83L4 21.41c.39.39.9.59 1.41.59.51 0 1.02-.2 1.41-.59l7.78-7.78 2.81-2.81c.8-.78.8-2.07 0-2.86zM5.41 20L4 18.59l7.72-7.72 1.47 1.35L5.41 20z\"/>\n",
              "  </svg>\n",
              "      </button>\n",
              "      \n",
              "  <style>\n",
              "    .colab-df-container {\n",
              "      display:flex;\n",
              "      flex-wrap:wrap;\n",
              "      gap: 12px;\n",
              "    }\n",
              "\n",
              "    .colab-df-convert {\n",
              "      background-color: #E8F0FE;\n",
              "      border: none;\n",
              "      border-radius: 50%;\n",
              "      cursor: pointer;\n",
              "      display: none;\n",
              "      fill: #1967D2;\n",
              "      height: 32px;\n",
              "      padding: 0 0 0 0;\n",
              "      width: 32px;\n",
              "    }\n",
              "\n",
              "    .colab-df-convert:hover {\n",
              "      background-color: #E2EBFA;\n",
              "      box-shadow: 0px 1px 2px rgba(60, 64, 67, 0.3), 0px 1px 3px 1px rgba(60, 64, 67, 0.15);\n",
              "      fill: #174EA6;\n",
              "    }\n",
              "\n",
              "    [theme=dark] .colab-df-convert {\n",
              "      background-color: #3B4455;\n",
              "      fill: #D2E3FC;\n",
              "    }\n",
              "\n",
              "    [theme=dark] .colab-df-convert:hover {\n",
              "      background-color: #434B5C;\n",
              "      box-shadow: 0px 1px 3px 1px rgba(0, 0, 0, 0.15);\n",
              "      filter: drop-shadow(0px 1px 2px rgba(0, 0, 0, 0.3));\n",
              "      fill: #FFFFFF;\n",
              "    }\n",
              "  </style>\n",
              "\n",
              "      <script>\n",
              "        const buttonEl =\n",
              "          document.querySelector('#df-bd20bac9-322a-4203-a657-8a646a7afe36 button.colab-df-convert');\n",
              "        buttonEl.style.display =\n",
              "          google.colab.kernel.accessAllowed ? 'block' : 'none';\n",
              "\n",
              "        async function convertToInteractive(key) {\n",
              "          const element = document.querySelector('#df-bd20bac9-322a-4203-a657-8a646a7afe36');\n",
              "          const dataTable =\n",
              "            await google.colab.kernel.invokeFunction('convertToInteractive',\n",
              "                                                     [key], {});\n",
              "          if (!dataTable) return;\n",
              "\n",
              "          const docLinkHtml = 'Like what you see? Visit the ' +\n",
              "            '<a target=\"_blank\" href=https://colab.research.google.com/notebooks/data_table.ipynb>data table notebook</a>'\n",
              "            + ' to learn more about interactive tables.';\n",
              "          element.innerHTML = '';\n",
              "          dataTable['output_type'] = 'display_data';\n",
              "          await google.colab.output.renderOutput(dataTable, element);\n",
              "          const docLink = document.createElement('div');\n",
              "          docLink.innerHTML = docLinkHtml;\n",
              "          element.appendChild(docLink);\n",
              "        }\n",
              "      </script>\n",
              "    </div>\n",
              "  </div>\n",
              "  "
            ]
          },
          "metadata": {},
          "execution_count": 290
        }
      ]
    },
    {
      "cell_type": "code",
      "source": [
        "import matplotlib.pyplot as plt\n",
        "plt.plot(result_grid['param_max_features'], \n",
        "         result_grid['mean_train_score'], label=\"Train\")\n",
        "plt.plot(result_grid['param_max_features'], \n",
        "         result_grid['mean_test_score'], label=\"Test\")\n",
        "plt.legend()"
      ],
      "metadata": {
        "colab": {
          "base_uri": "https://localhost:8080/",
          "height": 284
        },
        "id": "rHAED2ib3us2",
        "outputId": "0c3f764a-cd0a-4db3-b7a8-f8a6d822191c"
      },
      "execution_count": null,
      "outputs": [
        {
          "output_type": "execute_result",
          "data": {
            "text/plain": [
              "<matplotlib.legend.Legend at 0x7f4b3850e190>"
            ]
          },
          "metadata": {},
          "execution_count": 291
        },
        {
          "output_type": "display_data",
          "data": {
            "text/plain": [
              "<Figure size 432x288 with 1 Axes>"
            ],
            "image/png": "[encoded data removed]"
          },
          "metadata": {
            "needs_background": "light"
          }
        }
      ]
    },
    {
      "cell_type": "code",
      "source": [
        "import matplotlib.pyplot as plt\n",
        "plt.plot(result_grid['param_n_estimators'], \n",
        "         result_grid['mean_train_score'], label=\"Train\")\n",
        "plt.plot(result_grid['param_n_estimators'], \n",
        "         result_grid['mean_test_score'], label=\"Test\")\n",
        "plt.legend()"
      ],
      "metadata": {
        "colab": {
          "base_uri": "https://localhost:8080/",
          "height": 284
        },
        "id": "rk5CTeLR3wQt",
        "outputId": "a23cef0f-ede9-4bcd-b70c-40f08aa3fb3d"
      },
      "execution_count": null,
      "outputs": [
        {
          "output_type": "execute_result",
          "data": {
            "text/plain": [
              "<matplotlib.legend.Legend at 0x7f4b38491fd0>"
            ]
          },
          "metadata": {},
          "execution_count": 292
        },
        {
          "output_type": "display_data",
          "data": {
            "text/plain": [
              "<Figure size 432x288 with 1 Axes>"
            ],
            "image/png": "[encoded data removed]"
          },
          "metadata": {
            "needs_background": "light"
          }
        }
      ]
    },
    {
      "cell_type": "markdown",
      "source": [
        "###변수중요도"
      ],
      "metadata": {
        "id": "QC072OEOacVA"
      }
    },
    {
      "cell_type": "code",
      "source": [
        "from sklearn.ensemble import RandomForestClassifier\n",
        "Forest=RandomForestClassifier(max_features='sqrt', n_estimators=793)\n",
        "Forest.fit(X_train, y_train)\n",
        "print(\"특성 중요도:\\n{}\".format(Forest.feature_importances_))"
      ],
      "metadata": {
        "colab": {
          "base_uri": "https://localhost:8080/"
        },
        "id": "5EIvjMRJ3xYL",
        "outputId": "0476931c-8a2f-46f6-c97c-a82642546c55"
      },
      "execution_count": null,
      "outputs": [
        {
          "output_type": "stream",
          "name": "stdout",
          "text": [
            "특성 중요도:\n",
            "[0.04517564 0.22480401 0.26062072 0.02903873 0.08091727 0.22513447\n",
            " 0.07914054 0.04575653 0.00941209]\n"
          ]
        }
      ]
    },
    {
      "cell_type": "code",
      "source": [
        "def plot_feature_importances_forest(model):\n",
        "    n_features = X.shape[1]\n",
        "    plt.barh(range(n_features), model.feature_importances_, align='center')\n",
        "    plt.yticks(np.arange(n_features), X.columns)\n",
        "    plt.xlabel(\"Importance\")\n",
        "    plt.ylabel(\"Features\")\n",
        "    plt.ylim(-1, n_features)\n",
        "\n",
        "plot_feature_importances_forest(Forest)"
      ],
      "metadata": {
        "colab": {
          "base_uri": "https://localhost:8080/",
          "height": 279
        },
        "id": "JwRBAMGM33fP",
        "outputId": "e2b16647-8acb-4c79-aa15-8d0d991b7dce"
      },
      "execution_count": null,
      "outputs": [
        {
          "output_type": "display_data",
          "data": {
            "text/plain": [
              "<Figure size 432x288 with 1 Axes>"
            ],
            "image/png": "[encoded data removed]"
          },
          "metadata": {
            "needs_background": "light"
          }
        }
      ]
    },
    {
      "cell_type": "markdown",
      "source": [
        "##모델평가"
      ],
      "metadata": {
        "id": "23gA5VDu36BB"
      }
    },
    {
      "cell_type": "code",
      "source": [
        "from sklearn.ensemble import RandomForestClassifier\n",
        "Forest=RandomForestClassifier(max_features='sqrt', n_estimators=793)\n",
        "Forest.fit(X_train, y_train)\n",
        "from sklearn.metrics import confusion_matrix"
      ],
      "metadata": {
        "id": "Ol8svl0Q34iC"
      },
      "execution_count": null,
      "outputs": []
    },
    {
      "cell_type": "code",
      "source": [
        "pred_train=Forest.predict(X_train)\n",
        "confusion_train=confusion_matrix(y_train, pred_train)\n",
        "print(\"훈련데이터 오차행렬:\\n\", confusion_train)"
      ],
      "metadata": {
        "colab": {
          "base_uri": "https://localhost:8080/"
        },
        "id": "yPYcZhZf3_YG",
        "outputId": "b7ea554f-44ec-4f18-a901-20907eb2ec2a"
      },
      "execution_count": null,
      "outputs": [
        {
          "output_type": "stream",
          "name": "stdout",
          "text": [
            "훈련데이터 오차행렬:\n",
            " [[333   0]\n",
            " [  0 179]]\n"
          ]
        }
      ]
    },
    {
      "cell_type": "code",
      "source": [
        "pred_test=Forest.predict(X_test)\n",
        "confusion_test=confusion_matrix(y_test, pred_test)\n",
        "print(\"테스트 데이터 오차행렬:\\n\", confusion_test)"
      ],
      "metadata": {
        "colab": {
          "base_uri": "https://localhost:8080/"
        },
        "id": "l4n7ONES4Czn",
        "outputId": "d59f3f5b-35f0-440a-c045-54ca1399993f"
      },
      "execution_count": null,
      "outputs": [
        {
          "output_type": "stream",
          "name": "stdout",
          "text": [
            "테스트 데이터 오차행렬:\n",
            " [[106   5]\n",
            " [  1  59]]\n"
          ]
        }
      ]
    },
    {
      "cell_type": "code",
      "source": [
        "from sklearn.metrics import f1_score\n",
        "f1=f1_score(y_test, pred_test)\n",
        "print(\"f1 score:\\n\", f1)\n",
        "cfreport=classification_report(y_test, pred_test)\n",
        "print(\"분류예측 레포트:\\n\", cfreport)"
      ],
      "metadata": {
        "colab": {
          "base_uri": "https://localhost:8080/"
        },
        "id": "QiReNybt4EKy",
        "outputId": "8f15f4bd-2717-44ab-db24-9583e1122c09"
      },
      "execution_count": null,
      "outputs": [
        {
          "output_type": "stream",
          "name": "stdout",
          "text": [
            "f1 score:\n",
            " 0.9516129032258064\n",
            "분류예측 레포트:\n",
            "               precision    recall  f1-score   support\n",
            "\n",
            "           0       0.99      0.95      0.97       111\n",
            "           1       0.92      0.98      0.95        60\n",
            "\n",
            "    accuracy                           0.96       171\n",
            "   macro avg       0.96      0.97      0.96       171\n",
            "weighted avg       0.97      0.96      0.97       171\n",
            "\n"
          ]
        }
      ]
    },
    {
      "cell_type": "markdown",
      "source": [
        "#로지스틱회귀분석"
      ],
      "metadata": {
        "id": "sTDvS6di4Zsv"
      }
    },
    {
      "cell_type": "code",
      "source": [
        "features = data[[ 'code', 'Clump_Thickness', 'Cell_Size', 'Cell_Shape',\n",
        "       'Marginal_Adhesion', 'Single_Epithelial_Cell_Size', 'Bare_Nuclei',\n",
        "       'Bland_Chromatin', 'Normal_Nucleoli', 'Mitoses']]\n",
        "survival = data['Class']"
      ],
      "metadata": {
        "id": "tYxRV0dO4tRs"
      },
      "execution_count": null,
      "outputs": []
    },
    {
      "cell_type": "code",
      "source": [
        "from sklearn.model_selection import train_test_split\n",
        "train_features, test_features, train_labels, test_labels = train_test_split(features, survival)\n",
        "from sklearn.preprocessing import StandardScaler\n",
        "scaler = StandardScaler()\n",
        "train_features = scaler.fit_transform(train_features)\n",
        "test_features = scaler.transform(test_features)"
      ],
      "metadata": {
        "id": "uu71P2hW4Jc7"
      },
      "execution_count": null,
      "outputs": []
    },
    {
      "cell_type": "code",
      "source": [
        "from sklearn.linear_model import LogisticRegression\n",
        "model = LogisticRegression()\n",
        "model.fit(train_features, train_labels)"
      ],
      "metadata": {
        "colab": {
          "base_uri": "https://localhost:8080/"
        },
        "id": "L-R9YMNu4otW",
        "outputId": "8ff7580a-6f9e-45ab-8749-c3ff08c801d8"
      },
      "execution_count": null,
      "outputs": [
        {
          "output_type": "execute_result",
          "data": {
            "text/plain": [
              "LogisticRegression()"
            ]
          },
          "metadata": {},
          "execution_count": 304
        }
      ]
    },
    {
      "cell_type": "code",
      "source": [
        "print(model.score(train_features, train_labels))\n",
        "print(model.score(test_features, test_labels))\n",
        "print(model.coef_)"
      ],
      "metadata": {
        "colab": {
          "base_uri": "https://localhost:8080/"
        },
        "id": "mx0-Q_6s42vQ",
        "outputId": "958e8fce-c3cc-4786-be87-b3f92e893618"
      },
      "execution_count": null,
      "outputs": [
        {
          "output_type": "stream",
          "name": "stdout",
          "text": [
            "0.96875\n",
            "0.9766081871345029\n",
            "[[-0.03793358  1.27552917  0.23383434  0.86620027  0.83693321  0.23602742\n",
            "   1.00387462  1.0146153   0.52222665  0.65767611]]\n"
          ]
        }
      ]
    },
    {
      "cell_type": "markdown",
      "source": [
        "회귀분석/변수 중요도 : \n",
        "1. Bland_Chromatin\n",
        "2. Clump_Thickness\n",
        "3. Bare_Nuclei"
      ],
      "metadata": {
        "id": "n5IM-Xhq5ltS"
      }
    },
    {
      "cell_type": "code",
      "source": [],
      "metadata": {
        "id": "7SzCgdPy5A-y"
      },
      "execution_count": null,
      "outputs": []
    }
  ]
}